{
 "cells": [
  {
   "cell_type": "markdown",
   "metadata": {},
   "source": [
    "## Development of the parts tree search"
   ]
  },
  {
   "cell_type": "code",
   "execution_count": 1,
   "metadata": {},
   "outputs": [],
   "source": [
    "# take NOUN and search for it in the parts tree DESCRIPTION, return the best match (max characters matching)\n",
    "\n",
    "# for the best match DESCRIPTION, search up the parts tree, checking each higher level for a match to Objects\n",
    "\n",
    "import pandas as pd\n",
    "import numpy as np\n",
    "\n",
    "pt_df = pd.read_csv('UH60_parts_tree.csv')"
   ]
  },
  {
   "cell_type": "code",
   "execution_count": 2,
   "metadata": {},
   "outputs": [],
   "source": [
    "#remove the leading single quote from the RFG codes\n",
    "pt_df['RFG'] = pt_df['RFG'].str.replace(\"'\", \"\")"
   ]
  },
  {
   "cell_type": "code",
   "execution_count": 3,
   "metadata": {},
   "outputs": [
    {
     "data": {
      "text/html": [
       "<div>\n",
       "<style scoped>\n",
       "    .dataframe tbody tr th:only-of-type {\n",
       "        vertical-align: middle;\n",
       "    }\n",
       "\n",
       "    .dataframe tbody tr th {\n",
       "        vertical-align: top;\n",
       "    }\n",
       "\n",
       "    .dataframe thead th {\n",
       "        text-align: right;\n",
       "    }\n",
       "</style>\n",
       "<table border=\"1\" class=\"dataframe\">\n",
       "  <thead>\n",
       "    <tr style=\"text-align: right;\">\n",
       "      <th></th>\n",
       "      <th>RFG</th>\n",
       "      <th>DESCRIPTION</th>\n",
       "    </tr>\n",
       "  </thead>\n",
       "  <tbody>\n",
       "    <tr>\n",
       "      <td>0</td>\n",
       "      <td>00</td>\n",
       "      <td>Utility Helicopter</td>\n",
       "    </tr>\n",
       "    <tr>\n",
       "      <td>1</td>\n",
       "      <td>01</td>\n",
       "      <td>Admin</td>\n",
       "    </tr>\n",
       "    <tr>\n",
       "      <td>2</td>\n",
       "      <td>02</td>\n",
       "      <td>Airframe</td>\n",
       "    </tr>\n",
       "    <tr>\n",
       "      <td>3</td>\n",
       "      <td>02_10HR-14DAY</td>\n",
       "      <td>10 Hour/14 Day Run-up</td>\n",
       "    </tr>\n",
       "    <tr>\n",
       "      <td>4</td>\n",
       "      <td>02_120HR</td>\n",
       "      <td>120 Hour Inspection</td>\n",
       "    </tr>\n",
       "    <tr>\n",
       "      <td>5</td>\n",
       "      <td>02_327FRAME</td>\n",
       "      <td>Inspect Frame Station 327  for Cracks</td>\n",
       "    </tr>\n",
       "    <tr>\n",
       "      <td>6</td>\n",
       "      <td>02_360HR</td>\n",
       "      <td>PMI 1</td>\n",
       "    </tr>\n",
       "    <tr>\n",
       "      <td>7</td>\n",
       "      <td>02_40HR</td>\n",
       "      <td>40 Hour Inspection</td>\n",
       "    </tr>\n",
       "    <tr>\n",
       "      <td>8</td>\n",
       "      <td>02_6MONTH</td>\n",
       "      <td>6 MONTH INSPECTION</td>\n",
       "    </tr>\n",
       "    <tr>\n",
       "      <td>9</td>\n",
       "      <td>02_90DAY_CCI</td>\n",
       "      <td>90 Day Corrosion Inspection</td>\n",
       "    </tr>\n",
       "    <tr>\n",
       "      <td>10</td>\n",
       "      <td>02_ACCEPT</td>\n",
       "      <td>Acceptance Inspection and Test Flight</td>\n",
       "    </tr>\n",
       "    <tr>\n",
       "      <td>11</td>\n",
       "      <td>02_ACE</td>\n",
       "      <td>ACE Inspection</td>\n",
       "    </tr>\n",
       "    <tr>\n",
       "      <td>12</td>\n",
       "      <td>02_PMD</td>\n",
       "      <td>Preventative Maintenance Daily</td>\n",
       "    </tr>\n",
       "    <tr>\n",
       "      <td>13</td>\n",
       "      <td>02_PMI2</td>\n",
       "      <td>PMI 2</td>\n",
       "    </tr>\n",
       "    <tr>\n",
       "      <td>14</td>\n",
       "      <td>02_RESET</td>\n",
       "      <td>RESET INSPECTION</td>\n",
       "    </tr>\n",
       "    <tr>\n",
       "      <td>15</td>\n",
       "      <td>02_WASH</td>\n",
       "      <td>Aircraft Wash</td>\n",
       "    </tr>\n",
       "    <tr>\n",
       "      <td>16</td>\n",
       "      <td>02_WB</td>\n",
       "      <td>Aircraft Weight and Balance</td>\n",
       "    </tr>\n",
       "    <tr>\n",
       "      <td>17</td>\n",
       "      <td>02A</td>\n",
       "      <td>Forward Fuselage Section</td>\n",
       "    </tr>\n",
       "    <tr>\n",
       "      <td>18</td>\n",
       "      <td>02A01</td>\n",
       "      <td>Window/Windshield Installation</td>\n",
       "    </tr>\n",
       "    <tr>\n",
       "      <td>19</td>\n",
       "      <td>02A01A</td>\n",
       "      <td>Pilots Windshield</td>\n",
       "    </tr>\n",
       "    <tr>\n",
       "      <td>20</td>\n",
       "      <td>02A01B</td>\n",
       "      <td>Co-Pilots Windshield</td>\n",
       "    </tr>\n",
       "    <tr>\n",
       "      <td>21</td>\n",
       "      <td>02A01C</td>\n",
       "      <td>Upper Overhead Window</td>\n",
       "    </tr>\n",
       "    <tr>\n",
       "      <td>22</td>\n",
       "      <td>02A01D</td>\n",
       "      <td>Lower Nose Window</td>\n",
       "    </tr>\n",
       "    <tr>\n",
       "      <td>23</td>\n",
       "      <td>02A01E</td>\n",
       "      <td>Center Panel Windshield</td>\n",
       "    </tr>\n",
       "    <tr>\n",
       "      <td>24</td>\n",
       "      <td>02A02</td>\n",
       "      <td>Fwd Fuselage Door Installation</td>\n",
       "    </tr>\n",
       "  </tbody>\n",
       "</table>\n",
       "</div>"
      ],
      "text/plain": [
       "              RFG                            DESCRIPTION\n",
       "0              00                     Utility Helicopter\n",
       "1              01                                  Admin\n",
       "2              02                               Airframe\n",
       "3   02_10HR-14DAY                  10 Hour/14 Day Run-up\n",
       "4        02_120HR                    120 Hour Inspection\n",
       "5     02_327FRAME  Inspect Frame Station 327  for Cracks\n",
       "6        02_360HR                                  PMI 1\n",
       "7         02_40HR                     40 Hour Inspection\n",
       "8       02_6MONTH                     6 MONTH INSPECTION\n",
       "9    02_90DAY_CCI            90 Day Corrosion Inspection\n",
       "10      02_ACCEPT  Acceptance Inspection and Test Flight\n",
       "11         02_ACE                         ACE Inspection\n",
       "12         02_PMD         Preventative Maintenance Daily\n",
       "13        02_PMI2                                  PMI 2\n",
       "14       02_RESET                       RESET INSPECTION\n",
       "15        02_WASH                          Aircraft Wash\n",
       "16          02_WB            Aircraft Weight and Balance\n",
       "17            02A               Forward Fuselage Section\n",
       "18          02A01         Window/Windshield Installation\n",
       "19         02A01A                      Pilots Windshield\n",
       "20         02A01B                   Co-Pilots Windshield\n",
       "21         02A01C                  Upper Overhead Window\n",
       "22         02A01D                      Lower Nose Window\n",
       "23         02A01E                Center Panel Windshield\n",
       "24          02A02         Fwd Fuselage Door Installation"
      ]
     },
     "execution_count": 3,
     "metadata": {},
     "output_type": "execute_result"
    }
   ],
   "source": [
    "pt_df.head(25)"
   ]
  },
  {
   "cell_type": "code",
   "execution_count": 6,
   "metadata": {},
   "outputs": [],
   "source": [
    "# remove the non-parts related rows\n",
    "# Drop rows 1 and 3:14 in place\n",
    "pt_df.drop(pt_df.index[[1, 3,4,5,6,7,8,9,10,11,12,13,14], ], axis=0, inplace=True)\n",
    "pt_df.reset_index(drop=True, inplace=True)"
   ]
  },
  {
   "cell_type": "code",
   "execution_count": 7,
   "metadata": {},
   "outputs": [
    {
     "data": {
      "text/html": [
       "<div>\n",
       "<style scoped>\n",
       "    .dataframe tbody tr th:only-of-type {\n",
       "        vertical-align: middle;\n",
       "    }\n",
       "\n",
       "    .dataframe tbody tr th {\n",
       "        vertical-align: top;\n",
       "    }\n",
       "\n",
       "    .dataframe thead th {\n",
       "        text-align: right;\n",
       "    }\n",
       "</style>\n",
       "<table border=\"1\" class=\"dataframe\">\n",
       "  <thead>\n",
       "    <tr style=\"text-align: right;\">\n",
       "      <th></th>\n",
       "      <th>RFG</th>\n",
       "      <th>DESCRIPTION</th>\n",
       "    </tr>\n",
       "  </thead>\n",
       "  <tbody>\n",
       "    <tr>\n",
       "      <td>0</td>\n",
       "      <td>00</td>\n",
       "      <td>Utility Helicopter</td>\n",
       "    </tr>\n",
       "    <tr>\n",
       "      <td>1</td>\n",
       "      <td>02</td>\n",
       "      <td>Airframe</td>\n",
       "    </tr>\n",
       "    <tr>\n",
       "      <td>2</td>\n",
       "      <td>02_WASH</td>\n",
       "      <td>Aircraft Wash</td>\n",
       "    </tr>\n",
       "    <tr>\n",
       "      <td>3</td>\n",
       "      <td>02_WB</td>\n",
       "      <td>Aircraft Weight and Balance</td>\n",
       "    </tr>\n",
       "    <tr>\n",
       "      <td>4</td>\n",
       "      <td>02A</td>\n",
       "      <td>Forward Fuselage Section</td>\n",
       "    </tr>\n",
       "    <tr>\n",
       "      <td>5</td>\n",
       "      <td>02A01</td>\n",
       "      <td>Window/Windshield Installation</td>\n",
       "    </tr>\n",
       "    <tr>\n",
       "      <td>6</td>\n",
       "      <td>02A01A</td>\n",
       "      <td>Pilots Windshield</td>\n",
       "    </tr>\n",
       "    <tr>\n",
       "      <td>7</td>\n",
       "      <td>02A01B</td>\n",
       "      <td>Co-Pilots Windshield</td>\n",
       "    </tr>\n",
       "    <tr>\n",
       "      <td>8</td>\n",
       "      <td>02A01C</td>\n",
       "      <td>Upper Overhead Window</td>\n",
       "    </tr>\n",
       "    <tr>\n",
       "      <td>9</td>\n",
       "      <td>02A01D</td>\n",
       "      <td>Lower Nose Window</td>\n",
       "    </tr>\n",
       "  </tbody>\n",
       "</table>\n",
       "</div>"
      ],
      "text/plain": [
       "       RFG                     DESCRIPTION\n",
       "0       00              Utility Helicopter\n",
       "1       02                        Airframe\n",
       "2  02_WASH                   Aircraft Wash\n",
       "3    02_WB     Aircraft Weight and Balance\n",
       "4      02A        Forward Fuselage Section\n",
       "5    02A01  Window/Windshield Installation\n",
       "6   02A01A               Pilots Windshield\n",
       "7   02A01B            Co-Pilots Windshield\n",
       "8   02A01C           Upper Overhead Window\n",
       "9   02A01D               Lower Nose Window"
      ]
     },
     "execution_count": 7,
     "metadata": {},
     "output_type": "execute_result"
    }
   ],
   "source": [
    "pt_df.head(10)"
   ]
  },
  {
   "cell_type": "code",
   "execution_count": 8,
   "metadata": {},
   "outputs": [
    {
     "name": "stdout",
     "output_type": "stream",
     "text": [
      "[['02', '01', '02']] [['A', 'C', 'B']]\n"
     ]
    }
   ],
   "source": [
    "# split the text and numbers\n",
    "# max RFG coding is 6 levels deep (dwdwdw)\n",
    "# Using re.findall() \n",
    "import re\n",
    "# Splitting text and number in string \n",
    "test_str = '02A01C02B'\n",
    "res_d = [re.findall(r'([0-9]+)', test_str) ] #finds all digit groups, returns a list\n",
    "res_w = [re.findall(r'([a-zA-Z]+)', test_str) ] #finds all word groups, returns a list\n",
    "\n",
    "print(res_d, res_w)"
   ]
  },
  {
   "cell_type": "code",
   "execution_count": 9,
   "metadata": {},
   "outputs": [],
   "source": [
    "import re\n",
    "# need a six layer index for each part\n",
    "mi_list = []\n",
    "for code in pt_df['RFG'].values:\n",
    "    res_d = re.findall(r'([0-9]+)', str(code)) #finds all digit groups, returns a list\n",
    "    res_w = re.findall(r'([a-zA-Z]+)', str(code)) #finds all word groups, returns a list\n",
    "    tree_depth = len(res_d) + len(res_w) # gets the depth of the tree for this part\n",
    "    if tree_depth == 6:\n",
    "        mi_list.append([res_d[0],res_w[0],res_d[1],res_w[1],res_d[2],res_w[2]])\n",
    "    elif tree_depth == 5:\n",
    "        mi_list.append([res_d[0],res_w[0],res_d[1],res_w[1],res_d[2], float(\"NaN\")])\n",
    "    elif tree_depth == 4:\n",
    "        mi_list.append([res_d[0],res_w[0],res_d[1],res_w[1],float(\"NaN\"),float(\"NaN\")])      \n",
    "    elif tree_depth == 3:\n",
    "        mi_list.append([res_d[0],res_w[0],res_d[1],float(\"NaN\"),float(\"NaN\"),float(\"NaN\")]) \n",
    "    elif tree_depth == 2:\n",
    "        mi_list.append([res_d[0],res_w[0],float(\"NaN\"),float(\"NaN\"),float(\"NaN\"),float(\"NaN\")]) \n",
    "    elif tree_depth == 1:\n",
    "        mi_list.append([res_d[0],float(\"NaN\"),float(\"NaN\"),float(\"NaN\"),float(\"NaN\"),float(\"NaN\")]) "
   ]
  },
  {
   "cell_type": "code",
   "execution_count": 10,
   "metadata": {},
   "outputs": [
    {
     "data": {
      "text/plain": [
       "[['00', nan, nan, nan, nan, nan],\n",
       " ['02', nan, nan, nan, nan, nan],\n",
       " ['02', 'WASH', nan, nan, nan, nan],\n",
       " ['02', 'WB', nan, nan, nan, nan],\n",
       " ['02', 'A', nan, nan, nan, nan],\n",
       " ['02', 'A', '01', nan, nan, nan],\n",
       " ['02', 'A', '01', 'A', nan, nan],\n",
       " ['02', 'A', '01', 'B', nan, nan],\n",
       " ['02', 'A', '01', 'C', nan, nan],\n",
       " ['02', 'A', '01', 'D', nan, nan]]"
      ]
     },
     "execution_count": 10,
     "metadata": {},
     "output_type": "execute_result"
    }
   ],
   "source": [
    "mi_list[:10]"
   ]
  },
  {
   "cell_type": "code",
   "execution_count": 11,
   "metadata": {},
   "outputs": [],
   "source": [
    "index_df = pd.DataFrame(mi_list, columns =['L1', 'L2', 'L3', 'L4', 'L5', 'L6'], dtype = str)"
   ]
  },
  {
   "cell_type": "code",
   "execution_count": 10,
   "metadata": {},
   "outputs": [],
   "source": [
    "#index = pd.MultiIndex.from_tuples(mi_list, names=['L1', 'L2', 'L3', 'L4', 'L5', 'L6'])"
   ]
  },
  {
   "cell_type": "code",
   "execution_count": 12,
   "metadata": {},
   "outputs": [
    {
     "data": {
      "text/html": [
       "<div>\n",
       "<style scoped>\n",
       "    .dataframe tbody tr th:only-of-type {\n",
       "        vertical-align: middle;\n",
       "    }\n",
       "\n",
       "    .dataframe tbody tr th {\n",
       "        vertical-align: top;\n",
       "    }\n",
       "\n",
       "    .dataframe thead th {\n",
       "        text-align: right;\n",
       "    }\n",
       "</style>\n",
       "<table border=\"1\" class=\"dataframe\">\n",
       "  <thead>\n",
       "    <tr style=\"text-align: right;\">\n",
       "      <th></th>\n",
       "      <th>L1</th>\n",
       "      <th>L2</th>\n",
       "      <th>L3</th>\n",
       "      <th>L4</th>\n",
       "      <th>L5</th>\n",
       "      <th>L6</th>\n",
       "    </tr>\n",
       "  </thead>\n",
       "  <tbody>\n",
       "    <tr>\n",
       "      <td>0</td>\n",
       "      <td>00</td>\n",
       "      <td>NaN</td>\n",
       "      <td>NaN</td>\n",
       "      <td>NaN</td>\n",
       "      <td>NaN</td>\n",
       "      <td>NaN</td>\n",
       "    </tr>\n",
       "    <tr>\n",
       "      <td>1</td>\n",
       "      <td>02</td>\n",
       "      <td>NaN</td>\n",
       "      <td>NaN</td>\n",
       "      <td>NaN</td>\n",
       "      <td>NaN</td>\n",
       "      <td>NaN</td>\n",
       "    </tr>\n",
       "    <tr>\n",
       "      <td>2</td>\n",
       "      <td>02</td>\n",
       "      <td>WASH</td>\n",
       "      <td>NaN</td>\n",
       "      <td>NaN</td>\n",
       "      <td>NaN</td>\n",
       "      <td>NaN</td>\n",
       "    </tr>\n",
       "    <tr>\n",
       "      <td>3</td>\n",
       "      <td>02</td>\n",
       "      <td>WB</td>\n",
       "      <td>NaN</td>\n",
       "      <td>NaN</td>\n",
       "      <td>NaN</td>\n",
       "      <td>NaN</td>\n",
       "    </tr>\n",
       "    <tr>\n",
       "      <td>4</td>\n",
       "      <td>02</td>\n",
       "      <td>A</td>\n",
       "      <td>NaN</td>\n",
       "      <td>NaN</td>\n",
       "      <td>NaN</td>\n",
       "      <td>NaN</td>\n",
       "    </tr>\n",
       "    <tr>\n",
       "      <td>...</td>\n",
       "      <td>...</td>\n",
       "      <td>...</td>\n",
       "      <td>...</td>\n",
       "      <td>...</td>\n",
       "      <td>...</td>\n",
       "      <td>...</td>\n",
       "    </tr>\n",
       "    <tr>\n",
       "      <td>1142</td>\n",
       "      <td>76</td>\n",
       "      <td>J</td>\n",
       "      <td>07</td>\n",
       "      <td>NaN</td>\n",
       "      <td>NaN</td>\n",
       "      <td>NaN</td>\n",
       "    </tr>\n",
       "    <tr>\n",
       "      <td>1143</td>\n",
       "      <td>80</td>\n",
       "      <td>NaN</td>\n",
       "      <td>NaN</td>\n",
       "      <td>NaN</td>\n",
       "      <td>NaN</td>\n",
       "      <td>NaN</td>\n",
       "    </tr>\n",
       "    <tr>\n",
       "      <td>1144</td>\n",
       "      <td>82</td>\n",
       "      <td>NaN</td>\n",
       "      <td>NaN</td>\n",
       "      <td>NaN</td>\n",
       "      <td>NaN</td>\n",
       "      <td>NaN</td>\n",
       "    </tr>\n",
       "    <tr>\n",
       "      <td>1145</td>\n",
       "      <td>83</td>\n",
       "      <td>NaN</td>\n",
       "      <td>NaN</td>\n",
       "      <td>NaN</td>\n",
       "      <td>NaN</td>\n",
       "      <td>NaN</td>\n",
       "    </tr>\n",
       "    <tr>\n",
       "      <td>1146</td>\n",
       "      <td>99</td>\n",
       "      <td>NaN</td>\n",
       "      <td>NaN</td>\n",
       "      <td>NaN</td>\n",
       "      <td>NaN</td>\n",
       "      <td>NaN</td>\n",
       "    </tr>\n",
       "  </tbody>\n",
       "</table>\n",
       "<p>1147 rows × 6 columns</p>\n",
       "</div>"
      ],
      "text/plain": [
       "      L1    L2   L3   L4   L5   L6\n",
       "0     00   NaN  NaN  NaN  NaN  NaN\n",
       "1     02   NaN  NaN  NaN  NaN  NaN\n",
       "2     02  WASH  NaN  NaN  NaN  NaN\n",
       "3     02    WB  NaN  NaN  NaN  NaN\n",
       "4     02     A  NaN  NaN  NaN  NaN\n",
       "...   ..   ...  ...  ...  ...  ...\n",
       "1142  76     J   07  NaN  NaN  NaN\n",
       "1143  80   NaN  NaN  NaN  NaN  NaN\n",
       "1144  82   NaN  NaN  NaN  NaN  NaN\n",
       "1145  83   NaN  NaN  NaN  NaN  NaN\n",
       "1146  99   NaN  NaN  NaN  NaN  NaN\n",
       "\n",
       "[1147 rows x 6 columns]"
      ]
     },
     "execution_count": 12,
     "metadata": {},
     "output_type": "execute_result"
    }
   ],
   "source": [
    "index_df"
   ]
  },
  {
   "cell_type": "code",
   "execution_count": 13,
   "metadata": {},
   "outputs": [],
   "source": [
    "df = pd.concat([index_df, pt_df], axis=1)"
   ]
  },
  {
   "cell_type": "code",
   "execution_count": 14,
   "metadata": {},
   "outputs": [
    {
     "data": {
      "text/html": [
       "<div>\n",
       "<style scoped>\n",
       "    .dataframe tbody tr th:only-of-type {\n",
       "        vertical-align: middle;\n",
       "    }\n",
       "\n",
       "    .dataframe tbody tr th {\n",
       "        vertical-align: top;\n",
       "    }\n",
       "\n",
       "    .dataframe thead th {\n",
       "        text-align: right;\n",
       "    }\n",
       "</style>\n",
       "<table border=\"1\" class=\"dataframe\">\n",
       "  <thead>\n",
       "    <tr style=\"text-align: right;\">\n",
       "      <th></th>\n",
       "      <th>L1</th>\n",
       "      <th>L2</th>\n",
       "      <th>L3</th>\n",
       "      <th>L4</th>\n",
       "      <th>L5</th>\n",
       "      <th>L6</th>\n",
       "      <th>RFG</th>\n",
       "      <th>DESCRIPTION</th>\n",
       "    </tr>\n",
       "  </thead>\n",
       "  <tbody>\n",
       "    <tr>\n",
       "      <td>0</td>\n",
       "      <td>00</td>\n",
       "      <td>NaN</td>\n",
       "      <td>NaN</td>\n",
       "      <td>NaN</td>\n",
       "      <td>NaN</td>\n",
       "      <td>NaN</td>\n",
       "      <td>00</td>\n",
       "      <td>utility helicopter</td>\n",
       "    </tr>\n",
       "    <tr>\n",
       "      <td>1</td>\n",
       "      <td>02</td>\n",
       "      <td>NaN</td>\n",
       "      <td>NaN</td>\n",
       "      <td>NaN</td>\n",
       "      <td>NaN</td>\n",
       "      <td>NaN</td>\n",
       "      <td>02</td>\n",
       "      <td>airframe</td>\n",
       "    </tr>\n",
       "    <tr>\n",
       "      <td>2</td>\n",
       "      <td>02</td>\n",
       "      <td>WASH</td>\n",
       "      <td>NaN</td>\n",
       "      <td>NaN</td>\n",
       "      <td>NaN</td>\n",
       "      <td>NaN</td>\n",
       "      <td>02_WASH</td>\n",
       "      <td>aircraft wash</td>\n",
       "    </tr>\n",
       "    <tr>\n",
       "      <td>3</td>\n",
       "      <td>02</td>\n",
       "      <td>WB</td>\n",
       "      <td>NaN</td>\n",
       "      <td>NaN</td>\n",
       "      <td>NaN</td>\n",
       "      <td>NaN</td>\n",
       "      <td>02_WB</td>\n",
       "      <td>aircraft weight and balance</td>\n",
       "    </tr>\n",
       "    <tr>\n",
       "      <td>4</td>\n",
       "      <td>02</td>\n",
       "      <td>A</td>\n",
       "      <td>NaN</td>\n",
       "      <td>NaN</td>\n",
       "      <td>NaN</td>\n",
       "      <td>NaN</td>\n",
       "      <td>02A</td>\n",
       "      <td>forward fuselage section</td>\n",
       "    </tr>\n",
       "    <tr>\n",
       "      <td>...</td>\n",
       "      <td>...</td>\n",
       "      <td>...</td>\n",
       "      <td>...</td>\n",
       "      <td>...</td>\n",
       "      <td>...</td>\n",
       "      <td>...</td>\n",
       "      <td>...</td>\n",
       "      <td>...</td>\n",
       "    </tr>\n",
       "    <tr>\n",
       "      <td>1142</td>\n",
       "      <td>76</td>\n",
       "      <td>J</td>\n",
       "      <td>07</td>\n",
       "      <td>NaN</td>\n",
       "      <td>NaN</td>\n",
       "      <td>NaN</td>\n",
       "      <td>76J07</td>\n",
       "      <td>cabn dispense &amp;amp;amp; safey switch, improved...</td>\n",
       "    </tr>\n",
       "    <tr>\n",
       "      <td>1143</td>\n",
       "      <td>80</td>\n",
       "      <td>NaN</td>\n",
       "      <td>NaN</td>\n",
       "      <td>NaN</td>\n",
       "      <td>NaN</td>\n",
       "      <td>NaN</td>\n",
       "      <td>80</td>\n",
       "      <td>special tools</td>\n",
       "    </tr>\n",
       "    <tr>\n",
       "      <td>1144</td>\n",
       "      <td>82</td>\n",
       "      <td>NaN</td>\n",
       "      <td>NaN</td>\n",
       "      <td>NaN</td>\n",
       "      <td>NaN</td>\n",
       "      <td>NaN</td>\n",
       "      <td>82</td>\n",
       "      <td>flyaway items</td>\n",
       "    </tr>\n",
       "    <tr>\n",
       "      <td>1145</td>\n",
       "      <td>83</td>\n",
       "      <td>NaN</td>\n",
       "      <td>NaN</td>\n",
       "      <td>NaN</td>\n",
       "      <td>NaN</td>\n",
       "      <td>NaN</td>\n",
       "      <td>83</td>\n",
       "      <td>ground support item</td>\n",
       "    </tr>\n",
       "    <tr>\n",
       "      <td>1146</td>\n",
       "      <td>99</td>\n",
       "      <td>NaN</td>\n",
       "      <td>NaN</td>\n",
       "      <td>NaN</td>\n",
       "      <td>NaN</td>\n",
       "      <td>NaN</td>\n",
       "      <td>99</td>\n",
       "      <td>hud</td>\n",
       "    </tr>\n",
       "  </tbody>\n",
       "</table>\n",
       "<p>1147 rows × 8 columns</p>\n",
       "</div>"
      ],
      "text/plain": [
       "      L1    L2   L3   L4   L5   L6      RFG  \\\n",
       "0     00   NaN  NaN  NaN  NaN  NaN       00   \n",
       "1     02   NaN  NaN  NaN  NaN  NaN       02   \n",
       "2     02  WASH  NaN  NaN  NaN  NaN  02_WASH   \n",
       "3     02    WB  NaN  NaN  NaN  NaN    02_WB   \n",
       "4     02     A  NaN  NaN  NaN  NaN      02A   \n",
       "...   ..   ...  ...  ...  ...  ...      ...   \n",
       "1142  76     J   07  NaN  NaN  NaN    76J07   \n",
       "1143  80   NaN  NaN  NaN  NaN  NaN       80   \n",
       "1144  82   NaN  NaN  NaN  NaN  NaN       82   \n",
       "1145  83   NaN  NaN  NaN  NaN  NaN       83   \n",
       "1146  99   NaN  NaN  NaN  NaN  NaN       99   \n",
       "\n",
       "                                            DESCRIPTION  \n",
       "0                                    utility helicopter  \n",
       "1                                              airframe  \n",
       "2                                         aircraft wash  \n",
       "3                           aircraft weight and balance  \n",
       "4                              forward fuselage section  \n",
       "...                                                 ...  \n",
       "1142  cabn dispense &amp;amp; safey switch, improved...  \n",
       "1143                                      special tools  \n",
       "1144                                      flyaway items  \n",
       "1145                                ground support item  \n",
       "1146                                                hud  \n",
       "\n",
       "[1147 rows x 8 columns]"
      ]
     },
     "execution_count": 14,
     "metadata": {},
     "output_type": "execute_result"
    }
   ],
   "source": [
    "df['DESCRIPTION'] = df['DESCRIPTION'].str.lower()\n",
    "df"
   ]
  },
  {
   "cell_type": "code",
   "execution_count": 15,
   "metadata": {},
   "outputs": [],
   "source": [
    "#df.to_csv(r'/Users/mh302/OneDrive - West Point/Backup/ORCEN/CPO/record_linkage/parts_tree_df.csv', encoding='utf-8', index=False)"
   ]
  },
  {
   "cell_type": "code",
   "execution_count": null,
   "metadata": {},
   "outputs": [],
   "source": [
    "# use multi-indexing in pandas to represent the parts tree\n",
    "# separate the WUCs into separate elements, by num and letter splitting\n",
    "# build a dictionary of the WUCs to part DESCRIPTION\n",
    "    # use the separated WUCs as tuples to generate keys\n",
    "    # the values are the DESCRIPTION\n",
    "# make a multi-index pandas df from the dictionary: pd.Series(dict)"
   ]
  },
  {
   "cell_type": "code",
   "execution_count": 16,
   "metadata": {},
   "outputs": [
    {
     "data": {
      "text/plain": [
       "0.8666666666666667"
      ]
     },
     "execution_count": 16,
     "metadata": {},
     "output_type": "execute_result"
    }
   ],
   "source": [
    "# with the best match DESCRIPTION, subset the multi-index df to the highest index for that DESCRIPTION\n",
    "# search for the best jaro-winkler score for both the tier 1 and tier 2 objects, store these scores\n",
    "    # https://pypi.org/project/textdistance/\n",
    "# show distribution of the scores\n",
    "# evaluate the winkler scores...ie above 0.3 is no match\n",
    "import textdistance as td\n",
    "td.jaro('test', 'text')\n",
    "td.jaro_winkler('test', 'text')"
   ]
  },
  {
   "cell_type": "code",
   "execution_count": 17,
   "metadata": {},
   "outputs": [],
   "source": [
    "# bring in cc data\n",
    "df_cc = pd.read_csv(r'UH60 Corrosion JAN 2000 to MAR 2019 (unfiltered)-Johns MacBook Pro.csv', encoding ='latin1', low_memory=False)"
   ]
  },
  {
   "cell_type": "code",
   "execution_count": 18,
   "metadata": {},
   "outputs": [],
   "source": [
    "cc_parts = list(set(df_cc['NOUN']))\n",
    "cc_parts_lower = []\n",
    "for part in cc_parts:\n",
    "    cc_parts_lower.append(part.lower())"
   ]
  },
  {
   "cell_type": "code",
   "execution_count": 19,
   "metadata": {},
   "outputs": [],
   "source": [
    "tree_parts = []\n",
    "for tree_part in df['DESCRIPTION'].values:\n",
    "    tree_parts.append(tree_part.lower())"
   ]
  },
  {
   "cell_type": "code",
   "execution_count": 20,
   "metadata": {},
   "outputs": [
    {
     "name": "stdout",
     "output_type": "stream",
     "text": [
      "['air data computer', 1] | air data computer\n",
      "['fire extinguisher', 0.7024509803921569] | inflight refueling probe\n",
      "['intermediate gearbox cover', 0.9538461538461538] | intermediate gearbox\n",
      "['power take-off drive, cold section module', 0.8926829268292683] | power takeoff drive\n",
      "['tail rotor boots and clamps', 0.8676328502415458] | tail rotor gearbox assy\n",
      "['accumulator, rotor brake', 0.8480303030303031] | accumulater, pneumatic\n",
      "['no. 3 ball bearing, cold section module', 0.8270487682252388] | no 6 ball bearing\n",
      "['generator current limiter', 0.872] | generator\n",
      "['glareshield', 0.7306818181818182] | gearshaft, bevel\n",
      "['stabilator amplifier, m/r primary controls', 0.87989417989418] | stabilator amplifier (dual)\n",
      "['stage 1 turbine disk, hot section module', 0.8242307692307693] | stage 5 blisk\n",
      "['tail pylon fitting', 1] | tail pylon fitting\n",
      "['data concentrator unit', 0.9913043478260869] | data  concentrator unit\n",
      "['fuel control hmu', 0.9777777777777777] | fuel control (hmu)\n",
      "['dc primary buss contactor', 0.706078431372549] | nut assy, main rotor\n",
      "['engine anti-ice system', 0.6578282828282828] | t700-ge-701c engine assy\n",
      "['anti-ice start bleed valve', 0.8791208791208791] | anti-ice valve\n",
      "['t/r gb', 0.6868686868686869] | t/r pitch change shaft\n",
      "['engine anti-ice system', 0.6531150009410879] | t706-ge-700 engine assy\n",
      "['tail rotor boots and clamps', 0.8901141743247006] | tail rotor blade assy\n",
      "['stage 1 fwd cooling plate, hot section module', 0.8348470209339773] | stg 1 aft cooling plate\n",
      "['no. 2 roller bearing, cold section module', 0.8569105691056911] | no 2 roller bearing\n",
      "['bearing, ball, annular, cold section module', 0.9023255813953489] | bearing, ball, annular\n",
      "['standard inertial nav system', 0.8245098039215687] | stand-by inst display\n",
      "['main transmission (xmsn)', 0.9166666666666666] | main transmission module\n",
      "['tail cone fitting', 1] | tail cone fitting\n",
      "['drain valves lh/rh, pitot static system', 0.6817094017094018] | shaft assy, t/r drv sec 1\n",
      "['stage 1 turbine disk, hot section module', 0.8446153846153847] | stage 1 blisk\n",
      "['master cylinder, rotor brake', 0.7619047619047619] | servo cylinder\n",
      "['stationary bearing, m/r controls', 0.7135740165631471] | piston, main l/gear str\n",
      "['ring accelerometers', 0.8483295194508009] | ring, spacer compressor\n",
      "['swashplate sensors', 0.9177777777777778] | swashplate assy\n",
      "['medevac kit', 0.7212121212121212] | edecu\n",
      "['rotor brake system', 0.8351327035537561] | rotor gas generator\n",
      "['driveshaft bearing', 0.7579365079365079] | thrust bearing\n",
      "['sump drain valve', 0.8208333333333333] | o/s drain valve assy\n",
      "['compressor stator', 0.8926610644257703] | compressor rear shaft\n",
      "['pump module, primary hyd system', 0.8724809384164223] | pump module assy, hydraul\n",
      "['stage 2 fwd cool plate, hot section module', 0.7644519731476254] | stg 2 fwd cooling plate\n",
      "['servo beam railing, m/r primary controls', 0.853] | servo, primary main rotor\n",
      "['buss tie contactor, ac generator', 0.7366776315789474] | box assy, center stabila\n",
      "['vibration control active system', 0.6968445980542755] | extraction bar, fries\n",
      "['interface unit, tacan', 0.7194805194805195] | winch, aircraft mounted, external\n",
      "['engine anti-ice system', 0.6446608946608947] | t700-ge-701d engine assy\n",
      "['stage 1 disk, cold section module', 0.7615576050358659] | stg 1 fwd cooling plate\n",
      "['exhaust system', 0.6380952380952382] | shaft assy, t/r sec 3,4,5\n",
      "['lateral servo bellcrank, m/r primary controls', 0.9022222222222223] | lateral servo bellcrank\n",
      "['aft tie rod, m/r primary controls', 0.8211675579322638] | aft tie rod supt fitting\n",
      "['combustion liner, hot section module', 0.888888888888889] | combustion liner\n",
      "['bearing, ball, annular, cold section module', 0.8623654346188427] | bearing, plain, rod end, outboard\n",
      "['tie rod, m/r spindle', 0.970952380952381] | tie rod (m/r spindle)\n",
      "['planetary carrier, main xmsn', 0.9246753246753247] | planetary carrier assy\n",
      "['drain valves lh/rh, pitot static system', 0.6817094017094018] | shaft assy, t/r drv sec 2\n",
      "['apu combustor drain valve', 0.7979239766081871] | pou assy-o/s drain valve\n",
      "['no. 1 roller bearing, cold section module', 0.8363714163457423] | no 4 roller bearing\n",
      "['compressor stator', 0.8459814695108813] | computer,fire control\n",
      "['hub, m/r head', 0.8591093117408907] | hub, m/r rotor assy\n",
      "['cold section module (csm)', 0.952] | cold section module\n",
      "['outboard t/r gb retention plate', 0.7405395894428153] | o/b retention plate (t/r)\n",
      "['wire strike components', 0.7308250572956455] | wheel, compressor\n",
      "['aft walking beam, m/r primary controls', 0.8842105263157894] | aft walking beam\n",
      "['main rotor indexer', 0.8682539682539683] | main rotor blade assy\n",
      "['aft bellcrank', 0.7174579806158755] | support, bell crank\n",
      "['hoist searchlight', 0.8514932126696833] | hoist, rescue\n",
      "['bearing, ball, annular, cold section module', 0.855232558139535] | bearing, plain, rod end, inboard\n",
      "['power turbine rotor, power turbine module', 0.8926829268292683] | power turbine rotor\n",
      "['input module', 1] | input module\n",
      "['compressor stator', 0.9156162464985995] | compressor rotor assy\n",
      "['blade expandable pin, m/r blade', 0.8788218793828892] | blade  pin,  expandable\n",
      "['pump module, primary hyd system', 0.8839748584489118] | pump module assy, hydraulic\n",
      "['fuel pump assembly', 0.7686387686387687] | mixer assembly\n",
      "['bifilar, m/r head', 0.8528011204481792] | bifilar,  m/r rotor assy\n",
      "['inner balance piston seal, cold section module', 0.9] | inner balance piston se\n",
      "['stage 2 turbine disk, hot section module', 0.9] | stage 2 turbine disk\n",
      "['rotating swashplate, m/r controls', 0.9151515151515152] | rotating swashplate\n",
      "['stage 2 turbine disk, hot section module', 0.8446153846153847] | stage 2 blisk\n",
      "['output shaft, cold section module', 0.8495543672014261] | output shaft assy\n",
      "['swashplate guide, main xmsn', 0.9185185185185185] | swashplate guide\n",
      "['aux. fuel transfer pump', 0.8704570791527313] | aux fuel tank\n",
      "['stage 1 compressor var vane', 0.7962273057371096] | stator gas generator\n",
      "['aft tie rod, m/r primary controls', 0.8598484848484849] | aft tie rod assy\n",
      "['particle separator blower', 1] | particle separator blower\n",
      "['aft bellcrank', 0.9181818181818182] | aft bellcrank spt assy\n",
      "['engine anti-ice system', 0.6531150009410879] | t700-ge-700 engine assy\n",
      "['stationary bearing, m/r controls', 0.7424790669856459] | servo assy, tail rotor\n",
      "['servo beam railing, m/r primary controls', 0.8416666666666667] | servo beam fitting\n",
      "['fuel control hmu', 0.8993421052631579] | fuel control, accel\n",
      "['spherical rod end bearing, m/r controls', 0.8280579070052754] | spherical bearing assy\n",
      "['lateral swashplate link, m/r primary controls', 0.9022222222222223] | lateral swashplate link\n",
      "['driveshaft bearing', 0.8982323232323232] | driveshaft assy engine\n",
      "['axial fan bearing', 0.6949891067538125] | fan axial\n",
      "['fuel control hmu', 0.95] | fuel control\n",
      "['accessory module', 1] | accessory module\n",
      "['vortex spoiler, cold section module', 0.88] | vortex spoiler\n",
      "['power turbine shaft, power turbine module', 0.8926829268292683] | power turbine shaft\n",
      "['left tie rod, m/r primary controls', 0.8647058823529411] | left tie rod assy\n",
      "['ivhmu', 0.8384615384615385] | ivhmu (cbm monitor system)\n",
      "['m/r blade', 0.9285714285714286] | m/r blade cuff\n",
      "['drain valves lh/rh, pitot static system', 0.6817094017094018] | shaft assy, t/r drv sec 6\n",
      "['accumulator, #3 hyd sys', 0.8956521739130435] | accumulator\n",
      "['fwd fuselage door installation', 0.6736111111111112] | fwd fixed gear shock\n",
      "['main rotor indexer', 0.8597222222222223] | main rotor shaft\n",
      "['forward fuselage section', 0.8458898944193062] | forward bellcrank\n",
      "['compressor stator', 0.6916940689319206] | mtchd rotor/stator assy\n",
      "['electrical control unit', 1] | electrical control unit\n",
      "['control quadrant assembly', 0.8698039215686275] | control horn assy\n",
      "['stage 4 turbine disk, power turbine module', 0.8952380952380953] | stage 4 turbine disk\n",
      "['apu turbine', 0.7245670995670995] | wheel, turbine\n",
      "['signal data converter (for indicators)', 0.6843497632971317] | panel indicator (pdu)\n",
      "['stage 3 &amp;amp; 4 disks, cold section module', 0.8328005115089514] | stage 3 & 4 blisk\n",
      "['auxiliary power plant (apu) system', 0.8912383900928792] | auxiliary power unit\n",
      "['no. 3 ball bearing, cold section module', 0.8495726495726497] | no 3 ball bearing\n",
      "['compressor discharge seal, cold section module', 0.9] | compressor discharge se\n",
      "['stage 1 turbine disk, hot section module', 0.9] | stage 1 turbine disk\n",
      "['co-pilot door latch', 0.7815346446925393] | cooler, oil\n",
      "['bearing, ball, annular, cold section module', 0.8338688536868517] | bearing, plain, rod end lwr\n",
      "['active vibration control computer', 0.6984704184704184] | automat flt cont computer\n",
      "['m/r blade', 0.8818181818181818] | m/r blade cuff (6 lug)\n",
      "['gas gen turbine shaft, cold section module', 0.9] | gas gen turbine shaft\n",
      "['stationary swashplate, m/r controls', 0.92] | stationary swashplate\n",
      "['tlg shock strut', 0.88] | tail shock strut assy\n",
      "['no. 3 ball bearing, cold section module', 0.8270487682252388] | no 1 ball bearing\n",
      "['elastomeric sleeve bearing', 0.9356275303643724] | elastomeric bearing\n",
      "['main rotor indexer', 0.901359477124183] | main rotor shaft extender\n",
      "['no. 3 labyrinth seal, cold section module', 0.8569105691056911] | no 3 labyrinth seal\n",
      "['damper, m/r head', 0.8788461538461538] | damper assy, m/r\n",
      "['dowel pins, main xsmn', 0.8857142857142858] | dowel pin\n",
      "['stage 1 nozzle, hot section module', 0.8625386996904025] | stage 1 nozzle assy\n",
      "['laser warn sensor', 0.6588235294117647] | an/zsq-2(v) attack turret sensor unit - laser (tsu)\n",
      "['mission system control panel', 0.6984126984126985] | servo assy, coll\n",
      "['bearing, ball, annular, cold section module', 0.8326640666377775] | bearing, plain, rod end\n",
      "['drain valves lh/rh, pitot static system', 0.6817094017094018] | shaft assy, t/r drv sec 7\n",
      "['apu fuel solenoid valve', 0.7183574879227054] | valve, soleniod\n",
      "['power plant installation', 0.727748538011696] | wing panel r/h  stabilato\n",
      "['m/r blade', 0.9058823529411765] | m/r blade tip cap\n",
      "['stage 1 fwd cooling plate, hot section module', 0.8157458644415165] | stg 2 aft cooling plate\n",
      "['fwd bellcrank, m/r primary controls', 0.866103896103896] | fwd bellcrank spt assy\n",
      "['suction system', 0.7130952380952381] | housing assy mgb\n",
      "['pitch beam, t/r controls', 0.6479468599033816] | brng t/r pitch chg shft\n",
      "['main rotor indexer', 0.8971014492753623] | main rotor spindle assy\n",
      "['stabilator actuator attaching bolts', 0.9085714285714286] | stabilator actuator\n",
      "['power turbine module (ptm)', 0.9538461538461538] | power turbine module\n",
      "['spindle, m/r head', 0.8445098039215686] | spindle & liner assy\n",
      "['no. 5 roller bearing, power turbine module', 0.853968253968254] | no 5 roller bearing\n",
      "['lower rod end', 0.7786324786324786] | clevis, rod end\n",
      "['ivhmu', 0.7283950617283951] |  ivhmu (cbm monitor system)\n",
      "['attitude and heading reference unit (ahru)', 0.8895545314900154] | attitude heading reference unit\n",
      "['computer unit tas/plus', 0.8480303030303031] | computer, flight control\n",
      "['compressor impeller, cold section module', 0.895] | compressor impeller\n",
      "['stabilator', 0.9] | stabilator amplifier\n",
      "['sincgars radio set', 0.7197617197617198] | winch,aircraft mounted\n",
      "['wiring harness, apu electrical sys', 0.7835294117647059] | wing panel l/h  stabilato\n",
      "['aux. fuel relay panel', 0.8658874458874459] | aux. fuel tank 200 gal\n",
      "['right tie rod, m/r primary controls', 0.8692063492063492] | right tie rod assy\n",
      "['multi-function displays', 0.9913043478260869] | multi-function display\n",
      "['engine anti-ice system', 0.6531150009410879] | t700-ge-701 engine assy\n",
      "['tie rod, m/r spindle', 0.858796992481203] | tie rod, compressor\n",
      "['stage 3 turbine disk, power turbine module', 0.8952380952380953] | stage 3 turbine disk\n",
      "['blade cuff, m/r blade', 0.8202380952380953] | blade pin, solid\n",
      "['aft bellcrank', 1] | aft bellcrank\n",
      "['inboard t/r gb retention plate', 0.7842292490118576] | i/b retention plate t/r\n",
      "['main gearbox drip pan', 0.7012531328320802] | bearing,  axial fan\n",
      "['m/r driveshaft', 0.8263492063492064] | m/r spindle nut\n",
      "['hoist control panel (cabin)', 0.6954040875609503] | shock absorber (tail)\n",
      "['electrical wiring interconnect system (ewis)', 0.8496775184275185] | electronic engine control unit (eecu)\n",
      "['power plant installation', 0.7530926675663517] | wing panel l/h  stabilator\n",
      "['sas actuator', 1] | sas actuator\n"
     ]
    }
   ],
   "source": [
    "# Jaro-Winkler\n",
    "max_sim_scores = []\n",
    "for cc_part in cc_parts_lower:\n",
    "    similarity_max = 0\n",
    "    tree_match = \"\"\n",
    "    for tree_part in tree_parts:\n",
    "        if td.jaro_winkler(cc_part, tree_part) > similarity_max:\n",
    "            similarity_max = td.jaro_winkler(cc_part, tree_part)\n",
    "            tree_match = tree_part\n",
    "    max_sim_scores.append([tree_match, similarity_max])\n",
    "\n",
    "for i in range(0, len(max_sim_scores)):\n",
    "    print(max_sim_scores[i], '|' , cc_parts_lower[i])"
   ]
  },
  {
   "cell_type": "markdown",
   "metadata": {},
   "source": [
    "## J-W doesn't work well sometimes due to edit distance technique of prefix boosting\n",
    "### need to consider some token based methods and munging techniques\n"
   ]
  },
  {
   "cell_type": "code",
   "execution_count": null,
   "metadata": {},
   "outputs": [],
   "source": [
    "%%script false --no-raise-error\n",
    "# editext (NOT AS GOOD AS J-W)\n",
    "# phonetic based\n",
    "max_sim_scores_e = []\n",
    "for cc_part in cc_parts_lower:\n",
    "    similarity_max = 0\n",
    "    tree_match = \"\"\n",
    "    for tree_part in tree_parts:\n",
    "        if td.ratcliff_obershelp(cc_part, tree_part) > similarity_max:\n",
    "            similarity_max = td.ratcliff_obershelp(cc_part, tree_part)\n",
    "            tree_match = tree_part\n",
    "    max_sim_scores_e.append([tree_match, similarity_max])\n",
    "    \n",
    "for i in range(0, len(max_sim_scores_e)):\n",
    "    print(max_sim_scores_e[i], '|' , cc_parts_lower[i])"
   ]
  },
  {
   "cell_type": "code",
   "execution_count": null,
   "metadata": {},
   "outputs": [],
   "source": [
    "%%script false --no-raise-error\n",
    "# ratcliff_obershelp (NOT AS GOOD AS J-W)\n",
    "# sequence based\n",
    "max_sim_scores_ro = []\n",
    "for cc_part in cc_parts_lower:\n",
    "    similarity_max = 0\n",
    "    tree_match = \"\"\n",
    "    for tree_part in tree_parts:\n",
    "        if td.ratcliff_obershelp(cc_part, tree_part) > similarity_max:\n",
    "            similarity_max = td.ratcliff_obershelp(cc_part, tree_part)\n",
    "            tree_match = tree_part\n",
    "    max_sim_scores_ro.append([tree_match, similarity_max])\n",
    "    \n",
    "for i in range(0, len(max_sim_scores_ro)):\n",
    "    print(max_sim_scores_ro[i], '|' , cc_parts_lower[i])"
   ]
  },
  {
   "cell_type": "code",
   "execution_count": null,
   "metadata": {},
   "outputs": [],
   "source": [
    "%%script false --no-raise-error\n",
    "# monge_elkan (Takes forever and NOT AS GOOD AS J-W or any others\n",
    "# token based\n",
    "max_sim_scores_me = []\n",
    "for cc_part in cc_parts_lower:\n",
    "    similarity_max = 0\n",
    "    tree_match = \"\"\n",
    "    for tree_part in tree_parts:\n",
    "        if td.monge_elkan(cc_part, tree_part) > similarity_max:\n",
    "            similarity_max = td.monge_elkan(cc_part, tree_part)\n",
    "            tree_match = tree_part\n",
    "    max_sim_scores_me.append([tree_match, similarity_max])\n",
    "    \n",
    "for i in range(0, len(max_sim_scores_me)):\n",
    "    print(max_sim_scores_me[i], '|' , cc_parts_lower[i])"
   ]
  },
  {
   "cell_type": "code",
   "execution_count": null,
   "metadata": {},
   "outputs": [],
   "source": [
    "%%script false --no-raise-error\n",
    "# jaccard (NOT AS GOOD AS J-W or ratcliff)\n",
    "# token based\n",
    "max_sim_scores_j = []\n",
    "for cc_part in cc_parts_lower:\n",
    "    similarity_max = 0\n",
    "    tree_match = \"\"\n",
    "    for tree_part in tree_parts:\n",
    "        if td.jaccard(cc_part, tree_part) > similarity_max:\n",
    "            similarity_max = td.jaccard(cc_part, tree_part)\n",
    "            tree_match = tree_part\n",
    "    max_sim_scores_j.append([tree_match, similarity_max])\n",
    "    \n",
    "for i in range(0, len(max_sim_scores_j)):\n",
    "    print(max_sim_scores_j[i], '|' , cc_parts_lower[i])"
   ]
  },
  {
   "cell_type": "code",
   "execution_count": 3,
   "metadata": {},
   "outputs": [
    {
     "name": "stdout",
     "output_type": "stream",
     "text": [
      "31\n",
      "71\n",
      "33\n"
     ]
    }
   ],
   "source": [
    "from fuzzywuzzy import fuzz\n",
    "print(fuzz.token_sort_ratio('planetary carrier, main xmsn', 'transmission'))\n",
    "print(fuzz.token_sort_ratio('main transmission (xmsn)', 'transmission'))\n",
    "print(fuzz.token_sort_ratio('drive system', 'transmission'))"
   ]
  },
  {
   "cell_type": "code",
   "execution_count": 21,
   "metadata": {},
   "outputs": [
    {
     "name": "stdout",
     "output_type": "stream",
     "text": [
      "['air data computer', 100] | air data computer\n",
      "['closed circuit refueling rec', 62] | inflight refueling probe\n",
      "['intermediate gearbox (igb)', 91] | intermediate gearbox\n",
      "['power take-off drive, cold section module', 54] | power takeoff drive\n",
      "['de-ice tail rotor', 65] | tail rotor gearbox assy\n",
      "['ambulatory seat', 61] | accumulater, pneumatic\n",
      "['axial fan bearing', 71] | no 6 ball bearing\n",
      "['ac generator', 86] | generator\n",
      "['extension shaft, m/r head', 56] | gearshaft, bevel\n",
      "['dual stabilator controler(dsc)', 70] | stabilator amplifier (dual)\n",
      "['stage 5 disk, cold section module', 53] | stage 5 blisk\n",
      "['tail pylon fitting', 100] | tail pylon fitting\n",
      "['data concentrator unit', 100] | data  concentrator unit\n",
      "['fuel control hmu', 100] | fuel control (hmu)\n",
      "['main rotor indexer', 59] | nut assy, main rotor\n",
      "['ce seat inertia reel assy', 53] | t700-ge-701c engine assy\n",
      "['anti-ice start bleed valve', 70] | anti-ice valve\n",
      "['engine high speed shaft indexer', 57] | t/r pitch change shaft\n",
      "['ce seat inertia reel assy', 54] | t706-ge-700 engine assy\n",
      "['de-ice tail rotor', 68] | tail rotor blade assy\n",
      "['aft swashplate link', 62] | stg 1 aft cooling plate\n",
      "['no. 2 roller bearing, cold section module', 66] | no 2 roller bearing\n",
      "['bearing, ball, annular, cold section module', 67] | bearing, ball, annular\n",
      "['display systems', 61] | stand-by inst display\n",
      "['main transmission (xmsn)', 74] | main transmission module\n",
      "['tail cone fitting', 100] | tail cone fitting\n",
      "['driveshaft  section 1', 59] | shaft assy, t/r drv sec 1\n",
      "['stage 1 disk, cold section module', 53] | stage 1 blisk\n",
      "['master cylinder, rotor brake', 63] | servo cylinder\n",
      "['dowel pins, main xsmn', 62] | piston, main l/gear str\n",
      "['compressor stator', 72] | ring, spacer compressor\n",
      "['swashplate sensors', 79] | swashplate assy\n",
      "['medevac kit', 50] | edecu\n",
      "['ac generator', 71] | rotor gas generator\n",
      "['driveshaft bearing', 69] | thrust bearing\n",
      "['sump drain valve', 72] | o/s drain valve assy\n",
      "['compressor stator', 74] | compressor rear shaft\n",
      "['fuel pump assembly', 57] | pump module assy, hydraul\n",
      "['stage 1 fwd cooling plate, hot section module', 66] | stg 2 fwd cooling plate\n",
      "['m/r primary servo actuator (psa)', 63] | servo, primary main rotor\n",
      "['stab assy lockpin rh', 65] | box assy, center stabila\n",
      "['fire detection system', 59] | extraction bar, fries\n",
      "['aircraft weight and balance', 62] | winch, aircraft mounted, external\n",
      "['ce seat inertia reel assy', 53] | t700-ge-701d engine assy\n",
      "['stage 1 fwd cooling plate, hot section module', 69] | stg 1 fwd cooling plate\n",
      "['driveshaft  sections 3, 4, &amp;amp; 5', 60] | shaft assy, t/r sec 3,4,5\n",
      "['lateral servo bellcrank, m/r primary controls', 69] | lateral servo bellcrank\n",
      "['outer aft engine mount', 57] | aft tie rod supt fitting\n",
      "['combustion liner, hot section module', 63] | combustion liner\n",
      "['damper bearing, m/r haed', 57] | bearing, plain, rod end, outboard\n",
      "['tie rod, m/r spindle', 100] | tie rod (m/r spindle)\n",
      "['planetary carrier, main xmsn', 69] | planetary carrier assy\n",
      "['driveshaft  section 2', 59] | shaft assy, t/r drv sec 2\n",
      "['sump drain valve', 65] | pou assy-o/s drain valve\n",
      "['oil cooler bearing sensor', 64] | no 4 roller bearing\n",
      "['apu fuel control', 70] | computer,fire control\n",
      "['hub, m/r head', 60] | hub, m/r rotor assy\n",
      "['cold section module (csm)', 90] | cold section module\n",
      "['inboard t/r gb retention plate', 87] | o/b retention plate (t/r)\n",
      "['compressor stator', 67] | wheel, compressor\n",
      "['aft walking beam, m/r primary controls', 60] | aft walking beam\n",
      "['main rotor indexer', 67] | main rotor blade assy\n",
      "['aft bellcrank', 58] | support, bell crank\n",
      "['rescue hoist', 100] | hoist, rescue\n",
      "['damper bearing, m/r haed', 58] | bearing, plain, rod end, inboard\n",
      "['power turbine module (ptm)', 70] | power turbine rotor\n",
      "['input module', 100] | input module\n",
      "['compressor stator', 74] | compressor rotor assy\n",
      "['blade expandable pin, m/r blade', 80] | blade  pin,  expandable\n",
      "['hydraulic control logic module', 61] | pump module assy, hydraulic\n",
      "['resue hoist assembly', 65] | mixer assembly\n",
      "['bifilar, m/r head', 58] | bifilar,  m/r rotor assy\n",
      "['inner balance piston seal, cold section module', 68] | inner balance piston se\n",
      "['stage 2 turbine disk, hot section module', 68] | stage 2 turbine disk\n",
      "['aft swashplate link', 79] | rotating swashplate\n",
      "['stage 2 disk, cold section module', 53] | stage 2 blisk\n",
      "['pedal assy boots', 55] | output shaft assy\n",
      "['swashplate guide, main xmsn', 76] | swashplate guide\n",
      "['aux. fuel transfer pump', 69] | aux fuel tank\n",
      "['engine gas generator indicator', 72] | stator gas generator\n",
      "['aft tie rod, m/r primary controls', 58] | aft tie rod assy\n",
      "['particle separator blower', 100] | particle separator blower\n",
      "['aft bellcrank', 74] | aft bellcrank spt assy\n",
      "['ce seat inertia reel assy', 54] | t700-ge-700 engine assy\n",
      "['obogs monitor panel assy', 62] | servo assy, tail rotor\n",
      "['bearing monitoring sensors', 59] | servo beam fitting\n",
      "['apu fuel control', 82] | fuel control, accel\n",
      "['hanger bearing assemblies', 64] | spherical bearing assy\n",
      "['aft swashplate link', 86] | lateral swashplate link\n",
      "['engine driveshaft', 87] | driveshaft assy engine\n",
      "['axial fan', 100] | fan axial\n",
      "['fuel control hmu', 86] | fuel control\n",
      "['accessory module', 100] | accessory module\n",
      "['vortex spoiler, cold section module', 58] | vortex spoiler\n",
      "['power turbine module (ptm)', 70] | power turbine shaft\n",
      "['fuel filter assy', 61] | left tie rod assy\n",
      "['rotor brake system', 62] | ivhmu (cbm monitor system)\n",
      "['blade cuff, m/r blade', 82] | m/r blade cuff\n",
      "['driveshaft  section 6', 59] | shaft assy, t/r drv sec 6\n",
      "['accumulator, #3 hyd sys', 69] | accumulator\n",
      "['gunner sliding doors, fwd/aft', 50] | fwd fixed gear shock\n",
      "['driveshaft bearing', 59] | main rotor shaft\n",
      "['aft bellcrank', 60] | forward bellcrank\n",
      "['apu starter motor, #3 hyd sys', 60] | mtchd rotor/stator assy\n",
      "['electrical control unit', 100] | electrical control unit\n",
      "['control quadrant assembly', 71] | control horn assy\n",
      "['stage 4 turbine disk, power turbine module', 66] | stage 4 turbine disk\n",
      "['apu turbine wheel', 87] | wheel, turbine\n",
      "['monitor panel', 69] | panel indicator (pdu)\n",
      "['stage 3 &amp;amp; 4 disks, cold section module', 48] | stage 3 & 4 blisk\n",
      "['auxiliary switch panel', 71] | auxiliary power unit\n",
      "['axial fan bearing', 71] | no 3 ball bearing\n",
      "['compressor stator', 70] | compressor discharge se\n",
      "['stage 1 turbine disk, hot section module', 68] | stage 1 turbine disk\n",
      "['oil cooler panel', 77] | cooler, oil\n",
      "['plate  lower, m/r head', 58] | bearing, plain, rod end lwr\n",
      "['avc computer mount', 65] | automat flt cont computer\n",
      "['blade cuff, m/r blade', 75] | m/r blade cuff (6 lug)\n",
      "['gas gen turbine shaft, cold section module', 68] | gas gen turbine shaft\n",
      "['stationary swashplate, m/r controls', 76] | stationary swashplate\n",
      "['tlg shock strut', 78] | tail shock strut assy\n",
      "['axial fan bearing', 71] | no 1 ball bearing\n",
      "['elastomeric sleeve bearing', 84] | elastomeric bearing\n",
      "['main rotor indexer', 70] | main rotor shaft extender\n",
      "['no. 3 labyrinth seal, cold section module', 66] | no 3 labyrinth seal\n",
      "['damper, m/r head', 67] | damper assy, m/r\n",
      "['dowel pins, main xsmn', 62] | dowel pin\n",
      "['apu start fuel nozzle', 60] | stage 1 nozzle assy\n",
      "['rotor track and balance sensors', 49] | an/zsq-2(v) attack turret sensor unit - laser (tsu)\n",
      "['collective boost assembly', 55] | servo assy, coll\n",
      "['damper bearing, m/r haed', 59] | bearing, plain, rod end\n",
      "['driveshaft  section 7', 59] | shaft assy, t/r drv sec 7\n",
      "['apu fuel solenoid valve', 70] | valve, soleniod\n",
      "['stabilator limit switch', 60] | wing panel r/h  stabilato\n",
      "['tip cap, m/r blade', 100] | m/r blade tip cap\n",
      "['aft swashplate link', 62] | stg 2 aft cooling plate\n",
      "['aft bellcrank', 63] | fwd bellcrank spt assy\n",
      "['stab assy lockpin lh', 61] | housing assy mgb\n",
      "['pitch beam, t/r controls', 57] | brng t/r pitch chg shft\n",
      "['spindle, m/r head', 67] | main rotor spindle assy\n",
      "['stabilator amp control', 73] | stabilator actuator\n",
      "['power turbine module (ptm)', 91] | power turbine module\n",
      "['spindle, m/r head', 65] | spindle & liner assy\n",
      "['no. 5 roller bearing, power turbine module', 64] | no 5 roller bearing\n",
      "['rod end, t/r controls', 65] | clevis, rod end\n",
      "['rotor brake system', 62] |  ivhmu (cbm monitor system)\n",
      "['attitude and heading reference unit (ahru)', 87] | attitude heading reference unit\n",
      "['flir control unit (hand control)', 68] | computer, flight control\n",
      "['compressor stator', 67] | compressor impeller\n",
      "['sas amplifier', 73] | stabilator amplifier\n",
      "['aircraft wash', 63] | winch,aircraft mounted\n",
      "['stabilator limit switch', 60] | wing panel l/h  stabilato\n",
      "['aux. fuel relay panel', 63] | aux. fuel tank 200 gal\n",
      "['right tie rod, m/r primary controls', 62] | right tie rod assy\n",
      "['multi-function displays', 98] | multi-function display\n",
      "['ce seat inertia reel assy', 54] | t700-ge-701 engine assy\n",
      "['compressor stator', 69] | tie rod, compressor\n",
      "['stage 3 turbine disk, power turbine module', 66] | stage 3 turbine disk\n",
      "['m/r blade', 58] | blade pin, solid\n",
      "['aft bellcrank', 100] | aft bellcrank\n",
      "['inboard t/r gb retention plate', 87] | i/b retention plate t/r\n",
      "['axial fan bearing', 100] | bearing,  axial fan\n",
      "['spindle nut, m/r spindle', 79] | m/r spindle nut\n",
      "['nose vibration absorber', 62] | shock absorber (tail)\n",
      "['ecs electrical control unit (ecu)', 79] | electronic engine control unit (eecu)\n",
      "['stabilator limit switch', 62] | wing panel l/h  stabilator\n",
      "['sas actuator', 100] | sas actuator\n"
     ]
    }
   ],
   "source": [
    "from fuzzywuzzy import fuzz\n",
    "# levenshtein distance doesn't use prefix boosting in the match score.\n",
    "# fuzzywuzzy is probably the best alternative to j-w (token_sort_ratio reorders words and uses levenshtein distance)\n",
    "max_sim_scores_fz = []\n",
    "for cc_part in cc_parts_lower:\n",
    "    similarity_max = 0\n",
    "    tree_match = \"\"\n",
    "    for tree_part in tree_parts:\n",
    "        if fuzz.token_sort_ratio(cc_part, tree_part) > similarity_max:\n",
    "            similarity_max = fuzz.token_sort_ratio(cc_part, tree_part)\n",
    "            tree_match = tree_part\n",
    "    max_sim_scores_fz.append([tree_match, similarity_max])\n",
    "    \n",
    "for i in range(0, len(max_sim_scores_fz)):\n",
    "    print(max_sim_scores_fz[i], '|' , cc_parts_lower[i])\n",
    "    max_sim_scores_fz[i].append(cc_parts_lower[i].upper())"
   ]
  },
  {
   "cell_type": "code",
   "execution_count": 22,
   "metadata": {},
   "outputs": [
    {
     "data": {
      "text/html": [
       "<div>\n",
       "<style scoped>\n",
       "    .dataframe tbody tr th:only-of-type {\n",
       "        vertical-align: middle;\n",
       "    }\n",
       "\n",
       "    .dataframe tbody tr th {\n",
       "        vertical-align: top;\n",
       "    }\n",
       "\n",
       "    .dataframe thead th {\n",
       "        text-align: right;\n",
       "    }\n",
       "</style>\n",
       "<table border=\"1\" class=\"dataframe\">\n",
       "  <thead>\n",
       "    <tr style=\"text-align: right;\">\n",
       "      <th></th>\n",
       "      <th>L1</th>\n",
       "      <th>L2</th>\n",
       "      <th>L3</th>\n",
       "      <th>L4</th>\n",
       "      <th>L5</th>\n",
       "      <th>L6</th>\n",
       "      <th>RFG</th>\n",
       "      <th>DESCRIPTION</th>\n",
       "      <th>sim_score</th>\n",
       "      <th>NOUN</th>\n",
       "    </tr>\n",
       "  </thead>\n",
       "  <tbody>\n",
       "    <tr>\n",
       "      <td>0</td>\n",
       "      <td>00</td>\n",
       "      <td>NaN</td>\n",
       "      <td>NaN</td>\n",
       "      <td>NaN</td>\n",
       "      <td>NaN</td>\n",
       "      <td>NaN</td>\n",
       "      <td>00</td>\n",
       "      <td>utility helicopter</td>\n",
       "      <td>NaN</td>\n",
       "      <td>NaN</td>\n",
       "    </tr>\n",
       "    <tr>\n",
       "      <td>1</td>\n",
       "      <td>02</td>\n",
       "      <td>NaN</td>\n",
       "      <td>NaN</td>\n",
       "      <td>NaN</td>\n",
       "      <td>NaN</td>\n",
       "      <td>NaN</td>\n",
       "      <td>02</td>\n",
       "      <td>airframe</td>\n",
       "      <td>NaN</td>\n",
       "      <td>NaN</td>\n",
       "    </tr>\n",
       "    <tr>\n",
       "      <td>2</td>\n",
       "      <td>02</td>\n",
       "      <td>WASH</td>\n",
       "      <td>NaN</td>\n",
       "      <td>NaN</td>\n",
       "      <td>NaN</td>\n",
       "      <td>NaN</td>\n",
       "      <td>02_WASH</td>\n",
       "      <td>aircraft wash</td>\n",
       "      <td>63.0</td>\n",
       "      <td>WINCH,AIRCRAFT MOUNTED</td>\n",
       "    </tr>\n",
       "    <tr>\n",
       "      <td>3</td>\n",
       "      <td>02</td>\n",
       "      <td>WB</td>\n",
       "      <td>NaN</td>\n",
       "      <td>NaN</td>\n",
       "      <td>NaN</td>\n",
       "      <td>NaN</td>\n",
       "      <td>02_WB</td>\n",
       "      <td>aircraft weight and balance</td>\n",
       "      <td>62.0</td>\n",
       "      <td>WINCH, AIRCRAFT MOUNTED, EXTERNAL</td>\n",
       "    </tr>\n",
       "    <tr>\n",
       "      <td>4</td>\n",
       "      <td>02</td>\n",
       "      <td>A</td>\n",
       "      <td>NaN</td>\n",
       "      <td>NaN</td>\n",
       "      <td>NaN</td>\n",
       "      <td>NaN</td>\n",
       "      <td>02A</td>\n",
       "      <td>forward fuselage section</td>\n",
       "      <td>NaN</td>\n",
       "      <td>NaN</td>\n",
       "    </tr>\n",
       "    <tr>\n",
       "      <td>...</td>\n",
       "      <td>...</td>\n",
       "      <td>...</td>\n",
       "      <td>...</td>\n",
       "      <td>...</td>\n",
       "      <td>...</td>\n",
       "      <td>...</td>\n",
       "      <td>...</td>\n",
       "      <td>...</td>\n",
       "      <td>...</td>\n",
       "      <td>...</td>\n",
       "    </tr>\n",
       "    <tr>\n",
       "      <td>1182</td>\n",
       "      <td>76</td>\n",
       "      <td>J</td>\n",
       "      <td>07</td>\n",
       "      <td>NaN</td>\n",
       "      <td>NaN</td>\n",
       "      <td>NaN</td>\n",
       "      <td>76J07</td>\n",
       "      <td>cabn dispense &amp;amp;amp; safey switch, improved...</td>\n",
       "      <td>NaN</td>\n",
       "      <td>NaN</td>\n",
       "    </tr>\n",
       "    <tr>\n",
       "      <td>1183</td>\n",
       "      <td>80</td>\n",
       "      <td>NaN</td>\n",
       "      <td>NaN</td>\n",
       "      <td>NaN</td>\n",
       "      <td>NaN</td>\n",
       "      <td>NaN</td>\n",
       "      <td>80</td>\n",
       "      <td>special tools</td>\n",
       "      <td>NaN</td>\n",
       "      <td>NaN</td>\n",
       "    </tr>\n",
       "    <tr>\n",
       "      <td>1184</td>\n",
       "      <td>82</td>\n",
       "      <td>NaN</td>\n",
       "      <td>NaN</td>\n",
       "      <td>NaN</td>\n",
       "      <td>NaN</td>\n",
       "      <td>NaN</td>\n",
       "      <td>82</td>\n",
       "      <td>flyaway items</td>\n",
       "      <td>NaN</td>\n",
       "      <td>NaN</td>\n",
       "    </tr>\n",
       "    <tr>\n",
       "      <td>1185</td>\n",
       "      <td>83</td>\n",
       "      <td>NaN</td>\n",
       "      <td>NaN</td>\n",
       "      <td>NaN</td>\n",
       "      <td>NaN</td>\n",
       "      <td>NaN</td>\n",
       "      <td>83</td>\n",
       "      <td>ground support item</td>\n",
       "      <td>NaN</td>\n",
       "      <td>NaN</td>\n",
       "    </tr>\n",
       "    <tr>\n",
       "      <td>1186</td>\n",
       "      <td>99</td>\n",
       "      <td>NaN</td>\n",
       "      <td>NaN</td>\n",
       "      <td>NaN</td>\n",
       "      <td>NaN</td>\n",
       "      <td>NaN</td>\n",
       "      <td>99</td>\n",
       "      <td>hud</td>\n",
       "      <td>NaN</td>\n",
       "      <td>NaN</td>\n",
       "    </tr>\n",
       "  </tbody>\n",
       "</table>\n",
       "<p>1187 rows × 10 columns</p>\n",
       "</div>"
      ],
      "text/plain": [
       "      L1    L2   L3   L4   L5   L6      RFG  \\\n",
       "0     00   NaN  NaN  NaN  NaN  NaN       00   \n",
       "1     02   NaN  NaN  NaN  NaN  NaN       02   \n",
       "2     02  WASH  NaN  NaN  NaN  NaN  02_WASH   \n",
       "3     02    WB  NaN  NaN  NaN  NaN    02_WB   \n",
       "4     02     A  NaN  NaN  NaN  NaN      02A   \n",
       "...   ..   ...  ...  ...  ...  ...      ...   \n",
       "1182  76     J   07  NaN  NaN  NaN    76J07   \n",
       "1183  80   NaN  NaN  NaN  NaN  NaN       80   \n",
       "1184  82   NaN  NaN  NaN  NaN  NaN       82   \n",
       "1185  83   NaN  NaN  NaN  NaN  NaN       83   \n",
       "1186  99   NaN  NaN  NaN  NaN  NaN       99   \n",
       "\n",
       "                                            DESCRIPTION  sim_score  \\\n",
       "0                                    utility helicopter        NaN   \n",
       "1                                              airframe        NaN   \n",
       "2                                         aircraft wash       63.0   \n",
       "3                           aircraft weight and balance       62.0   \n",
       "4                              forward fuselage section        NaN   \n",
       "...                                                 ...        ...   \n",
       "1182  cabn dispense &amp;amp; safey switch, improved...        NaN   \n",
       "1183                                      special tools        NaN   \n",
       "1184                                      flyaway items        NaN   \n",
       "1185                                ground support item        NaN   \n",
       "1186                                                hud        NaN   \n",
       "\n",
       "                                   NOUN  \n",
       "0                                   NaN  \n",
       "1                                   NaN  \n",
       "2                WINCH,AIRCRAFT MOUNTED  \n",
       "3     WINCH, AIRCRAFT MOUNTED, EXTERNAL  \n",
       "4                                   NaN  \n",
       "...                                 ...  \n",
       "1182                                NaN  \n",
       "1183                                NaN  \n",
       "1184                                NaN  \n",
       "1185                                NaN  \n",
       "1186                                NaN  \n",
       "\n",
       "[1187 rows x 10 columns]"
      ]
     },
     "execution_count": 22,
     "metadata": {},
     "output_type": "execute_result"
    }
   ],
   "source": [
    "tree_2410_match_df = pd.DataFrame(max_sim_scores_fz, columns = ['DESCRIPTION', 'sim_score', 'NOUN']) \n",
    "cc_treez_match_df = pd.merge(df, tree_2410_match_df, on='DESCRIPTION', how='left')\n",
    "#cc_treez_match_df.to_csv(r'/Users/mh302/Desktop/cc_treez_match_df.csv', encoding='utf-8', index=False)\n",
    "cc_treez_match_df"
   ]
  },
  {
   "cell_type": "code",
   "execution_count": 23,
   "metadata": {},
   "outputs": [
    {
     "name": "stdout",
     "output_type": "stream",
     "text": [
      "winch, aircraft mounted|winch, external| 44\n",
      "winch, aircraft mounted|skid, aircraft mounted| 84\n"
     ]
    }
   ],
   "source": [
    "# Potential for non-matches to have higher similarity scores...thus we select non-matches over matches in the above LED max sim score loop\n",
    "print('winch, aircraft mounted' + '|' + 'winch, external' + '|', fuzz.token_sort_ratio('winch, aircraft mounted', 'winch, external'))\n",
    "print('winch, aircraft mounted' + '|' + 'skid, aircraft mounted' + '|', fuzz.token_sort_ratio('winch, aircraft mounted', 'skid, aircraft mounted'))"
   ]
  },
  {
   "cell_type": "code",
   "execution_count": 24,
   "metadata": {},
   "outputs": [],
   "source": [
    "cc_fuzzy_match_true_labs =  pd.read_csv('cc_treez_match_df_human_ann.csv')"
   ]
  },
  {
   "cell_type": "code",
   "execution_count": 25,
   "metadata": {},
   "outputs": [
    {
     "data": {
      "text/plain": [
       "0.4311377245508982"
      ]
     },
     "execution_count": 25,
     "metadata": {},
     "output_type": "execute_result"
    }
   ],
   "source": [
    "tot = len(cc_fuzzy_match_true_labs['match'])\n",
    "len(cc_fuzzy_match_true_labs[cc_fuzzy_match_true_labs['match'] == 0].match) / (tot - cc_fuzzy_match_true_labs['match'].isnull().sum())"
   ]
  },
  {
   "cell_type": "code",
   "execution_count": 26,
   "metadata": {},
   "outputs": [
    {
     "data": {
      "text/plain": [
       "74.0"
      ]
     },
     "execution_count": 26,
     "metadata": {},
     "output_type": "execute_result"
    }
   ],
   "source": [
    "max(cc_fuzzy_match_true_labs[cc_fuzzy_match_true_labs['match'] == 0].sim_score)"
   ]
  },
  {
   "cell_type": "code",
   "execution_count": 27,
   "metadata": {},
   "outputs": [
    {
     "data": {
      "text/plain": [
       "0.42857142857142855"
      ]
     },
     "execution_count": 27,
     "metadata": {},
     "output_type": "execute_result"
    }
   ],
   "source": [
    "num_matches43to74 = len(cc_fuzzy_match_true_labs[(cc_fuzzy_match_true_labs['match'] == 1) & (cc_fuzzy_match_true_labs['sim_score'] <= 74) & (cc_fuzzy_match_true_labs['sim_score'] >= 43)].sim_score)\n",
    "total_43to74 = len(cc_fuzzy_match_true_labs[(cc_fuzzy_match_true_labs['sim_score'] <= 74) & (cc_fuzzy_match_true_labs['sim_score'] >= 43)].sim_score)\n",
    "num_matches43to74 / total_43to74\n"
   ]
  },
  {
   "cell_type": "code",
   "execution_count": 28,
   "metadata": {},
   "outputs": [
    {
     "data": {
      "text/plain": [
       "(0.34216314039440565, 0.5149797167484514)"
      ]
     },
     "execution_count": 28,
     "metadata": {},
     "output_type": "execute_result"
    }
   ],
   "source": [
    "from statsmodels.stats import proportion as prop\n",
    "# compute 95% CI on proportion of matches present between sim scores of 43 anad 74\n",
    "match_prop = prop.proportion_confint(count=num_matches43to74, nobs=total_43to74, alpha=0.05, method='normal')\n",
    "match_prop"
   ]
  },
  {
   "cell_type": "code",
   "execution_count": 29,
   "metadata": {},
   "outputs": [
    {
     "data": {
      "text/plain": [
       "<Figure size 600x400 with 1 Axes>"
      ]
     },
     "metadata": {},
     "output_type": "display_data"
    }
   ],
   "source": [
    "import matplotlib.pyplot as plt\n",
    "plt.rcParams[\"font.family\"] = \"Times New Roman\"\n",
    "plt.rcParams[\"figure.figsize\"] = 6,4\n",
    "\n",
    "bins = np.linspace(46, 100, 27)\n",
    "\n",
    "cc_fuzzy_match_true_labs.sim_score.plot.hist(grid=True, bins=bins, rwidth=0.9,\n",
    "                   color='green')\n",
    "cc_fuzzy_match_true_labs[cc_fuzzy_match_true_labs['match'] == 0].sim_score.plot.hist(grid=True, bins=bins, rwidth=0.9,\n",
    "                   color='red')\n",
    "plt.title('Histogram of CCAD DA2410 Match Scores')\n",
    "plt.xlabel('Levenshtein Similarity Score')\n",
    "plt.ylabel('Frequency')\n",
    "plt.grid(axis='y', alpha=0.75)\n",
    "\n",
    "plt.savefig('fuzzy_sort_cc_tree_hist.png', dpi=600, bbox_inches='tight')\n",
    "\n",
    "plt.show()"
   ]
  },
  {
   "cell_type": "code",
   "execution_count": 61,
   "metadata": {},
   "outputs": [
    {
     "data": {
      "image/png": "[encoded data removed]",
      "text/plain": [
       "<Figure size 432x288 with 1 Axes>"
      ]
     },
     "metadata": {
      "needs_background": "light"
     },
     "output_type": "display_data"
    }
   ],
   "source": [
    "match = cc_fuzzy_match_true_labs[cc_fuzzy_match_true_labs['match'] == 1].sim_score\n",
    "non_match = cc_fuzzy_match_true_labs[cc_fuzzy_match_true_labs['match'] == 0].sim_score\n",
    "\n",
    "bins = np.linspace(46, 100, 27)\n",
    "\n",
    "plt.hist([match, non_match], bins, label=['match', 'non-match'])\n",
    "plt.legend(loc='upper left')\n",
    "plt.title('Histogram of CCAD DA2410 Match Scores')\n",
    "plt.xlabel('Levenshtein Similarity Score')\n",
    "plt.ylabel('Frequency')\n",
    "plt.grid(axis='both', alpha=0.75)\n",
    "\n",
    "plt.savefig('fuzzy_sort_cc_tree_hist2.png', dpi=600, bbox_inches='tight')\n",
    "\n",
    "plt.show()"
   ]
  },
  {
   "cell_type": "code",
   "execution_count": 30,
   "metadata": {},
   "outputs": [],
   "source": [
    "%%script false --no-raise-error\n",
    "# fuzzywuzzy is probably the best alternative to j-w (token_set_ratio uses any set match and levenshtein distance)\n",
    "max_sim_scores_fz = []\n",
    "for cc_part in cc_parts_lower:\n",
    "    similarity_max = 0\n",
    "    tree_match = \"\"\n",
    "    for tree_part in tree_parts:\n",
    "        if fuzz.token_set_ratio(cc_part, tree_part) > similarity_max:\n",
    "            similarity_max = fuzz.token_set_ratio(cc_part, tree_part)\n",
    "            tree_match = tree_part\n",
    "    max_sim_scores_fz.append([tree_match, similarity_max])\n",
    "    \n",
    "for i in range(0, len(max_sim_scores_fz)):\n",
    "    print(max_sim_scores_fz[i], '|' , cc_parts_lower[i])"
   ]
  },
  {
   "cell_type": "code",
   "execution_count": 31,
   "metadata": {},
   "outputs": [
    {
     "data": {
      "text/html": [
       "<div>\n",
       "<style scoped>\n",
       "    .dataframe tbody tr th:only-of-type {\n",
       "        vertical-align: middle;\n",
       "    }\n",
       "\n",
       "    .dataframe tbody tr th {\n",
       "        vertical-align: top;\n",
       "    }\n",
       "\n",
       "    .dataframe thead th {\n",
       "        text-align: right;\n",
       "    }\n",
       "</style>\n",
       "<table border=\"1\" class=\"dataframe\">\n",
       "  <thead>\n",
       "    <tr style=\"text-align: right;\">\n",
       "      <th></th>\n",
       "      <th>index</th>\n",
       "      <th>COPY</th>\n",
       "      <th>DATE_2410</th>\n",
       "      <th>PN_NOUN</th>\n",
       "      <th>NSN</th>\n",
       "      <th>PN</th>\n",
       "      <th>SN</th>\n",
       "      <th>DESCRIPTION</th>\n",
       "      <th>REMARKS</th>\n",
       "      <th>SYS_CAT</th>\n",
       "      <th>...</th>\n",
       "      <th>TMS</th>\n",
       "      <th>TotalCalcCorroCost</th>\n",
       "      <th>TotalCalcCost</th>\n",
       "      <th>UnitCD</th>\n",
       "      <th>Tier1Object</th>\n",
       "      <th>Tier2Object</th>\n",
       "      <th>maint_start_date</th>\n",
       "      <th>maint_end_date</th>\n",
       "      <th>tier1_obj</th>\n",
       "      <th>tier2_obj</th>\n",
       "    </tr>\n",
       "  </thead>\n",
       "  <tbody>\n",
       "    <tr>\n",
       "      <td>0</td>\n",
       "      <td>40366</td>\n",
       "      <td>1</td>\n",
       "      <td>26-Oct-17</td>\n",
       "      <td>6071T04G02/STAGE 1 NOZZLE ASSY</td>\n",
       "      <td>2.840000e+12</td>\n",
       "      <td>6071T04G02</td>\n",
       "      <td>MDK0V6VV</td>\n",
       "      <td>070-Broken</td>\n",
       "      <td>NaN</td>\n",
       "      <td>T700</td>\n",
       "      <td>...</td>\n",
       "      <td>UH-60L</td>\n",
       "      <td>0.0</td>\n",
       "      <td>21.4859</td>\n",
       "      <td>W0Y407</td>\n",
       "      <td>ENGINE OR PROPULSION</td>\n",
       "      <td>DOOR</td>\n",
       "      <td>2017-10-20 00:00:00.000000</td>\n",
       "      <td>2017-11-21 00:00:00.000000</td>\n",
       "      <td>ENGINE OR PROPULSION</td>\n",
       "      <td>DOOR</td>\n",
       "    </tr>\n",
       "    <tr>\n",
       "      <td>1</td>\n",
       "      <td>40366</td>\n",
       "      <td>1</td>\n",
       "      <td>26-Oct-17</td>\n",
       "      <td>6071T04G02/STAGE 1 NOZZLE ASSY</td>\n",
       "      <td>2.840000e+12</td>\n",
       "      <td>6071T04G02</td>\n",
       "      <td>MDK0V6VV</td>\n",
       "      <td>070-Broken</td>\n",
       "      <td>NaN</td>\n",
       "      <td>T700</td>\n",
       "      <td>...</td>\n",
       "      <td>UH-60L</td>\n",
       "      <td>0.0</td>\n",
       "      <td>11.5412</td>\n",
       "      <td>W0Y407</td>\n",
       "      <td>ENGINE OR PROPULSION</td>\n",
       "      <td>DEFLECTOR</td>\n",
       "      <td>2017-10-18 00:00:00.000000</td>\n",
       "      <td>2017-11-20 00:00:00.000000</td>\n",
       "      <td>ENGINE OR PROPULSION</td>\n",
       "      <td>DEFLECTOR</td>\n",
       "    </tr>\n",
       "    <tr>\n",
       "      <td>2</td>\n",
       "      <td>40366</td>\n",
       "      <td>1</td>\n",
       "      <td>26-Oct-17</td>\n",
       "      <td>6071T04G02/STAGE 1 NOZZLE ASSY</td>\n",
       "      <td>2.840000e+12</td>\n",
       "      <td>6071T04G02</td>\n",
       "      <td>MDK0V6VV</td>\n",
       "      <td>070-Broken</td>\n",
       "      <td>NaN</td>\n",
       "      <td>T700</td>\n",
       "      <td>...</td>\n",
       "      <td>UH-60L</td>\n",
       "      <td>0.0</td>\n",
       "      <td>11.5412</td>\n",
       "      <td>W0Y407</td>\n",
       "      <td>NAVIGATIONAL CONTROL INSTRUMENTATION</td>\n",
       "      <td>DATA SIGNAL CONVERTER</td>\n",
       "      <td>2017-10-05 00:00:00.000000</td>\n",
       "      <td>2017-10-30 00:00:00.000000</td>\n",
       "      <td>NAVIGATIONAL CONTROL INSTRUMENTATION</td>\n",
       "      <td>DATA SIGNAL CONVERTER</td>\n",
       "    </tr>\n",
       "    <tr>\n",
       "      <td>3</td>\n",
       "      <td>40366</td>\n",
       "      <td>1</td>\n",
       "      <td>26-Oct-17</td>\n",
       "      <td>6071T04G02/STAGE 1 NOZZLE ASSY</td>\n",
       "      <td>2.840000e+12</td>\n",
       "      <td>6071T04G02</td>\n",
       "      <td>MDK0V6VV</td>\n",
       "      <td>070-Broken</td>\n",
       "      <td>NaN</td>\n",
       "      <td>T700</td>\n",
       "      <td>...</td>\n",
       "      <td>UH-60L</td>\n",
       "      <td>0.0</td>\n",
       "      <td>36.4031</td>\n",
       "      <td>W0Y407</td>\n",
       "      <td>(null)</td>\n",
       "      <td>MOUNT</td>\n",
       "      <td>2017-10-26 00:00:00.000000</td>\n",
       "      <td>2017-11-28 00:00:00.000000</td>\n",
       "      <td>(null)</td>\n",
       "      <td>MOUNT</td>\n",
       "    </tr>\n",
       "    <tr>\n",
       "      <td>4</td>\n",
       "      <td>40366</td>\n",
       "      <td>1</td>\n",
       "      <td>26-Oct-17</td>\n",
       "      <td>6071T04G02/STAGE 1 NOZZLE ASSY</td>\n",
       "      <td>2.840000e+12</td>\n",
       "      <td>6071T04G02</td>\n",
       "      <td>MDK0V6VV</td>\n",
       "      <td>070-Broken</td>\n",
       "      <td>NaN</td>\n",
       "      <td>T700</td>\n",
       "      <td>...</td>\n",
       "      <td>UH-60A</td>\n",
       "      <td>0.0</td>\n",
       "      <td>39.2653</td>\n",
       "      <td>W0Y407</td>\n",
       "      <td>(null)</td>\n",
       "      <td>UNKNOWN</td>\n",
       "      <td>2017-10-20 00:00:00.000000</td>\n",
       "      <td>2017-11-13 00:00:00.000000</td>\n",
       "      <td>(null)</td>\n",
       "      <td>UNKNOWN</td>\n",
       "    </tr>\n",
       "  </tbody>\n",
       "</table>\n",
       "<p>5 rows × 64 columns</p>\n",
       "</div>"
      ],
      "text/plain": [
       "   index  COPY  DATE_2410                         PN_NOUN           NSN  \\\n",
       "0  40366     1  26-Oct-17  6071T04G02/STAGE 1 NOZZLE ASSY  2.840000e+12   \n",
       "1  40366     1  26-Oct-17  6071T04G02/STAGE 1 NOZZLE ASSY  2.840000e+12   \n",
       "2  40366     1  26-Oct-17  6071T04G02/STAGE 1 NOZZLE ASSY  2.840000e+12   \n",
       "3  40366     1  26-Oct-17  6071T04G02/STAGE 1 NOZZLE ASSY  2.840000e+12   \n",
       "4  40366     1  26-Oct-17  6071T04G02/STAGE 1 NOZZLE ASSY  2.840000e+12   \n",
       "\n",
       "           PN        SN DESCRIPTION REMARKS SYS_CAT  ...     TMS  \\\n",
       "0  6071T04G02  MDK0V6VV  070-Broken     NaN    T700  ...  UH-60L   \n",
       "1  6071T04G02  MDK0V6VV  070-Broken     NaN    T700  ...  UH-60L   \n",
       "2  6071T04G02  MDK0V6VV  070-Broken     NaN    T700  ...  UH-60L   \n",
       "3  6071T04G02  MDK0V6VV  070-Broken     NaN    T700  ...  UH-60L   \n",
       "4  6071T04G02  MDK0V6VV  070-Broken     NaN    T700  ...  UH-60A   \n",
       "\n",
       "  TotalCalcCorroCost TotalCalcCost  UnitCD  \\\n",
       "0                0.0       21.4859  W0Y407   \n",
       "1                0.0       11.5412  W0Y407   \n",
       "2                0.0       11.5412  W0Y407   \n",
       "3                0.0       36.4031  W0Y407   \n",
       "4                0.0       39.2653  W0Y407   \n",
       "\n",
       "                            Tier1Object            Tier2Object  \\\n",
       "0                  ENGINE OR PROPULSION                   DOOR   \n",
       "1                  ENGINE OR PROPULSION              DEFLECTOR   \n",
       "2  NAVIGATIONAL CONTROL INSTRUMENTATION  DATA SIGNAL CONVERTER   \n",
       "3                                (null)                  MOUNT   \n",
       "4                                (null)                UNKNOWN   \n",
       "\n",
       "             maint_start_date              maint_end_date  \\\n",
       "0  2017-10-20 00:00:00.000000  2017-11-21 00:00:00.000000   \n",
       "1  2017-10-18 00:00:00.000000  2017-11-20 00:00:00.000000   \n",
       "2  2017-10-05 00:00:00.000000  2017-10-30 00:00:00.000000   \n",
       "3  2017-10-26 00:00:00.000000  2017-11-28 00:00:00.000000   \n",
       "4  2017-10-20 00:00:00.000000  2017-11-13 00:00:00.000000   \n",
       "\n",
       "                              tier1_obj              tier2_obj  \n",
       "0                  ENGINE OR PROPULSION                   DOOR  \n",
       "1                  ENGINE OR PROPULSION              DEFLECTOR  \n",
       "2  NAVIGATIONAL CONTROL INSTRUMENTATION  DATA SIGNAL CONVERTER  \n",
       "3                                (null)                  MOUNT  \n",
       "4                                (null)                UNKNOWN  \n",
       "\n",
       "[5 rows x 64 columns]"
      ]
     },
     "execution_count": 31,
     "metadata": {},
     "output_type": "execute_result"
    }
   ],
   "source": [
    "# bring in the joined df from the Dask_MADW_UH60_2017 notebook\n",
    "cc_madw_df = pd.read_csv(r'/Users/mh302/Desktop/2017_joined_cc_madw.csv', encoding='utf-8', low_memory=False)\n",
    "cc_madw_df.head()"
   ]
  },
  {
   "cell_type": "code",
   "execution_count": 32,
   "metadata": {},
   "outputs": [
    {
     "data": {
      "text/plain": [
       "Index(['index', 'COPY', 'DATE_2410', 'PN_NOUN', 'NSN', 'PN', 'SN',\n",
       "       'DESCRIPTION', 'REMARKS', 'SYS_CAT', 'NHA_SN', 'UIC', 'CITY',\n",
       "       'ORG_NAME', 'QTY', 'YEAR', 'NOUN', 'PRICE', 'date1_2410', 'AvailCD',\n",
       "       'CalcLaborCorroCost', 'CalcLaborCost', 'CalcMatlCorroCost',\n",
       "       'CalcMatlCost', 'CorrectiveCorroCost', 'CorrectiveMaintCost',\n",
       "       'CorroPerc', 'DataSource', 'EndItemUniqueID', 'EngineTMS',\n",
       "       'InstallationMasterName', 'ESIZone', 'LMIWBS', 'LMIWBSNIIN',\n",
       "       'MaintActionCD', 'MaintActionFY', 'MaintCompletionDate', 'MaintDLH',\n",
       "       'MaintOperationDetailDesc', 'MaintStartDate', 'Maint_TAT',\n",
       "       'OPNComplDate', 'OPNStartDate', 'OrigLaborCost', 'orig_maint_tat',\n",
       "       'OrigMatlCost', 'PartCorroCost', 'PartMaintCost',\n",
       "       'PreventiveCorrective', 'PreventiveCorroCost', 'PreventiveMaintCost',\n",
       "       'SorCD', 'StructureCorroCost', 'StructureMaintCost', 'TMS',\n",
       "       'TotalCalcCorroCost', 'TotalCalcCost', 'UnitCD', 'Tier1Object',\n",
       "       'Tier2Object', 'maint_start_date', 'maint_end_date', 'tier1_obj',\n",
       "       'tier2_obj'],\n",
       "      dtype='object')"
      ]
     },
     "execution_count": 32,
     "metadata": {},
     "output_type": "execute_result"
    }
   ],
   "source": [
    "cc_madw_df.columns"
   ]
  },
  {
   "cell_type": "code",
   "execution_count": 33,
   "metadata": {},
   "outputs": [
    {
     "name": "stdout",
     "output_type": "stream",
     "text": [
      "44\n",
      "864\n",
      "{'(null)', 'GEARBOX', 'GENERATOR', 'DATA PROCESSING EQUIPMENT', 'DRIVE SYSTEM', 'ALARM OR WARNING SYSTEM', 'AIR CONDITIONING HEATING OR PRESSURIZING EQUIPMENT', 'ARMAMENT MISSILE', 'HYDRAULIC OR PNEUDRALIC', 'AUTOMATIC DIRECTIONAL CONTROL', 'PHOTOGRAPHIC OR VIDEO EQUIPMENT', 'CRYPTOGRAPHIC/SECURITY EQUIPMENT', 'COUNTERMEASURE EQUIPMENT', 'FIRE FIGHTING EQUIPMENT', 'NAVIGATIONAL CONTROL INSTRUMENTATION', 'ELECTRICAL SYSTEM', 'INSULATION OR LAGGING', 'GROUND SUPPORT EQUIPMENT', 'ARMAMENT NON MISSILE', 'NON-DIRECTIONAL CONTROL INSTRUMENTATION', 'BODY FRAME OR HULL DOOR', 'CARGO HANDLING EQUIPMENT', 'MAINTENANCE OR REPAIR SHOP EQUIPMENT', 'TARGET ACQUISITION SYSTEM', 'BODY FRAME OR HULL NOT DOOR', 'NAVIGATIONAL CONTROL HARDWARE', 'HELICOPTER ROTOR BLADE', 'INDUSTRIAL EQUIPMENT', 'MISCELLANEOUS AIRCRAFT', 'OTHER AVIONIC OR ELECTRONIC', 'REFUELING EQUIPMENT', 'ENVIRONMENTAL CONTROL SYSTEM', 'FIRE CONTROL EQUIPMENT', 'POWER DISTRIBUTION EQUIPMENT', 'FUEL SYSTEM', 'SAFETY RESCUE OR SURVIVAL EQUIPMENT', 'LANDING GEAR OR AXLE', 'ENGINE OR PROPULSION', 'COMMUNICATION EQUIPMENT', 'HELICOPTER DRIVE SYSTEM', 'NIGHT VISION EQUIPMENT', 'RADAR SYSTEMS AND SUBSYSTEMS', 'WASTE DISPOSAL EQUIPMENT', 'TRANSMISSION'}\n",
      "'REPAIR EQUIPMENT'\n",
      "'UPPER EDGE'\n",
      "'WIRESTRIKE'\n",
      "'MICROSWITCH'\n",
      "'TRANSCEIVER'\n",
      "'COVER'\n",
      "'UNKNOWN'\n",
      "'SPINDLE'\n",
      "'SCUPPER'\n",
      "'SUN VISOR'\n",
      "'SWEEPER'\n",
      "'LUG BORE'\n",
      "'ACCESS COVER'\n",
      "'INDICATING ORDER AND METERING'\n",
      "'AUTOMATIC FLIGHT CONTROL'\n",
      "'RECORDER'\n",
      "'BALLAST'\n",
      "'HEAT SHIELD'\n",
      "'INBOARD MOUNT'\n",
      "'FUEL VALVE'\n",
      "'ENCLOSURE'\n"
     ]
    }
   ],
   "source": [
    "# exploring Tier Objects for Tech Report\n",
    "print(len(set(cc_madw_df['Tier1Object'])))\n",
    "print(len(set(cc_madw_df['Tier2Object'])))\n",
    "\n",
    "print(set(cc_madw_df['Tier1Object']))\n",
    "\n",
    "iter = 0\n",
    "for obj in set(cc_madw_df['Tier2Object']):\n",
    "    print(\"'\"+obj+\"'\")\n",
    "    iter += 1\n",
    "    if iter > 20:\n",
    "        break"
   ]
  },
  {
   "cell_type": "code",
   "execution_count": 34,
   "metadata": {},
   "outputs": [
    {
     "data": {
      "text/html": [
       "<div>\n",
       "<style scoped>\n",
       "    .dataframe tbody tr th:only-of-type {\n",
       "        vertical-align: middle;\n",
       "    }\n",
       "\n",
       "    .dataframe tbody tr th {\n",
       "        vertical-align: top;\n",
       "    }\n",
       "\n",
       "    .dataframe thead th {\n",
       "        text-align: right;\n",
       "    }\n",
       "</style>\n",
       "<table border=\"1\" class=\"dataframe\">\n",
       "  <thead>\n",
       "    <tr style=\"text-align: right;\">\n",
       "      <th></th>\n",
       "      <th>index</th>\n",
       "      <th>COPY</th>\n",
       "      <th>DATE_2410</th>\n",
       "      <th>PN_NOUN</th>\n",
       "      <th>NSN</th>\n",
       "      <th>PN</th>\n",
       "      <th>SN</th>\n",
       "      <th>DESCRIPTION_x</th>\n",
       "      <th>REMARKS</th>\n",
       "      <th>SYS_CAT</th>\n",
       "      <th>...</th>\n",
       "      <th>tier2_obj</th>\n",
       "      <th>L1</th>\n",
       "      <th>L2</th>\n",
       "      <th>L3</th>\n",
       "      <th>L4</th>\n",
       "      <th>L5</th>\n",
       "      <th>L6</th>\n",
       "      <th>RFG</th>\n",
       "      <th>DESCRIPTION_y</th>\n",
       "      <th>sim_score</th>\n",
       "    </tr>\n",
       "  </thead>\n",
       "  <tbody>\n",
       "    <tr>\n",
       "      <td>0</td>\n",
       "      <td>40366</td>\n",
       "      <td>1</td>\n",
       "      <td>26-Oct-17</td>\n",
       "      <td>6071T04G02/STAGE 1 NOZZLE ASSY</td>\n",
       "      <td>2.840000e+12</td>\n",
       "      <td>6071T04G02</td>\n",
       "      <td>MDK0V6VV</td>\n",
       "      <td>070-Broken</td>\n",
       "      <td>NaN</td>\n",
       "      <td>T700</td>\n",
       "      <td>...</td>\n",
       "      <td>DOOR</td>\n",
       "      <td>15</td>\n",
       "      <td>C</td>\n",
       "      <td>05</td>\n",
       "      <td>NaN</td>\n",
       "      <td>NaN</td>\n",
       "      <td>NaN</td>\n",
       "      <td>15C05</td>\n",
       "      <td>apu start fuel nozzle</td>\n",
       "      <td>60.0</td>\n",
       "    </tr>\n",
       "    <tr>\n",
       "      <td>1</td>\n",
       "      <td>40366</td>\n",
       "      <td>1</td>\n",
       "      <td>26-Oct-17</td>\n",
       "      <td>6071T04G02/STAGE 1 NOZZLE ASSY</td>\n",
       "      <td>2.840000e+12</td>\n",
       "      <td>6071T04G02</td>\n",
       "      <td>MDK0V6VV</td>\n",
       "      <td>070-Broken</td>\n",
       "      <td>NaN</td>\n",
       "      <td>T700</td>\n",
       "      <td>...</td>\n",
       "      <td>DEFLECTOR</td>\n",
       "      <td>15</td>\n",
       "      <td>C</td>\n",
       "      <td>05</td>\n",
       "      <td>NaN</td>\n",
       "      <td>NaN</td>\n",
       "      <td>NaN</td>\n",
       "      <td>15C05</td>\n",
       "      <td>apu start fuel nozzle</td>\n",
       "      <td>60.0</td>\n",
       "    </tr>\n",
       "    <tr>\n",
       "      <td>2</td>\n",
       "      <td>40366</td>\n",
       "      <td>1</td>\n",
       "      <td>26-Oct-17</td>\n",
       "      <td>6071T04G02/STAGE 1 NOZZLE ASSY</td>\n",
       "      <td>2.840000e+12</td>\n",
       "      <td>6071T04G02</td>\n",
       "      <td>MDK0V6VV</td>\n",
       "      <td>070-Broken</td>\n",
       "      <td>NaN</td>\n",
       "      <td>T700</td>\n",
       "      <td>...</td>\n",
       "      <td>DATA SIGNAL CONVERTER</td>\n",
       "      <td>15</td>\n",
       "      <td>C</td>\n",
       "      <td>05</td>\n",
       "      <td>NaN</td>\n",
       "      <td>NaN</td>\n",
       "      <td>NaN</td>\n",
       "      <td>15C05</td>\n",
       "      <td>apu start fuel nozzle</td>\n",
       "      <td>60.0</td>\n",
       "    </tr>\n",
       "    <tr>\n",
       "      <td>3</td>\n",
       "      <td>40366</td>\n",
       "      <td>1</td>\n",
       "      <td>26-Oct-17</td>\n",
       "      <td>6071T04G02/STAGE 1 NOZZLE ASSY</td>\n",
       "      <td>2.840000e+12</td>\n",
       "      <td>6071T04G02</td>\n",
       "      <td>MDK0V6VV</td>\n",
       "      <td>070-Broken</td>\n",
       "      <td>NaN</td>\n",
       "      <td>T700</td>\n",
       "      <td>...</td>\n",
       "      <td>MOUNT</td>\n",
       "      <td>15</td>\n",
       "      <td>C</td>\n",
       "      <td>05</td>\n",
       "      <td>NaN</td>\n",
       "      <td>NaN</td>\n",
       "      <td>NaN</td>\n",
       "      <td>15C05</td>\n",
       "      <td>apu start fuel nozzle</td>\n",
       "      <td>60.0</td>\n",
       "    </tr>\n",
       "    <tr>\n",
       "      <td>4</td>\n",
       "      <td>40366</td>\n",
       "      <td>1</td>\n",
       "      <td>26-Oct-17</td>\n",
       "      <td>6071T04G02/STAGE 1 NOZZLE ASSY</td>\n",
       "      <td>2.840000e+12</td>\n",
       "      <td>6071T04G02</td>\n",
       "      <td>MDK0V6VV</td>\n",
       "      <td>070-Broken</td>\n",
       "      <td>NaN</td>\n",
       "      <td>T700</td>\n",
       "      <td>...</td>\n",
       "      <td>UNKNOWN</td>\n",
       "      <td>15</td>\n",
       "      <td>C</td>\n",
       "      <td>05</td>\n",
       "      <td>NaN</td>\n",
       "      <td>NaN</td>\n",
       "      <td>NaN</td>\n",
       "      <td>15C05</td>\n",
       "      <td>apu start fuel nozzle</td>\n",
       "      <td>60.0</td>\n",
       "    </tr>\n",
       "  </tbody>\n",
       "</table>\n",
       "<p>5 rows × 73 columns</p>\n",
       "</div>"
      ],
      "text/plain": [
       "   index  COPY  DATE_2410                         PN_NOUN           NSN  \\\n",
       "0  40366     1  26-Oct-17  6071T04G02/STAGE 1 NOZZLE ASSY  2.840000e+12   \n",
       "1  40366     1  26-Oct-17  6071T04G02/STAGE 1 NOZZLE ASSY  2.840000e+12   \n",
       "2  40366     1  26-Oct-17  6071T04G02/STAGE 1 NOZZLE ASSY  2.840000e+12   \n",
       "3  40366     1  26-Oct-17  6071T04G02/STAGE 1 NOZZLE ASSY  2.840000e+12   \n",
       "4  40366     1  26-Oct-17  6071T04G02/STAGE 1 NOZZLE ASSY  2.840000e+12   \n",
       "\n",
       "           PN        SN DESCRIPTION_x REMARKS SYS_CAT  ...  \\\n",
       "0  6071T04G02  MDK0V6VV    070-Broken     NaN    T700  ...   \n",
       "1  6071T04G02  MDK0V6VV    070-Broken     NaN    T700  ...   \n",
       "2  6071T04G02  MDK0V6VV    070-Broken     NaN    T700  ...   \n",
       "3  6071T04G02  MDK0V6VV    070-Broken     NaN    T700  ...   \n",
       "4  6071T04G02  MDK0V6VV    070-Broken     NaN    T700  ...   \n",
       "\n",
       "               tier2_obj  L1 L2  L3   L4   L5   L6    RFG  \\\n",
       "0                   DOOR  15  C  05  NaN  NaN  NaN  15C05   \n",
       "1              DEFLECTOR  15  C  05  NaN  NaN  NaN  15C05   \n",
       "2  DATA SIGNAL CONVERTER  15  C  05  NaN  NaN  NaN  15C05   \n",
       "3                  MOUNT  15  C  05  NaN  NaN  NaN  15C05   \n",
       "4                UNKNOWN  15  C  05  NaN  NaN  NaN  15C05   \n",
       "\n",
       "           DESCRIPTION_y sim_score  \n",
       "0  apu start fuel nozzle      60.0  \n",
       "1  apu start fuel nozzle      60.0  \n",
       "2  apu start fuel nozzle      60.0  \n",
       "3  apu start fuel nozzle      60.0  \n",
       "4  apu start fuel nozzle      60.0  \n",
       "\n",
       "[5 rows x 73 columns]"
      ]
     },
     "execution_count": 34,
     "metadata": {},
     "output_type": "execute_result"
    }
   ],
   "source": [
    "cc_madw_df = pd.merge(cc_madw_df, cc_treez_match_df, on='NOUN', how='left')\n",
    "cc_madw_df.head()"
   ]
  },
  {
   "cell_type": "code",
   "execution_count": null,
   "metadata": {},
   "outputs": [],
   "source": [
    "#LEGACY for comparison to record linkage techniques\n",
    "%%script false --no-raise-error\n",
    "import re\n",
    "\n",
    "# already did the date and UIC joining\n",
    "# this finds any word in NOUN within any tier1 or tier2 object for each row.\n",
    "tier_1_match = []\n",
    "tier_2_match = []\n",
    "i=-1\n",
    "for record in cc_madw_df['NOUN'].values:\n",
    "    i += 1\n",
    "    #print(record.split())\n",
    "    if i % 100000 == 0:\n",
    "        print(i)\n",
    "    \n",
    "    try:\n",
    "        # check for NOUN in Tier1Object\n",
    "        if re.compile('|'.join(record.split()),re.IGNORECASE).search(cc_madw_df['tier1_obj'].values[i]):\n",
    "            tier_1_match.append(1)\n",
    "        else:\n",
    "            tier_1_match.append(0)\n",
    "    except:\n",
    "        tier_1_match.append(0)\n",
    "        print(\"An exception (Tier1) occurred at index: \", i, cc_madw_df['NOUN'].values[i])\n",
    "        \n",
    "    try:       \n",
    "        # check for NOUN in Tier2Object\n",
    "        if re.compile('|'.join(record.split()),re.IGNORECASE).search(cc_madw_df['tier2_obj'].values[i]):\n",
    "            tier_2_match.append(1)\n",
    "        else:\n",
    "            tier_2_match.append(0)\n",
    "    except:\n",
    "        tier_2_match.append(0)\n",
    "        print(\"An exception (Tier2) occurred at index: \", i, cc_madw_df['NOUN'].values[i])"
   ]
  },
  {
   "cell_type": "markdown",
   "metadata": {},
   "source": [
    "## Method to match MADW tier objects\n",
    "- Establish an easily searched hierarchical df for the UH60 parts tree (df)\n",
    "- Find the best match for each DA2410 part in the UH60 parts tree, join the 2410 part and its similarity score in columns to df\n",
    "- Join the parts tree df with the madw_cc master df\n",
    "- Now can check by row"
   ]
  },
  {
   "cell_type": "markdown",
   "metadata": {},
   "source": [
    "For each block of 2410 records\n",
    "    calc the fuzzy match score and JW score for each tier object compared to the parts tree parts (ie all in same row)\n",
    "    calc the fuzzy match score and JW score for each tier object, for each object up the parts tree hierarchy\n",
    "    return the best row for the 2410 block, the best matches of tier obj to parts tree obj, and their scores\n",
    "    \n",
    "Now I can look at similarity scores for each tier obj to the parts tree part for each 2410 record\n",
    "Set a threshold for what is a part match and adjudicate which 2410 records are not reflected inthe MADW\n",
    "Then check for corrosion matches on those parts that have a match in the MADW\n",
    "\n",
    "    "
   ]
  },
  {
   "cell_type": "code",
   "execution_count": null,
   "metadata": {},
   "outputs": [],
   "source": [
    "for i in range(0,len(cc_madw_df['NOUN'].values)):\n",
    "    # calc sorted levenshtein distance of tier objs to best 2410 parts tree match\n",
    "    \n",
    "    # look upwards in the parts tree hierarchy, calc the similarity scores, return the best matches for tier objs\n",
    "    \n",
    "    # "
   ]
  },
  {
   "cell_type": "code",
   "execution_count": 35,
   "metadata": {},
   "outputs": [],
   "source": [
    "# can we do this part with column-wise operations? YES\n",
    "# calc sorted levenshtein distance of tier objs to best 2410 parts tree match\n",
    "cc_madw_df['t1_prt_tree_lev'] = fuzz.token_sort_ratio(cc_madw_df['tier1_obj'].str.lower(), cc_madw_df['DESCRIPTION_y'])\n",
    "cc_madw_df['t2_prt_tree_lev'] = fuzz.token_sort_ratio(cc_madw_df['tier2_obj'].str.lower(), cc_madw_df['DESCRIPTION_y'])"
   ]
  },
  {
   "cell_type": "code",
   "execution_count": 36,
   "metadata": {},
   "outputs": [
    {
     "data": {
      "text/plain": [
       "0    54\n",
       "1    54\n",
       "2    54\n",
       "3    54\n",
       "4    54\n",
       "Name: t1_prt_tree_lev, dtype: int64"
      ]
     },
     "execution_count": 36,
     "metadata": {},
     "output_type": "execute_result"
    }
   ],
   "source": [
    "cc_madw_df['t1_prt_tree_lev'].head()"
   ]
  },
  {
   "cell_type": "code",
   "execution_count": 37,
   "metadata": {},
   "outputs": [
    {
     "data": {
      "text/html": [
       "<div>\n",
       "<style scoped>\n",
       "    .dataframe tbody tr th:only-of-type {\n",
       "        vertical-align: middle;\n",
       "    }\n",
       "\n",
       "    .dataframe tbody tr th {\n",
       "        vertical-align: top;\n",
       "    }\n",
       "\n",
       "    .dataframe thead th {\n",
       "        text-align: right;\n",
       "    }\n",
       "</style>\n",
       "<table border=\"1\" class=\"dataframe\">\n",
       "  <thead>\n",
       "    <tr style=\"text-align: right;\">\n",
       "      <th></th>\n",
       "      <th>RFG</th>\n",
       "      <th>DESCRIPTION</th>\n",
       "    </tr>\n",
       "  </thead>\n",
       "  <tbody>\n",
       "    <tr>\n",
       "      <td>697</td>\n",
       "      <td>15</td>\n",
       "      <td>auxiliary power plant (apu) system</td>\n",
       "    </tr>\n",
       "    <tr>\n",
       "      <td>698</td>\n",
       "      <td>15A</td>\n",
       "      <td>apu installation</td>\n",
       "    </tr>\n",
       "    <tr>\n",
       "      <td>699</td>\n",
       "      <td>15A01</td>\n",
       "      <td>inboard/outboard mount, apu</td>\n",
       "    </tr>\n",
       "    <tr>\n",
       "      <td>700</td>\n",
       "      <td>15A02</td>\n",
       "      <td>apu exhaust duct</td>\n",
       "    </tr>\n",
       "    <tr>\n",
       "      <td>701</td>\n",
       "      <td>15A03</td>\n",
       "      <td>apu combustor drain valve</td>\n",
       "    </tr>\n",
       "    <tr>\n",
       "      <td>702</td>\n",
       "      <td>15A04</td>\n",
       "      <td>apu control unit</td>\n",
       "    </tr>\n",
       "    <tr>\n",
       "      <td>703</td>\n",
       "      <td>15A05</td>\n",
       "      <td>apu control switch</td>\n",
       "    </tr>\n",
       "    <tr>\n",
       "      <td>704</td>\n",
       "      <td>15A06</td>\n",
       "      <td>apu inlet barrier filter</td>\n",
       "    </tr>\n",
       "    <tr>\n",
       "      <td>705</td>\n",
       "      <td>15B</td>\n",
       "      <td>apu engine</td>\n",
       "    </tr>\n",
       "    <tr>\n",
       "      <td>706</td>\n",
       "      <td>15B01</td>\n",
       "      <td>apu combustor section</td>\n",
       "    </tr>\n",
       "    <tr>\n",
       "      <td>707</td>\n",
       "      <td>15B02</td>\n",
       "      <td>apu turbine</td>\n",
       "    </tr>\n",
       "    <tr>\n",
       "      <td>708</td>\n",
       "      <td>15B03</td>\n",
       "      <td>apu turbine wheel</td>\n",
       "    </tr>\n",
       "    <tr>\n",
       "      <td>709</td>\n",
       "      <td>15B04</td>\n",
       "      <td>apu rotor</td>\n",
       "    </tr>\n",
       "    <tr>\n",
       "      <td>710</td>\n",
       "      <td>15B06</td>\n",
       "      <td>apu hour meter</td>\n",
       "    </tr>\n",
       "    <tr>\n",
       "      <td>711</td>\n",
       "      <td>15C</td>\n",
       "      <td>apu fuel system</td>\n",
       "    </tr>\n",
       "    <tr>\n",
       "      <td>712</td>\n",
       "      <td>15C01</td>\n",
       "      <td>apu fuel control</td>\n",
       "    </tr>\n",
       "    <tr>\n",
       "      <td>713</td>\n",
       "      <td>15C02</td>\n",
       "      <td>acceleration control</td>\n",
       "    </tr>\n",
       "    <tr>\n",
       "      <td>714</td>\n",
       "      <td>15C03</td>\n",
       "      <td>apu fuel filter</td>\n",
       "    </tr>\n",
       "    <tr>\n",
       "      <td>715</td>\n",
       "      <td>15C04</td>\n",
       "      <td>apu fuel pump</td>\n",
       "    </tr>\n",
       "    <tr>\n",
       "      <td>716</td>\n",
       "      <td>15C05</td>\n",
       "      <td>apu start fuel nozzle</td>\n",
       "    </tr>\n",
       "    <tr>\n",
       "      <td>717</td>\n",
       "      <td>15C06</td>\n",
       "      <td>apu fuel solenoid valve</td>\n",
       "    </tr>\n",
       "    <tr>\n",
       "      <td>718</td>\n",
       "      <td>15D</td>\n",
       "      <td>apu electrical system</td>\n",
       "    </tr>\n",
       "    <tr>\n",
       "      <td>719</td>\n",
       "      <td>15D01</td>\n",
       "      <td>wiring harness, apu electrical sys</td>\n",
       "    </tr>\n",
       "    <tr>\n",
       "      <td>720</td>\n",
       "      <td>15D02</td>\n",
       "      <td>ignition exciter, apu electrical sys</td>\n",
       "    </tr>\n",
       "    <tr>\n",
       "      <td>721</td>\n",
       "      <td>15D03</td>\n",
       "      <td>ignition plug, apu electrical sys</td>\n",
       "    </tr>\n",
       "    <tr>\n",
       "      <td>722</td>\n",
       "      <td>15E</td>\n",
       "      <td>apu oil system</td>\n",
       "    </tr>\n",
       "    <tr>\n",
       "      <td>723</td>\n",
       "      <td>15E01</td>\n",
       "      <td>apu oil filter</td>\n",
       "    </tr>\n",
       "    <tr>\n",
       "      <td>724</td>\n",
       "      <td>15E02</td>\n",
       "      <td>apu oil pump</td>\n",
       "    </tr>\n",
       "    <tr>\n",
       "      <td>725</td>\n",
       "      <td>15F</td>\n",
       "      <td>apu reduction drive</td>\n",
       "    </tr>\n",
       "    <tr>\n",
       "      <td>726</td>\n",
       "      <td>15G</td>\n",
       "      <td>apu generator</td>\n",
       "    </tr>\n",
       "  </tbody>\n",
       "</table>\n",
       "</div>"
      ],
      "text/plain": [
       "       RFG                           DESCRIPTION\n",
       "697     15    auxiliary power plant (apu) system\n",
       "698    15A                      apu installation\n",
       "699  15A01           inboard/outboard mount, apu\n",
       "700  15A02                      apu exhaust duct\n",
       "701  15A03             apu combustor drain valve\n",
       "702  15A04                      apu control unit\n",
       "703  15A05                    apu control switch\n",
       "704  15A06              apu inlet barrier filter\n",
       "705    15B                            apu engine\n",
       "706  15B01                 apu combustor section\n",
       "707  15B02                           apu turbine\n",
       "708  15B03                     apu turbine wheel\n",
       "709  15B04                             apu rotor\n",
       "710  15B06                        apu hour meter\n",
       "711    15C                       apu fuel system\n",
       "712  15C01                      apu fuel control\n",
       "713  15C02                  acceleration control\n",
       "714  15C03                       apu fuel filter\n",
       "715  15C04                         apu fuel pump\n",
       "716  15C05                 apu start fuel nozzle\n",
       "717  15C06               apu fuel solenoid valve\n",
       "718    15D                 apu electrical system\n",
       "719  15D01    wiring harness, apu electrical sys\n",
       "720  15D02  ignition exciter, apu electrical sys\n",
       "721  15D03     ignition plug, apu electrical sys\n",
       "722    15E                        apu oil system\n",
       "723  15E01                        apu oil filter\n",
       "724  15E02                          apu oil pump\n",
       "725    15F                   apu reduction drive\n",
       "726    15G                         apu generator"
      ]
     },
     "execution_count": 37,
     "metadata": {},
     "output_type": "execute_result"
    }
   ],
   "source": [
    "high_level_cd = cc_madw_df.loc[1, 'L1']\n",
    "df[df['L1']==high_level_cd].loc[: , ['RFG', 'DESCRIPTION']]"
   ]
  },
  {
   "cell_type": "code",
   "execution_count": 38,
   "metadata": {},
   "outputs": [
    {
     "name": "stdout",
     "output_type": "stream",
     "text": [
      "0\n",
      "100000\n",
      "200000\n",
      "300000\n",
      "400000\n",
      "500000\n",
      "600000\n",
      "700000\n",
      "800000\n",
      "900000\n",
      "1000000\n",
      "1100000\n",
      "1200000\n"
     ]
    }
   ],
   "source": [
    "# Need to look 'up' the parts tree and then keep the best match for that major component of the UH60 parts tree\n",
    "# Tier 2 obj may be a higher level in the tree than the 2410 part since the maintenance action may have been much broader than the 2410 part that was removed from the UH60\n",
    "# Tier 1 object SHOULD be at a higher level in the tree than the 2410 part and Tier 2 part\n",
    "tier_tree_match = []\n",
    "# \n",
    "for row_i in range(len(cc_madw_df['NOUN'].values)):\n",
    "    \n",
    "    tier1 = cc_madw_df.loc[row_i, 'tier1_obj']\n",
    "    tier2 = cc_madw_df.loc[row_i, 'tier2_obj']\n",
    "    \n",
    "    # use the highest level tree hierarchy code and search accross all those subparts\n",
    "    high_level_cd = cc_madw_df.loc[row_i, 'L1']\n",
    "    tmp = df[df['L1']==high_level_cd].loc[:, ['RFG', 'DESCRIPTION']]\n",
    "    \n",
    "    similarity_max1 = cc_madw_df.loc[row_i, 't1_prt_tree_lev']\n",
    "    similarity_max2 = cc_madw_df.loc[row_i, 't2_prt_tree_lev']\n",
    "    tree_match1 = \"No Improvement\"\n",
    "    tree_match2 = \"No Improvement\"\n",
    "    for tree_part in tmp['DESCRIPTION'].values:\n",
    "        if fuzz.token_sort_ratio(tier1, tree_part) > similarity_max1:\n",
    "            similarity_max1 = fuzz.token_sort_ratio(tier1, tree_part)\n",
    "            tree_match1 = tree_part\n",
    "        if fuzz.token_sort_ratio(tier2, tree_part) > similarity_max2:\n",
    "            similarity_max2 = fuzz.token_sort_ratio(tier2, tree_part)\n",
    "            tree_match2 = tree_part\n",
    "            \n",
    "    tier_tree_match.append([tree_match1, similarity_max1, tree_match2, similarity_max2])\n",
    "    \n",
    "    if row_i % 100000 == 0:\n",
    "        print(row_i)\n",
    "    \n"
   ]
  },
  {
   "cell_type": "code",
   "execution_count": 39,
   "metadata": {},
   "outputs": [],
   "source": [
    "ttm_df = pd.DataFrame(tier_tree_match, columns = ['tree_match1', 'similarity_max1', 'tree_match2', 'similarity_max2'])\n",
    "cc_madw_df = pd.concat([cc_madw_df, ttm_df], axis=1)\n",
    "#ttm_df\n",
    "#set(ttm_df['tree_match1'])\n",
    "#set(ttm_df['tree_match2'])\n"
   ]
  },
  {
   "cell_type": "code",
   "execution_count": 101,
   "metadata": {},
   "outputs": [],
   "source": [
    "#cc_madw_df.to_csv(r'/Users/mh302/Desktop/2017_cc_madw_df_fuzzy.csv', encoding='utf-8', index=False)\n",
    "#cc_madw_df = pd.read_csv(r'/Users/mh302/Desktop/2017_cc_madw_df_fuzzy.csv', encoding='utf-8', low_memory=False)"
   ]
  },
  {
   "cell_type": "code",
   "execution_count": 40,
   "metadata": {},
   "outputs": [
    {
     "data": {
      "text/plain": [
       "Index(['index', 'COPY', 'DATE_2410', 'PN_NOUN', 'NSN', 'PN', 'SN',\n",
       "       'DESCRIPTION_x', 'REMARKS', 'SYS_CAT', 'NHA_SN', 'UIC', 'CITY',\n",
       "       'ORG_NAME', 'QTY', 'YEAR', 'NOUN', 'PRICE', 'date1_2410', 'AvailCD',\n",
       "       'CalcLaborCorroCost', 'CalcLaborCost', 'CalcMatlCorroCost',\n",
       "       'CalcMatlCost', 'CorrectiveCorroCost', 'CorrectiveMaintCost',\n",
       "       'CorroPerc', 'DataSource', 'EndItemUniqueID', 'EngineTMS',\n",
       "       'InstallationMasterName', 'ESIZone', 'LMIWBS', 'LMIWBSNIIN',\n",
       "       'MaintActionCD', 'MaintActionFY', 'MaintCompletionDate', 'MaintDLH',\n",
       "       'MaintOperationDetailDesc', 'MaintStartDate', 'Maint_TAT',\n",
       "       'OPNComplDate', 'OPNStartDate', 'OrigLaborCost', 'orig_maint_tat',\n",
       "       'OrigMatlCost', 'PartCorroCost', 'PartMaintCost',\n",
       "       'PreventiveCorrective', 'PreventiveCorroCost', 'PreventiveMaintCost',\n",
       "       'SorCD', 'StructureCorroCost', 'StructureMaintCost', 'TMS',\n",
       "       'TotalCalcCorroCost', 'TotalCalcCost', 'UnitCD', 'Tier1Object',\n",
       "       'Tier2Object', 'maint_start_date', 'maint_end_date', 'tier1_obj',\n",
       "       'tier2_obj', 'L1', 'L2', 'L3', 'L4', 'L5', 'L6', 'RFG', 'DESCRIPTION_y',\n",
       "       'sim_score', 't1_prt_tree_lev', 't2_prt_tree_lev', 'tree_match1',\n",
       "       'similarity_max1', 'tree_match2', 'similarity_max2'],\n",
       "      dtype='object')"
      ]
     },
     "execution_count": 40,
     "metadata": {},
     "output_type": "execute_result"
    }
   ],
   "source": [
    "cc_madw_df.columns"
   ]
  },
  {
   "cell_type": "code",
   "execution_count": 41,
   "metadata": {},
   "outputs": [],
   "source": [
    "# for each unique corpus christi record, find the best match of objects \n",
    "obj1_best_match_ids = []\n",
    "obj2_best_match_ids = []\n",
    "for id in set(cc_madw_df['index'].values):\n",
    "    # set up emtpy df\n",
    "    temp = pd.DataFrame()\n",
    "\n",
    "    # subset to the joined records for each unique cc record\n",
    "    temp = cc_madw_df[cc_madw_df['index'] == id]\n",
    "    \n",
    "    #keep record id for the best matching record for both tier 1 and 2\n",
    "    # df.loc[df['Value'].idxmax()]\n",
    "    obj1_best_match_ids.append(temp['similarity_max1'].idxmax(axis=0))\n",
    "    obj2_best_match_ids.append(temp['similarity_max2'].idxmax(axis=0))"
   ]
  },
  {
   "cell_type": "code",
   "execution_count": 6,
   "metadata": {},
   "outputs": [],
   "source": [
    "#obj1_best_match_ids"
   ]
  },
  {
   "cell_type": "code",
   "execution_count": null,
   "metadata": {},
   "outputs": [],
   "source": [
    "%%script false --no-raise-error\n",
    "#from joblib import Parallel, delayed\n",
    "#import multiprocessing\n",
    "import multiprocessing as mp\n",
    "\n",
    "tier_tree_match_dev = []\n",
    "\n",
    "inputs = range(1000, 2000) # this is the how many iterations, len(cc_madw_df['NOUN'].values)\n",
    "\n",
    "def processInput(i, cc_madw_df= cc_madw_df, df=df):  # this is what to do with each iteration\n",
    "    \n",
    "    tier1 = cc_madw_df.loc[i, 'tier1_obj']\n",
    "    tier2 = cc_madw_df.loc[i, 'tier2_obj']\n",
    "    \n",
    "    # use the highest level tree hierarchy code and search accross all those subparts\n",
    "    high_level_cd = cc_madw_df.loc[i, 'L1']\n",
    "    tmp = df[df['L1']==high_level_cd].loc[:, ['RFG', 'DESCRIPTION']]\n",
    "    \n",
    "    similarity_max1 = cc_madw_df.loc[i, 't1_prt_tree_lev']\n",
    "    similarity_max2 = cc_madw_df.loc[i, 't2_prt_tree_lev']\n",
    "    tree_match1 = \"No Improvement\"\n",
    "    tree_match2 = \"No Improvement\"\n",
    "    for tree_part in tmp['DESCRIPTION'].values:\n",
    "        if fuzz.token_sort_ratio(tier1, tree_part) > similarity_max1:\n",
    "            similarity_max1 = fuzz.token_sort_ratio(tier1, tree_part)\n",
    "            tree_match1 = tree_part\n",
    "        if fuzz.token_sort_ratio(tier2, tree_part) > similarity_max2:\n",
    "            similarity_max2 = fuzz.token_sort_ratio(tier2, tree_part)\n",
    "            tree_match2 = tree_part\n",
    "            \n",
    "    return([tree_match1, similarity_max1, tree_match2, similarity_max2])\n",
    "\n",
    "#if (__name__ == '__main__'):\n",
    "#    pool = mp.Pool(mp.cpu_count())\n",
    "#    results = [pool.apply(processInput, args=(i, cc_madw_df, df)) for i in inputs]\n",
    "#pool.close()\n",
    "#results\n",
    "test = [processInput(i, cc_madw_df, df) for i in inputs]\n",
    "test\n",
    "\n",
    "#num_cores = multiprocessing.cpu_count()\n",
    "#tier_tree_match_dev = Parallel(n_jobs=num_cores)(delayed(processInput)(i, cc_madw_df, df) for i in inputs) # this divides the iterations out to the cores"
   ]
  },
  {
   "cell_type": "code",
   "execution_count": null,
   "metadata": {},
   "outputs": [],
   "source": [
    "%%script false --no-raise-error\n",
    "# retain the unique cc id's\n",
    "cc_madw_df['cc_id'] = cc_madw_df['index']\n",
    "# new index column to track each joined record\n",
    "cc_madw_df = cc_madw_df.reset_index()\n",
    "cc_madw_df.head()"
   ]
  },
  {
   "cell_type": "code",
   "execution_count": 42,
   "metadata": {},
   "outputs": [
    {
     "name": "stdout",
     "output_type": "stream",
     "text": [
      "0\n",
      "100000\n",
      "200000\n",
      "300000\n",
      "400000\n",
      "500000\n",
      "600000\n",
      "700000\n",
      "800000\n",
      "900000\n",
      "1000000\n",
      "1100000\n",
      "1200000\n"
     ]
    }
   ],
   "source": [
    "# populate column to id matches for corrosion tag\n",
    "#obj_match_sum = []\n",
    "corr_match = []\n",
    "\n",
    "for i in range(0, len(cc_madw_df['index'])):\n",
    "    #obj_match_sum.append(cc_madw_df['tier_1_match'][i] + cc_madw_df['tier_2_match'][i])\n",
    "    if cc_madw_df['CorroPerc'][i] != 0 and cc_madw_df['DESCRIPTION_x'][i] in ['170-Corroded', '520-Pitted', '050-Blistered', '240-Flaking']:\n",
    "        corr_match.append(1)\n",
    "    elif cc_madw_df['CorroPerc'][i] == 0 and cc_madw_df['DESCRIPTION_x'][i] not in ['170-Corroded', '520-Pitted', '050-Blistered', '240-Flaking']:\n",
    "        corr_match.append(1)\n",
    "    else:\n",
    "        corr_match.append(0)\n",
    "    if i % 100000 == 0:\n",
    "        print(i)    \n",
    "#cc_madw_df['obj_match_sum'] = obj_match_sum\n",
    "cc_madw_df['corr_match'] = corr_match"
   ]
  },
  {
   "cell_type": "code",
   "execution_count": null,
   "metadata": {},
   "outputs": [],
   "source": [
    "# LEGACY for comparison to record linkage\n",
    "%%script false --no-raise-error\n",
    "# for each unique corpus christi record, find the best match of objects \n",
    "obj2x_corr_id = []\n",
    "obj1x_corr_id = []\n",
    "obj1x_id = []\n",
    "no_match_ids = []\n",
    "\n",
    "for id in set(cc_madw_df['index'].values):\n",
    "    # set up emtpy df\n",
    "    temp = pd.DataFrame()\n",
    "\n",
    "    # subset to the joined records for each unique cc record\n",
    "    temp = cc_madw_df[cc_madw_df['index'] == id]\n",
    "    \n",
    "    if not temp[(temp['obj_match_sum']==2) & (temp['corr_match']==1)].empty:\n",
    "        # if exists a match of both tier 1 and tier 2 objs and corr tag match: get the id (level_0) for the record\n",
    "         obj2x_corr_id.append(temp[(temp['obj_match_sum']==2) & (temp['corr_match']==1)]['level_0'].values[0])\n",
    "        \n",
    "    elif not temp[(temp['obj_match_sum']==1) & (temp['corr_match']==1)].empty:\n",
    "        # if exists a match of either tier 1 or tier 2 objs and corr tag match: get the id (level_0) for the record\n",
    "        obj1x_corr_id.append(temp[(temp['obj_match_sum']==1) & (temp['corr_match']==1)]['level_0'].values[0])\n",
    "        \n",
    "    elif not temp[(temp['obj_match_sum']==1) & (temp['corr_match']==0)].empty:\n",
    "        # if exists a match of either tier 1 or tier 2 objs BUT NO corr tag match: get the id (level_0) for the record\n",
    "        obj1x_id.append(temp[(temp['obj_match_sum']==1) & (temp['corr_match']==0)]['level_0'].values[0])\n",
    "    else:\n",
    "        # no obj match\n",
    "        no_match_ids.append(id)"
   ]
  },
  {
   "cell_type": "code",
   "execution_count": 43,
   "metadata": {},
   "outputs": [],
   "source": [
    "import matplotlib.pyplot as plt"
   ]
  },
  {
   "cell_type": "code",
   "execution_count": 44,
   "metadata": {},
   "outputs": [
    {
     "data": {
      "text/plain": [
       "69.83626198083067"
      ]
     },
     "execution_count": 44,
     "metadata": {},
     "output_type": "execute_result"
    }
   ],
   "source": [
    "cc_madw_df.iloc[obj1_best_match_ids].similarity_max1.mean()"
   ]
  },
  {
   "cell_type": "code",
   "execution_count": 45,
   "metadata": {},
   "outputs": [
    {
     "data": {
      "text/plain": [
       "0.1757188498402556"
      ]
     },
     "execution_count": 45,
     "metadata": {},
     "output_type": "execute_result"
    }
   ],
   "source": [
    "# proportion scoring below 60\n",
    "obj1_best_levs = cc_madw_df.iloc[obj1_best_match_ids].similarity_max1\n",
    "obj1_best_levs[obj1_best_levs<60].count()/len(obj1_best_levs)"
   ]
  },
  {
   "cell_type": "code",
   "execution_count": 46,
   "metadata": {},
   "outputs": [
    {
     "data": {
      "text/plain": [
       "0.09185303514376997"
      ]
     },
     "execution_count": 46,
     "metadata": {},
     "output_type": "execute_result"
    }
   ],
   "source": [
    "obj1_best_levs[obj1_best_levs>80].count()/len(obj1_best_levs)"
   ]
  },
  {
   "cell_type": "code",
   "execution_count": 48,
   "metadata": {},
   "outputs": [
    {
     "data": {
      "image/png": "[encoded data removed]",
      "text/plain": [
       "<Figure size 432x288 with 1 Axes>"
      ]
     },
     "metadata": {
      "needs_background": "light"
     },
     "output_type": "display_data"
    }
   ],
   "source": [
    "#cc_madw_df.iloc[obj1_best_match_ids].similarity_max1.plot.hist(grid=True, bins=20, rwidth=0.9,\n",
    "#                   color='#607c8e')\n",
    "#plt.title('Histogram of Tier 1 Object Match Scores')\n",
    "#plt.xlabel('Levenshtein Score')\n",
    "#plt.ylabel('Frequency')\n",
    "#plt.grid(axis='y', alpha=0.75)\n",
    "\n",
    "match = obj1_best_levs[obj1_best_levs>74]\n",
    "non_match = obj1_best_levs[obj1_best_levs<43]\n",
    "pot_match = obj1_best_levs[(obj1_best_levs>=43) & (obj1_best_levs<=74)]\n",
    "\n",
    "bins = np.linspace(28, 100, 72/2)\n",
    "\n",
    "plt.hist([match, non_match, pot_match], bins, label=['match', 'non-match', 'potential match'], stacked=True, rwidth=1)\n",
    "plt.legend(loc='upper left')\n",
    "plt.title('Histogram of Tier 1 Object Match Scores')\n",
    "plt.xlabel('Levenshtein Similarity Score')\n",
    "plt.ylabel('Frequency')\n",
    "plt.grid(axis='both', alpha=0.75)\n",
    "\n",
    "plt.savefig('fuzzy_sort_MADW_tree_hist_T1_new.png', dpi=600, bbox_inches='tight')\n",
    "\n",
    "plt.show()"
   ]
  },
  {
   "cell_type": "code",
   "execution_count": 49,
   "metadata": {},
   "outputs": [
    {
     "name": "stdout",
     "output_type": "stream",
     "text": [
      "Tier 1 Object Accuracy is Estimated at: ( 0.5039952112877948 ,  0.6342978055994714 )\n"
     ]
    }
   ],
   "source": [
    "match = obj1_best_levs[obj1_best_levs>74]\n",
    "non_match = obj1_best_levs[obj1_best_levs<43]\n",
    "pot_match = obj1_best_levs[(obj1_best_levs>=43) & (obj1_best_levs<=74)]\n",
    "\n",
    "T1_acc_low = (len(match) + match_prop[0] * len(pot_match)) / (len(match) + len(non_match) + len(pot_match))\n",
    "T1_acc_high = (len(match) + match_prop[1] * len(pot_match)) / (len(match) + len(non_match) + len(pot_match))\n",
    "print('Tier 1 Object Accuracy is Estimated at: (', T1_acc_low, ', ', T1_acc_high  ,')')"
   ]
  },
  {
   "cell_type": "code",
   "execution_count": 50,
   "metadata": {},
   "outputs": [
    {
     "data": {
      "text/plain": [
       "71.34744408945687"
      ]
     },
     "execution_count": 50,
     "metadata": {},
     "output_type": "execute_result"
    }
   ],
   "source": [
    "cc_madw_df.iloc[obj2_best_match_ids].similarity_max2.mean()"
   ]
  },
  {
   "cell_type": "code",
   "execution_count": 51,
   "metadata": {},
   "outputs": [
    {
     "data": {
      "text/plain": [
       "0.3210862619808307"
      ]
     },
     "execution_count": 51,
     "metadata": {},
     "output_type": "execute_result"
    }
   ],
   "source": [
    "# proportion scoring below 60\n",
    "obj2_best_levs = cc_madw_df.iloc[obj2_best_match_ids].similarity_max2\n",
    "obj2_best_levs[obj2_best_levs<60].count()/len(obj2_best_levs)"
   ]
  },
  {
   "cell_type": "code",
   "execution_count": 52,
   "metadata": {},
   "outputs": [
    {
     "data": {
      "text/plain": [
       "0.2268370607028754"
      ]
     },
     "execution_count": 52,
     "metadata": {},
     "output_type": "execute_result"
    }
   ],
   "source": [
    "obj2_best_levs[obj2_best_levs>80].count()/len(obj2_best_levs)"
   ]
  },
  {
   "cell_type": "code",
   "execution_count": 53,
   "metadata": {},
   "outputs": [
    {
     "data": {
      "image/png": "[encoded data removed]",
      "text/plain": [
       "<Figure size 432x288 with 1 Axes>"
      ]
     },
     "metadata": {
      "needs_background": "light"
     },
     "output_type": "display_data"
    }
   ],
   "source": [
    "#cc_madw_df.iloc[obj2_best_match_ids].similarity_max2.plot.hist(grid=True, bins=20, rwidth=0.9,\n",
    "#                   color='#607c8e')\n",
    "#plt.title('Histogram of Tier 2 Object Match Scores')\n",
    "#plt.xlabel('Levenshtein Score')\n",
    "#plt.ylabel('Frequency')\n",
    "#plt.grid(axis='y', alpha=0.75)\n",
    "\n",
    "match = obj2_best_levs[obj2_best_levs>74]\n",
    "non_match = obj2_best_levs[obj2_best_levs<43]\n",
    "pot_match = obj2_best_levs[(obj2_best_levs>=43) & (obj2_best_levs<=74)]\n",
    "\n",
    "bins = np.linspace(28, 100, 72/2)\n",
    "\n",
    "plt.hist([match, non_match, pot_match], bins, label=['match', 'non-match', 'potential match'], stacked=True, rwidth=2)\n",
    "plt.legend(loc='upper left')\n",
    "plt.title('Histogram of Tier 2 Object Match Scores')\n",
    "plt.xlabel('Levenshtein Similarity Score')\n",
    "plt.ylabel('Frequency')\n",
    "plt.grid(axis='both', alpha=0.75)\n",
    "\n",
    "plt.savefig('fuzzy_sort_MADW_tree_hist_T2_new.png', dpi=600, bbox_inches='tight')\n",
    "\n",
    "plt.show()"
   ]
  },
  {
   "cell_type": "code",
   "execution_count": 54,
   "metadata": {},
   "outputs": [
    {
     "name": "stdout",
     "output_type": "stream",
     "text": [
      "Tier 2 Object Accuracy is Estimated at: ( 0.5922672499569159 ,  0.6993803995182095 )\n"
     ]
    }
   ],
   "source": [
    "T2_acc_low = (len(match) + match_prop[0] * len(pot_match)) / (len(match) + len(non_match) + len(pot_match))\n",
    "T2_acc_high = (len(match) + match_prop[1] * len(pot_match)) / (len(match) + len(non_match) + len(pot_match))\n",
    "print('Tier 2 Object Accuracy is Estimated at: (', T2_acc_low, ', ', T2_acc_high  ,')')"
   ]
  },
  {
   "cell_type": "code",
   "execution_count": 55,
   "metadata": {},
   "outputs": [
    {
     "data": {
      "image/png": "[encoded data removed]",
      "text/plain": [
       "<Figure size 432x288 with 1 Axes>"
      ]
     },
     "metadata": {
      "needs_background": "light"
     },
     "output_type": "display_data"
    }
   ],
   "source": [
    "# histogram of the 2410 parts list to the uh60 parts tree for reference\n",
    "sort_leven_cc = []\n",
    "for list in max_sim_scores_fz:\n",
    "    sort_leven_cc.append(list[1])\n",
    "\n",
    "plt.hist(sort_leven_cc, bins=20, rwidth=0.9, color='#607c8e')\n",
    "plt.title('Histogram of DA2410 Parts to Parts Tree Match Scores')\n",
    "plt.xlabel('Levenshtein Score')\n",
    "plt.ylabel('Frequency')\n",
    "plt.xlim(left=20, right=100)\n",
    "plt.grid(axis='both', alpha=0.75)"
   ]
  },
  {
   "cell_type": "code",
   "execution_count": 56,
   "metadata": {},
   "outputs": [
    {
     "data": {
      "text/plain": [
       "69.73053892215569"
      ]
     },
     "execution_count": 56,
     "metadata": {},
     "output_type": "execute_result"
    }
   ],
   "source": [
    "sum(sort_leven_cc) / len(sort_leven_cc)"
   ]
  },
  {
   "cell_type": "code",
   "execution_count": 57,
   "metadata": {},
   "outputs": [
    {
     "data": {
      "text/plain": [
       "0.2215568862275449"
      ]
     },
     "execution_count": 57,
     "metadata": {},
     "output_type": "execute_result"
    }
   ],
   "source": [
    "# proportion of cc_parts less than 60\n",
    "len([num for num in sort_leven_cc if num < 60]) / len(sort_leven_cc)"
   ]
  },
  {
   "cell_type": "code",
   "execution_count": 58,
   "metadata": {},
   "outputs": [
    {
     "data": {
      "text/plain": [
       "0.18562874251497005"
      ]
     },
     "execution_count": 58,
     "metadata": {},
     "output_type": "execute_result"
    }
   ],
   "source": [
    "# proportion of cc_parts above 80\n",
    "len([num for num in sort_leven_cc if num > 80]) / len(sort_leven_cc)"
   ]
  },
  {
   "cell_type": "code",
   "execution_count": 59,
   "metadata": {},
   "outputs": [],
   "source": [
    "cc_madw_df.to_csv(r'/Users/mh302/Desktop/2017_cc_madw_df_worked_new.csv', encoding='utf-8', index=False)"
   ]
  },
  {
   "cell_type": "markdown",
   "metadata": {},
   "source": [
    "## New session, start below..."
   ]
  },
  {
   "cell_type": "code",
   "execution_count": 3,
   "metadata": {},
   "outputs": [
    {
     "name": "stderr",
     "output_type": "stream",
     "text": [
      "/Users/mh302/opt/anaconda3/lib/python3.7/site-packages/IPython/core/interactiveshell.py:3058: DtypeWarning: Columns (28,31) have mixed types. Specify dtype option on import or set low_memory=False.\n",
      "  interactivity=interactivity, compiler=compiler, result=result)\n"
     ]
    }
   ],
   "source": [
    "import pandas as pd\n",
    "#cc_madw_df = pd.read_csv(r'/Users/mh302/Desktop/2017_cc_madw_df_worked.csv', encoding='utf-8', low_memory=False)\n",
    "cc_madw_df = pd.read_csv(r'/Users/mh302/Desktop/2017_cc_madw_df_worked_new.csv', encoding='utf-8', low_memory=False)"
   ]
  },
  {
   "cell_type": "code",
   "execution_count": null,
   "metadata": {},
   "outputs": [],
   "source": [
    "# for each unique corpus christi record, find the best match of objects \n",
    "obj1_best_match_ids = []\n",
    "obj2_best_match_ids = []\n",
    "for id in set(cc_madw_df['index'].values):\n",
    "    # set up emtpy df\n",
    "    temp = pd.DataFrame()\n",
    "\n",
    "    # subset to the joined records for each unique cc record\n",
    "    temp = cc_madw_df[cc_madw_df['index'] == id]\n",
    "    \n",
    "    #keep record id for the best matching record for both tier 1 and 2\n",
    "    # df.loc[df['Value'].idxmax()]\n",
    "    obj1_best_match_ids.append(temp['similarity_max1'].idxmax(axis=0))\n",
    "    obj2_best_match_ids.append(temp['similarity_max2'].idxmax(axis=0))"
   ]
  },
  {
   "cell_type": "code",
   "execution_count": 8,
   "metadata": {},
   "outputs": [
    {
     "data": {
      "text/html": [
       "<div>\n",
       "<style scoped>\n",
       "    .dataframe tbody tr th:only-of-type {\n",
       "        vertical-align: middle;\n",
       "    }\n",
       "\n",
       "    .dataframe tbody tr th {\n",
       "        vertical-align: top;\n",
       "    }\n",
       "\n",
       "    .dataframe thead th {\n",
       "        text-align: right;\n",
       "    }\n",
       "</style>\n",
       "<table border=\"1\" class=\"dataframe\">\n",
       "  <thead>\n",
       "    <tr style=\"text-align: right;\">\n",
       "      <th></th>\n",
       "      <th>index</th>\n",
       "      <th>COPY</th>\n",
       "      <th>DATE_2410</th>\n",
       "      <th>PN_NOUN</th>\n",
       "      <th>NSN</th>\n",
       "      <th>PN</th>\n",
       "      <th>SN</th>\n",
       "      <th>DESCRIPTION_x</th>\n",
       "      <th>REMARKS</th>\n",
       "      <th>SYS_CAT</th>\n",
       "      <th>...</th>\n",
       "      <th>RFG</th>\n",
       "      <th>DESCRIPTION_y</th>\n",
       "      <th>sim_score</th>\n",
       "      <th>t1_prt_tree_lev</th>\n",
       "      <th>t2_prt_tree_lev</th>\n",
       "      <th>tree_match1</th>\n",
       "      <th>similarity_max1</th>\n",
       "      <th>tree_match2</th>\n",
       "      <th>similarity_max2</th>\n",
       "      <th>corr_match</th>\n",
       "    </tr>\n",
       "  </thead>\n",
       "  <tbody>\n",
       "    <tr>\n",
       "      <td>0</td>\n",
       "      <td>40366</td>\n",
       "      <td>1</td>\n",
       "      <td>26-Oct-17</td>\n",
       "      <td>6071T04G02/STAGE 1 NOZZLE ASSY</td>\n",
       "      <td>2.840000e+12</td>\n",
       "      <td>6071T04G02</td>\n",
       "      <td>MDK0V6VV</td>\n",
       "      <td>070-Broken</td>\n",
       "      <td>NaN</td>\n",
       "      <td>T700</td>\n",
       "      <td>...</td>\n",
       "      <td>15C05</td>\n",
       "      <td>apu start fuel nozzle</td>\n",
       "      <td>60.0</td>\n",
       "      <td>30</td>\n",
       "      <td>32</td>\n",
       "      <td>apu reduction drive</td>\n",
       "      <td>41</td>\n",
       "      <td>apu rotor</td>\n",
       "      <td>46</td>\n",
       "      <td>0</td>\n",
       "    </tr>\n",
       "    <tr>\n",
       "      <td>1</td>\n",
       "      <td>40366</td>\n",
       "      <td>1</td>\n",
       "      <td>26-Oct-17</td>\n",
       "      <td>6071T04G02/STAGE 1 NOZZLE ASSY</td>\n",
       "      <td>2.840000e+12</td>\n",
       "      <td>6071T04G02</td>\n",
       "      <td>MDK0V6VV</td>\n",
       "      <td>070-Broken</td>\n",
       "      <td>NaN</td>\n",
       "      <td>T700</td>\n",
       "      <td>...</td>\n",
       "      <td>15C05</td>\n",
       "      <td>apu start fuel nozzle</td>\n",
       "      <td>60.0</td>\n",
       "      <td>30</td>\n",
       "      <td>32</td>\n",
       "      <td>apu reduction drive</td>\n",
       "      <td>41</td>\n",
       "      <td>apu generator</td>\n",
       "      <td>45</td>\n",
       "      <td>0</td>\n",
       "    </tr>\n",
       "    <tr>\n",
       "      <td>2</td>\n",
       "      <td>40366</td>\n",
       "      <td>1</td>\n",
       "      <td>26-Oct-17</td>\n",
       "      <td>6071T04G02/STAGE 1 NOZZLE ASSY</td>\n",
       "      <td>2.840000e+12</td>\n",
       "      <td>6071T04G02</td>\n",
       "      <td>MDK0V6VV</td>\n",
       "      <td>070-Broken</td>\n",
       "      <td>NaN</td>\n",
       "      <td>T700</td>\n",
       "      <td>...</td>\n",
       "      <td>15C05</td>\n",
       "      <td>apu start fuel nozzle</td>\n",
       "      <td>60.0</td>\n",
       "      <td>30</td>\n",
       "      <td>32</td>\n",
       "      <td>apu fuel control</td>\n",
       "      <td>42</td>\n",
       "      <td>apu combustor drain valve</td>\n",
       "      <td>43</td>\n",
       "      <td>0</td>\n",
       "    </tr>\n",
       "    <tr>\n",
       "      <td>3</td>\n",
       "      <td>40366</td>\n",
       "      <td>1</td>\n",
       "      <td>26-Oct-17</td>\n",
       "      <td>6071T04G02/STAGE 1 NOZZLE ASSY</td>\n",
       "      <td>2.840000e+12</td>\n",
       "      <td>6071T04G02</td>\n",
       "      <td>MDK0V6VV</td>\n",
       "      <td>070-Broken</td>\n",
       "      <td>NaN</td>\n",
       "      <td>T700</td>\n",
       "      <td>...</td>\n",
       "      <td>15C05</td>\n",
       "      <td>apu start fuel nozzle</td>\n",
       "      <td>60.0</td>\n",
       "      <td>30</td>\n",
       "      <td>32</td>\n",
       "      <td>apu oil filter</td>\n",
       "      <td>33</td>\n",
       "      <td>apu control unit</td>\n",
       "      <td>38</td>\n",
       "      <td>0</td>\n",
       "    </tr>\n",
       "    <tr>\n",
       "      <td>4</td>\n",
       "      <td>40366</td>\n",
       "      <td>1</td>\n",
       "      <td>26-Oct-17</td>\n",
       "      <td>6071T04G02/STAGE 1 NOZZLE ASSY</td>\n",
       "      <td>2.840000e+12</td>\n",
       "      <td>6071T04G02</td>\n",
       "      <td>MDK0V6VV</td>\n",
       "      <td>070-Broken</td>\n",
       "      <td>NaN</td>\n",
       "      <td>T700</td>\n",
       "      <td>...</td>\n",
       "      <td>15C05</td>\n",
       "      <td>apu start fuel nozzle</td>\n",
       "      <td>60.0</td>\n",
       "      <td>30</td>\n",
       "      <td>32</td>\n",
       "      <td>apu oil filter</td>\n",
       "      <td>33</td>\n",
       "      <td>apu engine</td>\n",
       "      <td>35</td>\n",
       "      <td>0</td>\n",
       "    </tr>\n",
       "  </tbody>\n",
       "</table>\n",
       "<p>5 rows × 80 columns</p>\n",
       "</div>"
      ],
      "text/plain": [
       "   index  COPY  DATE_2410                         PN_NOUN           NSN  \\\n",
       "0  40366     1  26-Oct-17  6071T04G02/STAGE 1 NOZZLE ASSY  2.840000e+12   \n",
       "1  40366     1  26-Oct-17  6071T04G02/STAGE 1 NOZZLE ASSY  2.840000e+12   \n",
       "2  40366     1  26-Oct-17  6071T04G02/STAGE 1 NOZZLE ASSY  2.840000e+12   \n",
       "3  40366     1  26-Oct-17  6071T04G02/STAGE 1 NOZZLE ASSY  2.840000e+12   \n",
       "4  40366     1  26-Oct-17  6071T04G02/STAGE 1 NOZZLE ASSY  2.840000e+12   \n",
       "\n",
       "           PN        SN DESCRIPTION_x REMARKS SYS_CAT  ...    RFG  \\\n",
       "0  6071T04G02  MDK0V6VV    070-Broken     NaN    T700  ...  15C05   \n",
       "1  6071T04G02  MDK0V6VV    070-Broken     NaN    T700  ...  15C05   \n",
       "2  6071T04G02  MDK0V6VV    070-Broken     NaN    T700  ...  15C05   \n",
       "3  6071T04G02  MDK0V6VV    070-Broken     NaN    T700  ...  15C05   \n",
       "4  6071T04G02  MDK0V6VV    070-Broken     NaN    T700  ...  15C05   \n",
       "\n",
       "           DESCRIPTION_y sim_score t1_prt_tree_lev  t2_prt_tree_lev  \\\n",
       "0  apu start fuel nozzle      60.0              30               32   \n",
       "1  apu start fuel nozzle      60.0              30               32   \n",
       "2  apu start fuel nozzle      60.0              30               32   \n",
       "3  apu start fuel nozzle      60.0              30               32   \n",
       "4  apu start fuel nozzle      60.0              30               32   \n",
       "\n",
       "           tree_match1 similarity_max1                tree_match2  \\\n",
       "0  apu reduction drive              41                  apu rotor   \n",
       "1  apu reduction drive              41              apu generator   \n",
       "2     apu fuel control              42  apu combustor drain valve   \n",
       "3       apu oil filter              33           apu control unit   \n",
       "4       apu oil filter              33                 apu engine   \n",
       "\n",
       "  similarity_max2 corr_match  \n",
       "0              46          0  \n",
       "1              45          0  \n",
       "2              43          0  \n",
       "3              38          0  \n",
       "4              35          0  \n",
       "\n",
       "[5 rows x 80 columns]"
      ]
     },
     "execution_count": 8,
     "metadata": {},
     "output_type": "execute_result"
    }
   ],
   "source": [
    "cc_madw_df.head()"
   ]
  },
  {
   "cell_type": "code",
   "execution_count": null,
   "metadata": {},
   "outputs": [],
   "source": []
  },
  {
   "cell_type": "code",
   "execution_count": 60,
   "metadata": {},
   "outputs": [],
   "source": [
    "cc_fuzzy_match_true_labs =  pd.read_csv('cc_treez_match_df_human_ann.csv')"
   ]
  },
  {
   "cell_type": "code",
   "execution_count": 61,
   "metadata": {},
   "outputs": [
    {
     "data": {
      "text/plain": [
       "0.4311377245508982"
      ]
     },
     "execution_count": 61,
     "metadata": {},
     "output_type": "execute_result"
    }
   ],
   "source": [
    "tot = len(cc_fuzzy_match_true_labs['match'])\n",
    "len(cc_fuzzy_match_true_labs[cc_fuzzy_match_true_labs['match'] == 0].match) / (tot - cc_fuzzy_match_true_labs['match'].isnull().sum())"
   ]
  },
  {
   "cell_type": "code",
   "execution_count": 62,
   "metadata": {},
   "outputs": [
    {
     "data": {
      "text/plain": [
       "74.0"
      ]
     },
     "execution_count": 62,
     "metadata": {},
     "output_type": "execute_result"
    }
   ],
   "source": [
    "max(cc_fuzzy_match_true_labs[cc_fuzzy_match_true_labs['match'] == 0].sim_score)"
   ]
  },
  {
   "cell_type": "code",
   "execution_count": 63,
   "metadata": {},
   "outputs": [
    {
     "data": {
      "text/plain": [
       "0.42857142857142855"
      ]
     },
     "execution_count": 63,
     "metadata": {},
     "output_type": "execute_result"
    }
   ],
   "source": [
    "num_matches43to74 = len(cc_fuzzy_match_true_labs[(cc_fuzzy_match_true_labs['match'] == 1) & (cc_fuzzy_match_true_labs['sim_score'] <= 74) & (cc_fuzzy_match_true_labs['sim_score'] >= 43)].sim_score)\n",
    "total_43to74 = len(cc_fuzzy_match_true_labs[(cc_fuzzy_match_true_labs['sim_score'] <= 74) & (cc_fuzzy_match_true_labs['sim_score'] >= 43)].sim_score)\n",
    "num_matches43to74 / total_43to74\n"
   ]
  },
  {
   "cell_type": "code",
   "execution_count": 64,
   "metadata": {},
   "outputs": [
    {
     "data": {
      "text/plain": [
       "(0.34216314039440565, 0.5149797167484514)"
      ]
     },
     "execution_count": 64,
     "metadata": {},
     "output_type": "execute_result"
    }
   ],
   "source": [
    "from statsmodels.stats import proportion as prop\n",
    "# compute 95% CI on proportion of matches present between sim scores of 43 anad 74\n",
    "match_prop = prop.proportion_confint(count=num_matches43to74, nobs=total_43to74, alpha=0.05, method='normal')\n",
    "match_prop"
   ]
  },
  {
   "cell_type": "code",
   "execution_count": 65,
   "metadata": {},
   "outputs": [
    {
     "data": {
      "image/png": "[encoded data removed]",
      "text/plain": [
       "<Figure size 432x288 with 1 Axes>"
      ]
     },
     "metadata": {
      "needs_background": "light"
     },
     "output_type": "display_data"
    }
   ],
   "source": [
    "match = cc_fuzzy_match_true_labs[cc_fuzzy_match_true_labs['match'] == 1].sim_score\n",
    "non_match = cc_fuzzy_match_true_labs[cc_fuzzy_match_true_labs['match'] == 0].sim_score\n",
    "\n",
    "bins = np.linspace(46, 100, 27)\n",
    "\n",
    "plt.hist([match, non_match], bins, label=['match', 'non-match'])\n",
    "plt.legend(loc='upper left')\n",
    "plt.title('Histogram of CCAD DA2410 Match Scores')\n",
    "plt.xlabel('Levenshtein Similarity Score')\n",
    "plt.ylabel('Frequency')\n",
    "plt.grid(axis='both', alpha=0.75)\n",
    "\n",
    "plt.savefig('fuzzy_sort_cc_tree_hist2_new.png', dpi=600, bbox_inches='tight')\n",
    "\n",
    "plt.show()"
   ]
  },
  {
   "cell_type": "code",
   "execution_count": 66,
   "metadata": {},
   "outputs": [
    {
     "name": "stdout",
     "output_type": "stream",
     "text": [
      "Proportion of records with a corr match: 0.46246006389776356\n"
     ]
    }
   ],
   "source": [
    "# If we select the best matching Tier1 object for each 2410 record....\n",
    "best_obj1_match_df = cc_madw_df.iloc[ obj1_best_match_ids, :]\n",
    "print('Proportion of records with a corr match:', len(best_obj1_match_df[best_obj1_match_df['corr_match']==1].corr_match)/ len(best_obj1_match_df.corr_match))"
   ]
  },
  {
   "cell_type": "code",
   "execution_count": null,
   "metadata": {},
   "outputs": [],
   "source": []
  },
  {
   "cell_type": "markdown",
   "metadata": {},
   "source": [
    "### For the best matching record according to Tier 1 Object similarity score, accuracy estimates on both T1 and T2 to the UH-60 Parts Tree"
   ]
  },
  {
   "cell_type": "code",
   "execution_count": 67,
   "metadata": {},
   "outputs": [
    {
     "name": "stdout",
     "output_type": "stream",
     "text": [
      "Tier 1 Object Accuracy is Estimated at: ( 0.5039952112877948 ,  0.6342978055994714 )\n",
      "Tier 2 Object Accuracy is Estimated at: ( 0.3936551629513931 ,  0.5529445632010487 )\n"
     ]
    }
   ],
   "source": [
    "# ID best matches according to Tier 1 Obj sim score\n",
    "obj1_1_best_levs = cc_madw_df.iloc[obj1_best_match_ids].similarity_max1\n",
    "obj1_2_best_levs = cc_madw_df.iloc[obj1_best_match_ids].similarity_max2\n",
    "\n",
    "# subset the matches, non-matches, and potential matches according to sim score criteria\n",
    "match1_1 = obj1_1_best_levs[obj1_1_best_levs>74]\n",
    "non_match1_1 = obj1_1_best_levs[obj1_1_best_levs<43]\n",
    "pot_match1_1 = obj1_1_best_levs[(obj1_1_best_levs>=43) & (obj1_1_best_levs<=74)]\n",
    "\n",
    "T1_acc_low = (len(match1_1) + match_prop[0] * len(pot_match1_1)) / (len(match1_1) + len(non_match1_1) + len(pot_match1_1))\n",
    "T1_acc_high = (len(match1_1) + match_prop[1] * len(pot_match1_1)) / (len(match1_1) + len(non_match1_1) + len(pot_match1_1))\n",
    "print('Tier 1 Object Accuracy is Estimated at: (', T1_acc_low, ', ', T1_acc_high  ,')')\n",
    "\n",
    "match1_2 = obj1_2_best_levs[obj1_2_best_levs>74]\n",
    "non_match1_2 = obj1_2_best_levs[obj1_2_best_levs<43]\n",
    "pot_match1_2 = obj1_2_best_levs[(obj1_2_best_levs>=43) & (obj1_2_best_levs<=74)]\n",
    "\n",
    "T2_acc_low = (len(match1_2) + match_prop[0] * len(pot_match1_2)) / (len(match1_2) + len(non_match1_2) + len(pot_match1_2))\n",
    "T2_acc_high = (len(match1_2) + match_prop[1] * len(pot_match1_2)) / (len(match1_2) + len(non_match1_2) + len(pot_match1_2))\n",
    "print('Tier 2 Object Accuracy is Estimated at: (', T2_acc_low, ', ', T2_acc_high  ,')')"
   ]
  },
  {
   "cell_type": "markdown",
   "metadata": {},
   "source": [
    "Plots show the levenshtein distance scores for tier 1 and tier 2 objects if the best matching tier 1 object determines which record is selected for each 2410 part."
   ]
  },
  {
   "cell_type": "code",
   "execution_count": null,
   "metadata": {},
   "outputs": [],
   "source": []
  },
  {
   "cell_type": "code",
   "execution_count": 68,
   "metadata": {},
   "outputs": [
    {
     "data": {
      "image/png": "[encoded data removed]",
      "text/plain": [
       "<Figure size 432x288 with 2 Axes>"
      ]
     },
     "metadata": {
      "needs_background": "light"
     },
     "output_type": "display_data"
    }
   ],
   "source": [
    "import matplotlib.pyplot as plt\n",
    "\n",
    "bins = np.linspace(28, 100, 72/2)\n",
    "\n",
    "fig, (axs1, axs2) = plt.subplots(2, sharex=True, sharey=True)\n",
    "fig.suptitle('Histogram of Tier 1 and 2 Object Similarity Scores')\n",
    "\n",
    "axs1.hist([match1_1, non_match1_1, pot_match1_1], bins, label=['match', 'non-match', 'potential match'], stacked=True, rwidth=2)\n",
    "axs1.grid(axis='both', alpha=0.75)\n",
    "axs1.set_title('Tier 1 Object')\n",
    "\n",
    "axs2.hist([match1_2, non_match1_2, pot_match1_2], bins, stacked=True, rwidth=2)\n",
    "axs2.grid(axis='both', alpha=0.75)\n",
    "axs2.set_title('Tier 2 Object')\n",
    "\n",
    "fig.legend(bbox_to_anchor=(.90, 0.5), loc=\"center left\")\n",
    "\n",
    "# set labels\n",
    "plt.setp(axs1, ylabel='Frequency')\n",
    "plt.setp(axs2, xlabel='Levenshtein Similarity Score', ylabel='Frequency')\n",
    "\n",
    "plt.savefig('fuzzy_sort_MADW_tree_hist_T1_match_new.png', dpi=600, bbox_inches='tight')\n",
    "\n",
    "plt.show()"
   ]
  },
  {
   "cell_type": "code",
   "execution_count": 69,
   "metadata": {},
   "outputs": [
    {
     "name": "stdout",
     "output_type": "stream",
     "text": [
      "Proportion of records with a corr match: 0.505591054313099\n"
     ]
    }
   ],
   "source": [
    "# If we select the best matching Tier2 object for each 2410 record....\n",
    "best_obj2_match_df = cc_madw_df.iloc[ obj2_best_match_ids, :]\n",
    "print('Proportion of records with a corr match:', len(best_obj2_match_df[best_obj2_match_df['corr_match']==1].corr_match)/ len(best_obj2_match_df.corr_match))"
   ]
  },
  {
   "cell_type": "markdown",
   "metadata": {},
   "source": [
    "Plots show the levenshtein distance scores for tier 1 and tier 2 objects if the best matching tier 2 object determines which record is selected for each 2410 part."
   ]
  },
  {
   "cell_type": "markdown",
   "metadata": {},
   "source": [
    "### For the best matching record according to Tier 2 Object similarity score, accuracy estimates on both T1 and T2 to the UH-60 Parts Tree"
   ]
  },
  {
   "cell_type": "code",
   "execution_count": 70,
   "metadata": {},
   "outputs": [
    {
     "name": "stdout",
     "output_type": "stream",
     "text": [
      "Tier 1 Object Accuracy is Estimated at: ( 0.39996030857061604 ,  0.55759331990953 )\n",
      "Tier 2 Object Accuracy is Estimated at: ( 0.5922672499569159 ,  0.6993803995182095 )\n"
     ]
    }
   ],
   "source": [
    "# ID best matches according to Tier 2 Obj sim score\n",
    "obj2_1_best_levs = cc_madw_df.iloc[obj2_best_match_ids].similarity_max1\n",
    "obj2_2_best_levs = cc_madw_df.iloc[obj2_best_match_ids].similarity_max2\n",
    "\n",
    "# subset the matches, non-matches, and potential matches according to sim score criteria\n",
    "match2_1 = obj2_1_best_levs[obj2_1_best_levs>74]\n",
    "non_match2_1 = obj2_1_best_levs[obj2_1_best_levs<43]\n",
    "pot_match2_1 = obj2_1_best_levs[(obj2_1_best_levs>=43) & (obj2_1_best_levs<=74)]\n",
    "\n",
    "T1_acc_low = (len(match2_1) + match_prop[0] * len(pot_match2_1)) / (len(match2_1) + len(non_match2_1) + len(pot_match2_1))\n",
    "T1_acc_high = (len(match2_1) + match_prop[1] * len(pot_match2_1)) / (len(match2_1) + len(non_match2_1) + len(pot_match2_1))\n",
    "print('Tier 1 Object Accuracy is Estimated at: (', T1_acc_low, ', ', T1_acc_high  ,')')\n",
    "\n",
    "match2_2 = obj2_2_best_levs[obj2_2_best_levs>74]\n",
    "non_match2_2 = obj2_2_best_levs[obj2_2_best_levs<43]\n",
    "pot_match2_2 = obj2_2_best_levs[(obj2_2_best_levs>=43) & (obj2_2_best_levs<=74)]\n",
    "\n",
    "T2_acc_low = (len(match2_2) + match_prop[0] * len(pot_match2_2)) / (len(match2_2) + len(non_match2_2) + len(pot_match2_2))\n",
    "T2_acc_high = (len(match2_2) + match_prop[1] * len(pot_match2_2)) / (len(match2_2) + len(non_match2_2) + len(pot_match2_2))\n",
    "print('Tier 2 Object Accuracy is Estimated at: (', T2_acc_low, ', ', T2_acc_high  ,')')"
   ]
  },
  {
   "cell_type": "code",
   "execution_count": 71,
   "metadata": {},
   "outputs": [
    {
     "data": {
      "image/png": "[encoded data removed]",
      "text/plain": [
       "<Figure size 432x288 with 2 Axes>"
      ]
     },
     "metadata": {
      "needs_background": "light"
     },
     "output_type": "display_data"
    }
   ],
   "source": [
    "import matplotlib.pyplot as plt\n",
    "\n",
    "bins = np.linspace(28, 100, 72/2)\n",
    "\n",
    "fig, (axs1, axs2) = plt.subplots(2, sharex=True, sharey=True)\n",
    "fig.suptitle('Histogram of Tier 1 and 2 Object Similarity Scores')\n",
    "\n",
    "axs1.hist([match2_1, non_match2_1, pot_match2_1], bins, label=['match', 'non-match', 'potential match'], stacked=True, rwidth=2)\n",
    "axs1.grid(axis='both', alpha=0.75)\n",
    "axs1.set_title('Tier 1 Object')\n",
    "\n",
    "axs2.hist([match2_2, non_match2_2, pot_match2_2], bins, stacked=True, rwidth=2)\n",
    "axs2.grid(axis='both', alpha=0.75)\n",
    "axs2.set_title('Tier 2 Object')\n",
    "\n",
    "fig.legend(bbox_to_anchor=(.90, 0.5), loc=\"center left\")\n",
    "\n",
    "# set labels\n",
    "plt.setp(axs1, ylabel='Frequency')\n",
    "plt.setp(axs2, xlabel='Levenshtein Similarity Score', ylabel='Frequency')\n",
    "\n",
    "plt.savefig('fuzzy_sort_MADW_tree_hist_T2_match_new.png', dpi=600, bbox_inches='tight')\n",
    "\n",
    "plt.show()"
   ]
  },
  {
   "cell_type": "markdown",
   "metadata": {},
   "source": [
    "## Identify MADW Expert System Corrosion-Tagging Performance Metrics"
   ]
  },
  {
   "cell_type": "code",
   "execution_count": 72,
   "metadata": {},
   "outputs": [
    {
     "name": "stdout",
     "output_type": "stream",
     "text": [
      "        similarity_max2  corr_match\n",
      "216194               93           0\n",
      "216195               93           0\n",
      "129759              100           0\n",
      "252741               80           1\n",
      "240390              100           0\n",
      "...                 ...         ...\n",
      "677857               79           0\n",
      "612958               86           0\n",
      "94280               100           0\n",
      "95050               100           1\n",
      "157986               82           0\n",
      "\n",
      "[476 rows x 2 columns]\n",
      "Of  476  matching records...\n",
      "Proportion of \"matching\" records with a corr match: 0.4327731092436975\n"
     ]
    }
   ],
   "source": [
    "# subset to best tier 2 matches\n",
    "obj2_recs = cc_madw_df.iloc[obj2_best_match_ids]\n",
    "# subset to record linkage matches by similarity score\n",
    "obj2_recs = obj2_recs[obj2_recs['similarity_max2'] > 74]\n",
    "print(obj2_recs[['similarity_max2', 'corr_match']])\n",
    "print('Of ', len(obj2_recs.corr_match), ' matching records...')\n",
    "# check accuracy of corrosion tag for \"matching\" ASAP-RAM to MADW records\n",
    "print('Proportion of \"matching\" records with a corr match:', len(obj2_recs[obj2_recs['corr_match']==1].corr_match)/ len(obj2_recs.corr_match))"
   ]
  },
  {
   "cell_type": "code",
   "execution_count": 73,
   "metadata": {},
   "outputs": [],
   "source": [
    "from sklearn.metrics import accuracy_score\n",
    "from sklearn.metrics import precision_score\n",
    "from sklearn.metrics import recall_score\n",
    "from sklearn.metrics import f1_score"
   ]
  },
  {
   "cell_type": "code",
   "execution_count": 75,
   "metadata": {},
   "outputs": [
    {
     "name": "stdout",
     "output_type": "stream",
     "text": [
      "Accuracy: 0.432773\n",
      "Precision: 0.587571\n",
      "Recall: 0.345515\n",
      "F1 score: 0.435146\n"
     ]
    }
   ],
   "source": [
    "# https://machinelearningmastery.com/how-to-calculate-precision-recall-f1-and-more-for-deep-learning-models/ \n",
    "# make the y_MADW column an indicator for 1 = corrosion-tag, 0 = no corrosion\n",
    "y_ASAPRAM = []\n",
    "for row in obj2_recs.DESCRIPTION_x:\n",
    "    if row in ['170-Corroded', '520-Pitted', '050-Blistered', '240-Flaking']:\n",
    "        y_ASAPRAM.append(1)\n",
    "    else:\n",
    "        y_ASAPRAM.append(0)\n",
    "        \n",
    "# make the y_MADW column an indicator for 1 = corrosion-tag, 0 = no corrosion\n",
    "y_MADW = []\n",
    "for row in obj2_recs.CorroPerc:\n",
    "    if row !=0:\n",
    "        y_MADW.append(1)\n",
    "    else:\n",
    "        y_MADW.append(0)\n",
    "\n",
    "yhat_classes = y_MADW\n",
    "y_test = y_ASAPRAM \n",
    "\n",
    "#tp\n",
    "# accuracy: (tp + tn) / (p + n), the ratio of correctly predicted observation to the total observations.\n",
    "accuracy = accuracy_score(y_test, yhat_classes)\n",
    "print('Accuracy: %f' % accuracy)\n",
    "# precision tp / (tp + fp), the ratio of correctly predicted positive observations to the total predicted positive observations\n",
    "# If precision is high, we are making correct corrosion tags, but possibly missing corrosion items\n",
    "precision = precision_score(y_test, yhat_classes)\n",
    "print('Precision: %f' % precision)\n",
    "# recall: tp / (tp + fn), ratio of correctly predicted positive observations to the all observations in actual class\n",
    "# So if recall is low, we are missing actual corrosion actions\n",
    "recall = recall_score(y_test, yhat_classes)\n",
    "print('Recall: %f' % recall)\n",
    "# f1: 2 tp / (2 tp + fp + fn), the weighted average of Precision and Recall\n",
    "# If this is high, we are making correct corrosion tags and not missing actions that should be corrosion.\n",
    "f1 = f1_score(y_test, yhat_classes)\n",
    "print('F1 score: %f' % f1)"
   ]
  },
  {
   "cell_type": "code",
   "execution_count": 76,
   "metadata": {},
   "outputs": [
    {
     "name": "stdout",
     "output_type": "stream",
     "text": [
      "Accuracy: 0.432773\n",
      "Precision: 0.587571\n",
      "Recall: 0.345515\n",
      "F1 score: 0.435146\n"
     ]
    }
   ],
   "source": [
    "# accuracy: (tp + tn) / (p + n), the ratio of correctly predicted observation to the total observations.\n",
    "accuracy = accuracy_score(y_test, yhat_classes)\n",
    "print('Accuracy: %f' % accuracy)\n",
    "# precision tp / (tp + fp), the ratio of correctly predicted positive observations to the total predicted positive observations\n",
    "# If precision is high, we are making correct corrosion tags, but possibly missing corrosion items\n",
    "precision = precision_score(y_test, yhat_classes)\n",
    "print('Precision: %f' % precision)\n",
    "# recall: tp / (tp + fn), ratio of correctly predicted positive observations to the all observations in actual class\n",
    "# So if recall is low, we are missing actual corrosion actions\n",
    "recall = recall_score(y_test, yhat_classes)\n",
    "print('Recall: %f' % recall)\n",
    "# f1: 2 tp / (2 tp + fp + fn), the weighted average of Precision and Recall\n",
    "# If this is high, we are making correct corrosion tags and not missing actions that should be corrosion.\n",
    "f1 = f1_score(y_test, yhat_classes)\n",
    "print('F1 score: %f' % f1)"
   ]
  },
  {
   "cell_type": "code",
   "execution_count": 77,
   "metadata": {},
   "outputs": [
    {
     "data": {
      "text/plain": [
       "Index(['index', 'COPY', 'DATE_2410', 'PN_NOUN', 'NSN', 'PN', 'SN',\n",
       "       'DESCRIPTION_x', 'REMARKS', 'SYS_CAT', 'NHA_SN', 'UIC', 'CITY',\n",
       "       'ORG_NAME', 'QTY', 'YEAR', 'NOUN', 'PRICE', 'date1_2410', 'AvailCD',\n",
       "       'CalcLaborCorroCost', 'CalcLaborCost', 'CalcMatlCorroCost',\n",
       "       'CalcMatlCost', 'CorrectiveCorroCost', 'CorrectiveMaintCost',\n",
       "       'CorroPerc', 'DataSource', 'EndItemUniqueID', 'EngineTMS',\n",
       "       'InstallationMasterName', 'ESIZone', 'LMIWBS', 'LMIWBSNIIN',\n",
       "       'MaintActionCD', 'MaintActionFY', 'MaintCompletionDate', 'MaintDLH',\n",
       "       'MaintOperationDetailDesc', 'MaintStartDate', 'Maint_TAT',\n",
       "       'OPNComplDate', 'OPNStartDate', 'OrigLaborCost', 'orig_maint_tat',\n",
       "       'OrigMatlCost', 'PartCorroCost', 'PartMaintCost',\n",
       "       'PreventiveCorrective', 'PreventiveCorroCost', 'PreventiveMaintCost',\n",
       "       'SorCD', 'StructureCorroCost', 'StructureMaintCost', 'TMS',\n",
       "       'TotalCalcCorroCost', 'TotalCalcCost', 'UnitCD', 'Tier1Object',\n",
       "       'Tier2Object', 'maint_start_date', 'maint_end_date', 'tier1_obj',\n",
       "       'tier2_obj', 'L1', 'L2', 'L3', 'L4', 'L5', 'L6', 'RFG', 'DESCRIPTION_y',\n",
       "       'sim_score', 't1_prt_tree_lev', 't2_prt_tree_lev', 'tree_match1',\n",
       "       'similarity_max1', 'tree_match2', 'similarity_max2', 'corr_match'],\n",
       "      dtype='object')"
      ]
     },
     "execution_count": 77,
     "metadata": {},
     "output_type": "execute_result"
    }
   ],
   "source": [
    "obj2_recs.columns"
   ]
  },
  {
   "cell_type": "code",
   "execution_count": 78,
   "metadata": {},
   "outputs": [],
   "source": [
    "# write out matching records for evaluation of the Keras_1D classifier \n",
    "obj2_recs.to_csv('obj2_recs_new.csv', encoding='utf-8', index=True)"
   ]
  },
  {
   "cell_type": "markdown",
   "metadata": {},
   "source": [
    "### Comparison to the DA2410 Similarity Scores..."
   ]
  },
  {
   "cell_type": "code",
   "execution_count": 23,
   "metadata": {},
   "outputs": [
    {
     "name": "stdout",
     "output_type": "stream",
     "text": [
      "Proportion of levenshtein scores below 60 for 2410 parts:  0.1853035143769968\n",
      "Proportion of levenshtein scores above 80 for for 2410 parts:  0.13498402555910544\n"
     ]
    }
   ],
   "source": [
    "print('Proportion of levenshtein scores below 60 for 2410 parts: ' , \n",
    "     len([num for num in best_obj2_match_df.sim_score if num < 60]) / len(best_obj2_match_df.sim_score))\n",
    "print('Proportion of levenshtein scores above 80 for for 2410 parts: ' , \n",
    "     len([num for num in best_obj2_match_df.sim_score if num > 80]) / len(best_obj2_match_df.sim_score))"
   ]
  },
  {
   "cell_type": "markdown",
   "metadata": {},
   "source": [
    "The Tier 2 object similarity max took the max score for any part up the tree in the UH60 parts tree.  Tier 2 object should not necessarily be expected to be a match to the 2410 part.  This is becuase a maintenance record might be describing a larger maintenance action than the 2410 part removal..A 2410 is completed for any part removed from a UH60, so the job may have removed multiple parts rather than just the one in the 2410 record."
   ]
  },
  {
   "cell_type": "code",
   "execution_count": 27,
   "metadata": {},
   "outputs": [
    {
     "data": {
      "image/png": "[encoded data removed]",
      "text/plain": [
       "<Figure size 432x288 with 1 Axes>"
      ]
     },
     "metadata": {
      "needs_background": "light"
     },
     "output_type": "display_data"
    }
   ],
   "source": [
    "best_obj2_match_df.sim_score.plot.hist(grid=True, bins=20, rwidth=0.9,\n",
    "                   color='#607c8e')\n",
    "plt.title('Histogram of DA2410 Parts to Parts Tree Match Scores')\n",
    "plt.xlabel('Levenshtein Score')\n",
    "plt.ylabel('Frequency')\n",
    "plt.xlim(left=30, right=100)\n",
    "plt.grid(axis='both', alpha=0.75)\n",
    "plt.show()"
   ]
  },
  {
   "cell_type": "code",
   "execution_count": 79,
   "metadata": {},
   "outputs": [
    {
     "name": "stdout",
     "output_type": "stream",
     "text": [
      "  Prioritized Object  Object     Match  Non-match  Potential Match\n",
      "0             Tier 1  Tier 1  0.246006        0.0         0.753994\n",
      "1             Tier 1  Tier 2  0.078275        0.0         0.921725\n",
      "2             Tier 2  Tier 1  0.087859        0.0         0.912141\n",
      "3             Tier 2  Tier 2  0.380192        0.0         0.619808\n"
     ]
    }
   ],
   "source": [
    "p1 = len(match1_1) / len(obj1_1_best_levs) \n",
    "p2 = len(non_match1_1) / len(obj1_1_best_levs)\n",
    "p3 = len(pot_match1_1) / len(obj1_1_best_levs)\n",
    "p4 = len(match1_2) / len(obj1_2_best_levs) \n",
    "p5 = len(non_match1_2) / len(obj1_2_best_levs)\n",
    "p6 = len(pot_match1_2) / len(obj1_2_best_levs)\n",
    "p21 = len(match2_1) / len(obj2_1_best_levs) \n",
    "p22 = len(non_match2_1) / len(obj2_1_best_levs)\n",
    "p23 = len(pot_match2_1) / len(obj2_1_best_levs)\n",
    "p24 = len(match2_2) / len(obj2_2_best_levs) \n",
    "p25 = len(non_match2_2) / len(obj2_2_best_levs)\n",
    "p26 = len(pot_match2_2) / len(obj2_2_best_levs)\n",
    "\n",
    "res = {\n",
    "    'Prioritized Object' : ['Tier 1', 'Tier 1', 'Tier 2', 'Tier 2'],\n",
    "    'Object': ['Tier 1', 'Tier 2', 'Tier 1', 'Tier 2'],\n",
    "    'Match': [p1, p4, p21, p24],\n",
    "    'Non-match': [p2, p5, p22, p25],\n",
    "    'Potential Match': [p3, p6, p23, p26]\n",
    "    }\n",
    "\n",
    "df = pd.DataFrame(res)\n",
    "\n",
    "print (df)"
   ]
  },
  {
   "cell_type": "code",
   "execution_count": 80,
   "metadata": {},
   "outputs": [
    {
     "data": {
      "image/png": "[encoded data removed]",
      "text/plain": [
       "<Figure size 432x288 with 1 Axes>"
      ]
     },
     "metadata": {
      "needs_background": "light"
     },
     "output_type": "display_data"
    },
    {
     "data": {
      "image/png": "[encoded data removed]",
      "text/plain": [
       "<Figure size 432x288 with 1 Axes>"
      ]
     },
     "metadata": {
      "needs_background": "light"
     },
     "output_type": "display_data"
    }
   ],
   "source": [
    "#df.plot.bar( y='Proportion', rot=0)\n",
    "#df[df['Prioritized Object']=='Tier 1'][['Object' ,  'Match Category' , 'Proportion']].groupby(['Object' ,  'Match Category']).plot.bar(rot=45, subplots=False)\n",
    "#axes[1].legend(loc=1)\n",
    "\n",
    "(axs1, axs2) = df.set_index('Object').groupby(['Prioritized Object']).plot(kind='bar',  stacked=False, rot=45)\n",
    "axs1.set_title('Category Proportions if Tier 1 Object is Prioritized')\n",
    "axs2.set_title('Category Proportions if Tier 2 Object is Prioritized')\n",
    "axs1.legend(bbox_to_anchor=(1, -0.125), loc=\"upper left\")\n",
    "#axs1.set_title('Proportion of Tier Objects in each Category')\n",
    "axs2.get_legend().remove()\n",
    "\n",
    "fig.savefig('category_props_new.png', dpi=600, bbox_inches='tight')\n",
    "plt.show()\n",
    "\n"
   ]
  },
  {
   "cell_type": "code",
   "execution_count": 261,
   "metadata": {},
   "outputs": [
    {
     "name": "stdout",
     "output_type": "stream",
     "text": [
      "{'hardener': \"['stabilizatn', 'ibet', 'mrke', 'fabricatedshorted', 'completepaint']\", 'hardness': \"['parked', 'blanet', 'noticeably', 'damagesoundproofe', 'lbds']\", 'preheat': \"['hvms', 'fuelfrombnut', 'meaurement', 'illistration', 'satcon']\", 'debounding': \"['intalled', 'repairment', 'visualy', 'jung', 'turntable']\", 'disbonding': \"['cloth', 'layer', '3na', 'errosion']\", 'disponding': \"['defeere', 'hdfs', 'tb2a', 'fcrmma', 'update2']\", 'debonding': \"['layer', 'lip', 'kevlar', 'leading']\", 'disbonded': \"['disponde', 'cloth', '3na']\", 'debonded': \"['4t', 'inspectionblue', 'mtpp', 'securinig', 'weatherproof']\", 'debound': \"['olsen', 'darla', 'ripps', 'dshrd', 'preforme']\", 'disbond': \"['penetrate', 'delaminating', 'anhedral', 'delaminated']\", 'debond': \"['region', 'erode', 'blending', 'meob']\", 'debonde': \"['rebonde', 'deteriorate', 'nutplate', 'chafe', 'marked']\", 'baterie': \"['replac', 'sfa', 'u2', 'seviceability', 'usual']\", 'ndi': \"['qty', '1ea', 'rl', 'pit', 'mike']\", 'ndt': \"['penetrate', 'ch7', 'dzue', 'repaie']\", 'contamination': \"['gbx', 'sampling', 'dpi', 'residual', 'technique']\", 'polarization': \"['antirotation', 'fabicate', 'conns', 'alve', 'caustion']\", 'regeneration': \"['whem', 'cecil', 'okvor', 'symboldowngrade', 'screws4']\", 'assyleaking': \"['adjment', 'gathnee2', 'downlaod', 'prehoist', 'dampnerpitch']\", 'cavitation': \"['pucture', 'serviceableleft', 'sgtmill', 'aphache', 'fuelboost']\", 'insulation': \"['stack', 'wall', 'damaged', 'repaired']\", 'blistered': \"['dogleg', 'sight1', 'incing', 'completeahrs', 'rhwheelhouses']\", 'corriosion': \"['hairline', 'bladed', 'qdr', 'taxing', '2side']\", 'corrision': \"['mildew', 'jamb', 'crosstube', 'penetrate', 'remv']\", 'corrission': \"['inspwand', 'vaccume', 'fuild', 'side2', 'updtated']\", 'corrrosion': \"['fgw', 'negetive', 'entry7', 'langing', 'clearwater']\", 'microbial': \"['utlilty', 'janssen', 'linnk', 'witnin', 'b3k']\", 'shrinkage': \"['refuelin', 'oilaft', 'nerve', 'sight4', 'venthoist']\", 'coorosion': \"['conpsumption', 'oilaft', 'compadence', 'combinder', 'dgbb']\", 'corossion': \"['groud', 'rule', 'requiredfor', 'idd']\", 'correoded': \"['bldae', 'emphasis', 'suspense', 'radartrouble', 'aplifier']\", 'corresion': \"['coast', 'testedwe', 'stripblack', 'resuscitator', 'testdisplay']\", 'corrioson': \"['vg6corrosion', 'dsic', 'enchange', '3debonding', 'cap6']\", 'corroded': \"['reinstale', 'wraparound', 'combuster', 'repaie', 'exaust']\", 'degrease': \"['comanche', 'bookfcr', 'xsmission', 'troyaart', 'repairedinsp']\", 'dryrotted': \"['bxb', 'loom', 'inspreplace', 'tt', 'verifacation']\", 'extender': \"['lip', 'finger', 'radius', 'receptical']\", 'fretting': \"['negligible', 'penetrate', 'propagate', 'dzue']\", 'sandblast': \"['ndiphase', 'photographic', 'leavng', 'grossly', 'remolal']\", 'sanderson': \"['tanksunit', 'broehm', 'ibg', 'prioe', 'amunition']\", 'cathode': \"['sustem', 'rosetts', 'coordnination', 'unequal', 'hundreths']\", 'classiii': \"['hemtt', 'cnv', 'marketing', 'simulation', 'shwr']\", 'coroded': \"['reselecte', 'exmark', 'eppenage', 'attendantseat', 'gnh']\", 'corosion': \"['seperating', 'soap', 'loom', 'borken', 'reinforcement']\", 'correded': \"['tese', 'sprage', 'vidr', 'orme', 'ofwiper']\", 'corrided': \"['yellowtail', 'couting', 'aftd', 'ibet', 'lightintg']\", 'corrison': \"['holden', 'winsheild', 'replacent', 'requir', 'pck']\", 'corrsion': \"['heel', 'jamb', 'midcowl', 'spaghetti', 'hindge']\", 'corrsoin': \"['replacemol', 'boor', 'throttlesticke', 'ile', 'armourd']\", 'crrosion': \"['wkcgd0', 'panelefab', '5fn', 'rhis', 'torquee']\", 'erosion': \"['hysol', 'abrasion', 'adhesive', 'trailing']\", 'flaking': \"['primere', 'meob', 'preppe']\", 'leackage': \"['graound', 'adjusted6', 'comppleted', 'serrate', 'comleted']\", 'leacking': \"['fmhigh', 'erronously', 'anvil', 'succession', 'fr9']\", 'leakage': \"['consumption', 'seep', 'leaking', 'seeping', 'qd']\", 'sanders': \"['lach', 'wss', 'dgse', 'tg', 'ry']\", 'sanding': \"['windshild', 'reuqire', 'poly', 'bht', 'ctl']\", 'arcing': \"['runway', 'initialization', 'stiffner', 'xmsm', 'heatshrink']\", 'blaster': \"['unibal', 'inconjunctionwith', 'gearpmi2', 'daysh', 'reoccurr']\", 'classii': \"['1inal', 'repairmultiple', 'dmm', 'conjonction', 'ssda']\", 'cliii': \"['1vf', 'lookup', 'rg', 'mine']\", 'corrion': \"['sealent', 'aardvark', 'boroscope', 'borscope', 'fatboy']\", 'dryrot': \"['groud', 'dispo', 'errossion', 'penetration', 'boken']\", 'galling': \"['doesent', '0hr', 'researvice', 'misfire', 'groundspee']\", 'peeling': \"['delaminated', 'penetrate', 'negligible', 'hysole']\", 'pitted': \"['matosbearing', 'kvalebushing', 'spiveybushing', 'hawkin', 'inspectionworn']\", 'pitting': \"['scoring', 'beyound', 'disponde']\", 'rotted': \"['remv', 'nicked', 'chaf', 'aplie', 'inproperly']\", 'rotting': \"['weindshield', 'portrude', 'install2', 'strighten', 'canter']\", 'shroud': \"['cracked', 'wall', 'grommet', 'orange', '5r']\", 'silica': \"['servic', 'allot', 'xndcr', '4b1', 'punch']\", 'solder': \"['ckt', 'initialize', 'traverse', 'glad', 'traction']\", 'blast': \"['flip', 'interfere', 'supressor', 'jett', 's1']\", 'clii': \"['koma', 'inus', 'hrse', 'gpa', 'stan']\", 'clsiii': \"['sandba', 'vech', 'sdwfn', 'parcar', 'b2x']\", 'corode': \"['eppenage', 'deecor', 'fuslage', 'stabs', 'tpo']\", 'decay': \"['reliable', 'engie', 'trck', 'tcom', 'mr3']\", 'flake': \"['meob', 'primere', 'deep']\", 'oxide': \"['pmiphase', 'defferment', 'gpw4', 'dault', 'raplace']\", 'rotten': \"['velco', 'football', 'ch9', 'mntg', 'saddlebag']\", 'sanded': \"['eroded', 'ply', 'region', 'hisol']\", 'sander': \"['insptreset', 'inspsmall', 'inspectionnondestructive', 'clarkreset', 'traughbermulitple']\", 'scuff': \"['eroded', '3na', 'topside']\", 'timimg': \"['againt', '1july', 'downinside', 'ttail']\", 'timing': \"['4bb', 'headspace', 'unser', 'aey', 'liw']\", 'cl3': \"['bt', 'uns', 'mdl', 'gladhand', 'djv']\", 'cl2': \"['duew', 'compelete', 'inspectionpmi', 'omp', 'completeed']\", 'cllll': \"['zvu', 'vspfm', 'aftt', 'assbly', 'swbd']\", 'corr': \"['feature', 'kickpanel', 'apt', 'mccormick', 'negitive']\", 'decal': \"['dpw', 'automobile', 'tailgate', 'tl', 'freightliner']\", 'faded': \"['batteryivhum', 'withiaw', 'rtorques', 'bel', 'modife']\", 'flux': \"['stby', 'recreate', 'momentarily', 'confidence', 'rapidly']\", 'leack': \"['thermostatic', 'omit', 'repacement', 'ofthe', 'utilty']\", 'leak': \"['hydraulic', 'line', 'pressure', 'hyd', 'fluid']\", 'leans': \"['iem', 'bookfcr', 'mccroskey', 'depanle', '6pk']\", 'resin': \"['cloth', 'ply', 'primere', 'topside']\", 'rust': \"['x2', 'welding', 'pipe', 'rpr']\", 'rusty': \"['donor', 'burr', 'oper', 'assem', 'parallel']\", 'sprin': \"['compenster', 'ce7', 'pbo', 'sensetive', 'j1j3j5j7j9j']\", 'cl1': \"['completetd', 'duplicte', 'inspectionl', 'assymbly']\", 'cli': \"['hyunda', 'torne', 'wstc', 'side2', 'cools']\", 'cls': \"['mdl', 'uns', 'jcb', 'glad']\", 'fade': \"['insulator', 'color', 'moody', 'lw']\", 'iii': \"['steering', 'bg', 'bobcat', 'rpl', 'gator']\", 'leek': \"['releaed', 'installedl', '1para', 'lander', 'qq']\", 'peel': \"['delamination', 'separation', 'mesh']\", 'pmb': \"['york', 'asst', 'anp', 'botl']\", 'rott': \"['bolf', 'lupi', 'faith', 'testingnp2', 'assyfail']\", 'salt': \"['mile', 'volcano', 'nautical', 'tropic', 'extremely']\", 'sand': \"['bare', 'hysol', 'blended', 'intrusion']\", 'cl': \"['jt', 'steam', 'mtd', 'pltfm', 'steering']\", 'lek': \"['comilete', '5miles', 'recevier', 'r1dtd2oct', 'detectoron']\", 'lkg': \"['providedrequest', 'reinstalledrmvd', 'observerd', 'emtm1', 'inop5']\", 'rot': \"['dog', 'recepticle', 'mate', 'repaired']\", 'wet': \"['braid', 's1', 'acce', 'discolored', 'easily']\", 'lk': \"['reinspecte', 'quill', 'bw', 'winshield', 'eroded']\", 'll': \"['reinstlle', 'wil', 'sutley', 'locs', 'dvep']\", 'exfoliation': \"['okayheat', 'c9omp', 'accelarator', 'reservoirinsp', 'duecracke']\", 'sheetmetal': \"['radius', 'lip', 'doghouse', 'delaminate']\", 'deactivate': \"['incorect', 'duplicte', 'plateform', 'acutator', 'ltg']\", 'substrate': \"['hydraulicdeck', 'pullstart', 'stickcollective', 'dema', 'toilerance']\", 'abrasive': \"['penetrate', 'anhedral', 'blending', 'hysole']\", 'shotpeen': \"['scorre', 'studaclc', 'ecessive', 'grtr', 'weightrequ']\", 'stripping': \"['velco', 'jettsion', 'rn1', 'ln1', '1side']\", 'grinding': \"['cease', 'pushbutton', 'fact', 'dopler', 'cptr']\", 'shorted': \"['freeplay', 'xmsns', 'sustain', 'excedence', 'nt']\", 'solvent': \"['freshwater', 'bracket2', 'replacedfail', 'amunition', 'ivhmssoftware5']\", 'striping': \"['quintus', 'windsheildl', 'parkingbreak', 'sain', 'collectinve']\", 'stripped': \"['sgr8', 'lac', 'sdi', 'dyd', 'filiment']\", 'stripper': \"['kebeh', 'after', 'imus', 'dothan', 'diaganal']\", 'bleach': \"['amplifer', 'fdma', 'seeral', 'elct', 'wrtie']\", 'chassis': \"['elect', 'proc', 'teca', 'lrm', 'amplifier']\", 'reweld': \"['acceleromeger', 'eastman', 'duplicatebft', 'abf', 'rebuildfreewheele']\", 'scrape': \"['usual', 'blur', 'runway', 'slice', 'adell']\", 'striped': \"['williams', 'lefthand', 'name', 'beside', 'badly']\", 'chasis': \"['dcm', 'initialization', 'cvfdr', 'times', 'vu']\", 'disarm': \"['phillop', 'flohr', 'nosebay', 'lekae', 'engagedb']\", 'grind': \"['sanuc', 'initially', 'downward', 'exhibit', 'barely']\", 'pickle': \"['cago', 'mechanically', 'intrustion', 'consule', 'eppenage']\", 'short': \"['fall', 'pick', 'difficult', 'adjusted', 'qce']\", 'strip': \"['worn', 'edge', 'adhesive', 'hole']\", 'stripe': \"['torq', 'lwr', 'hdw', 'saftie', 'nuts']\", 'stripp': \"['ddate', 'met', 'maintenancepotentiometer', 'fmt', 'engineupper']\", 'stript': \"['foault', 'normilehose', 'trainmission', 'moo', 'assosciated']\", 'blend': \"['blended', 'bare', 'fiberglass', 'expose', 'nick']\", 'dearm': \"['apendix', 'swadge', 'anywhere', 'wt3', 'bnc']\", 'grnd': \"['ecl', 'parameter', 'mocs', 'spike', 'student']\", 'scale': \"['articulation', 'rbc', 'collet', 'in', 'oz']\", 'weld': \"['stand', 'vacuum', 'b4', 'welding']\", 'body': \"['unser', 'unservicable', 'satellitecommunication', 'aff', 'vnc']\", 'cure': \"['bond', 'touch', 'paddle', 'hysol', 'abrasion']\", 'strp': \"['phillip', 'procce', 'corrisponde', 'drone', 'externally']\", 'bod': \"['calper', 'repalcedphase', 'linsley', 't6o', 'inoop']\", 'grn': \"['yel', 'pvh', 'ylw', 'rotation', 'ob']\", 'wld': \"['grainy', 'pramac', 'asterisk', 'unmounted', 'mam']\", 'determination': \"['winsheild', 'qaxial', 'filght', 'confirmation']\", 'polyeurathane': \"['remov', 'scheduled9', 'aebi', 'alll', 'titanuim']\", 'polyeurethane': \"['spe8ej', 'airfrae', 'sheen', 'news', 'sibily']\", 'polyurethane': \"['bubbling', 'lifting', 'mesh', 'leading']\", 'predeployment': \"['broken6', 'perofrm', 'voidsrp', 'sdscc', 'packingload']\", 'preinspection': \"['hrness', 'broken2tail', 'demilfaile', 'gallagher', 'repairmultiple']\", 'thermocouple': \"['arch', 'midframe', 'wat', 'patterson', 'locknut']\", 'inspepection': \"['offect', 'sevric', 'bl4', 'intermittetly', 'outburd']\", 'polyurithane': \"['evidance', 'snsrs', 'replece', 'retake', 'stripblack']\", 'preflighting': \"['floater', 'substructure', 'inspectsocket', 'gja', 'peadal']\", 'preservation': \"['serviceing', 'unitl', 'errror', 'falut', 'preasure']\", 'reinspection': \"['outbaord', 'rotorhead', 'reinspecte', 'adjusment']\", 'iinspection': \"['dqc', 'coimplete', 'inward', 'repairedprime']\", 'initialinsp': \"['camer', 'facilit', 'lmit', 'ths', 'invaild']\", 'innspection': \"['onreplacement', 'intercostol', 'mocmonthly', 'simuator', 'maximim']\", 'inproccess': \"['timeinsp', 'c0mplete', 'finalinsp', 'ru', 'scheduledinsp']\", 'inpsection': \"['packbushing', 'connecting', 'spiveyserviceability', 'eb', 'inspbeare']\", 'inpspection': \"['tony', 'conducive', 'permanently', 'reinforce', 'boomhead']\", 'inscpection': \"['snsrs', 'sighns', 'competed', 'reqremoval', 'intalled']\", 'insepection': \"['electrolyte', 'torqe', 'regauge', 'vibrex', 'esm2']\", 'insopection': \"['cciection', 'struttail', 'airleak', 'flud', 'upfaire']\", 'inspcection': \"['timed', 'reviewpmi2', 'comand', 'foggy', 'fcd']\", 'inspecation': \"['accellerate', 'dsouza', 'bottlerequest', 'positionrd', 'jurrisen']\", 'inspecction': \"['anf', 'balence', 'completedno', 'afx']\", 'inspecdtion': \"['completedgenerator', 'tighened', 'inedx', 'agt', 'benchtest']\", 'inspecetion': \"['requiredi', 'rotationfault', 'cfompleted', 'insp3ection', 'confidenceni']\", 'inspecition': \"['bifliar', 'escaping', 'finalblue', 'bburg', 'grather']\", 'inspeection': \"['surpass', 'boxes', 'versilok', 'ductair', 'inspremote']\", 'inspenction': \"['dialy', 'entir', 'detectable', 'breaver', 'mountsrequire']\", 'inspoection': \"['dryrote', 'duestab', 'prome', 'incerrectly']\", 'insprection': \"['dipenser', 'damdper', 'screew', 'pressre', 'emp']\", 'inspsection': \"['glhtjfnm', 'suppert', 'holer', 'fritt', 'clk']\", 'instpection': \"['prox', 'gga', '3july', 'inspok', 'rn']\", 'reinspected': \"['externally', 'las', 'evaporater', 'nbg', 'eyebolt']\", 'ultrasonic': \"['nom', 'usmh', 'sonic', 'vd', 'depos']\", 'braketest': \"['installationoverhaul', 'touich', 'optimal', 'syem', 'chipped']\", 'breechlock': \"['handrail', 'ferguson', 'rein', 'apt', 'peice']\", 'camouflage': \"['1zp', 'grizzly', 'harne', 'gro', 'recep']\", 'determined': \"['bacteriosttaic', 'roughly', 'blalnce', 'aek']\", 'inapection': \"['badepusha', 'ecypiele', 'beggine', 'prome', 'completeeediaw']\", 'inepection': \"['g2', 'aca', 'bennett', 'propane', 'hange']\", 'insepction': \"['5hrs', '3july', 'inspok', '6jul']\", 'insoection': \"['attacment', 'reinstal', 'ciele', '5semiannual', 'klesert']\", 'inspcetion': \"['o1', 'hbfs', 'aog', 'afq', 'okayl']\", 'inspeciton': \"['inspectrp', 'add1', 'inspectreset', 'conjucntion', 'preventitive']\", 'inspestion': \"['stic', 'ringfuel', 'footpeg', 'mello', 'lockpinlube']\", 'inspetcion': \"['supportreplace', 'nrts1reset', 'supervior', 'acfthour', 'required1']\", 'instection': \"['mair', 'svcinsp', 'tubeaclc', 'tpo', 'mainteneance']\", 'isnpection': \"['gp3', 'um', 'mcl', 'cuffphase']\", 'isopropyl': \"['nutplatesfwd', 'engwash', 'overtempe', 'hur', 'snag']\", 'overspray': \"['toque', 'corrossion', 'numer', 'fittings', 'sissor']\", 'preflight': \"['cw2', 'discover', 'johnson', 'postflight', 'spc']\", 'prelflight': \"['camply', 'exposed', 'wyc', 'cover2', 'acsent']\", 'protecting': \"['cupple', 'arlam', 'hardwareheater', 'proffit', '1transition']\", 'protection': \"['ply', 'penetrate', 'chaf', 'delaminated']\", 'protective': \"['plastic', 'shrink', 'wall', 'minor', 'repaired']\", 'repainted': \"['usual', 'unbonded', 'kickpanel', 'cutout', 'plexiglass']\", 'repainting': \"['xed', 'lie', 'bng', 'sturt', 'balence']\", 'scheduler': \"['2vpm', 'indicatorseal', 'fms1', 'm4k', 'retie']\", 'undercoat': \"['cw1', 'zts', 'veiw', 'bruin', 'trunniontbo']\", 'abraision': \"['bonded', 'bagging', 'spanwise', 'dft', 'countersunk']\", 'lubricate': \"['wiper', 'rotary', 'lubed', 'reassemble']\", 'polyamide': \"['metalfuel', 'elbowapu', 'primarily', 'reassembleinsp', 'copmletion']\", 'powerwash': \"['inspectionhot', 'det1', 'shortshaft', 'safteyt', 'bammedevac']\", 'protector': \"['gladhand', 'filament', 'thermo', 'dmg', 'mulitple']\", 'repaint': \"['meob', 'primere', 'cloth']\", 'silicone': \"['rn1', 'landyard', 'jettsion', 'crewcheif']\", 'smoothing': \"['practicable', 'goal', 'chck', 'dau', 'cadu']\", 'treatment': \"['primere', 'gusset', 'inspectl', 'fret', 'flapper']\", 'acetone': \"['cordwise', 'alcohol', 'expand', 'trb', 'backstrap']\", 'aerosol': \"['cardel', 'repairedcopilots', 'catellation', 'gathhcec', 'elongtate']\", 'alodine': \"['mecf', 'tj', 'gusset', 'cj']\", 'alodined': \"['replaceddash', 'ko', 'sercieve', 'discriminator']\", 'inhibit': \"['strat', 'deselecte', 'succesfully', 'bienl', 'offload']\", 'lacquer': \"['okayheat', 'soke', 'companygood', 'manifoldutility', 'dkaf']\", 'perserve': \"['popwell', 'wirh', 'potentiomete', 'inspectionradio', 'recptical']\", 'preserve': \"['iw', 'auxilary', 'thermostatic', 'utilty']\", 'primered': \"['assesment', 'dgse', 'tpwd', 'cyl1', 'elimination']\", 'priming': \"['integrity', 'intersystem', 'disconnecting', 'bsump']\", 'primming': \"['corrsosionm', 'marry', 'installednew', 'lbb', 'echu']\", 'protect': \"['grab', 'lightly', 'usual', 'blur', 'upcome']\", 'recoated': \"['areasoundproofe', 'bealt', 'aaij', 'mdp1', 'intermittetly']\", 'recolor': \"['slipmark', '2map', 'counld', 'glennrequest', 'assemblydue']\", 'restaint': \"['busy', 'srvo', 'bearne', 'inspectionfwd', 'asg']\", 'topcoat': \"['inspectionremoval', 'hovering', 'foodtruck', 'dfc', 'nonlighte']\", 'treating': \"['cplf', 'demond', 'authoriztion', 'repaierd', 'piitte']\", 'washdown': \"['cauiton', 'complonn', 'inprogresscord', 'lens6', 'cornert']\", 'washrack': \"['rosan', 'rockets', 'clasp', 'dispersion', 'airborn']\", 'coating': \"['bare', 'fiberglass', 'applied', 'shrink']\", 'reprime': \"['conjuuction', 'undervoltage', 'groundspeed', 'itm', 'mas']\", 'rewash': \"['grat', 'bushinginspection', 'accoradnce', 'inspectionsrequest', 'uppermost']\", 'touchup': \"['hisol', 'anhedral', 'penetrate', 'chipping', 'dzue']\", 'washing': \"['diag', 'polar', 'hp4dl', 'hpx', 'cv']\", 'booth': \"['curtis', 'logged', 'garcia', 'verifacation', 'birdstrike']\", 'breach': \"['refit', 'dmp', 'frnt', 'selctor', 'jammed']\", 'breech': \"['helical', 'backplate', 'bur', 'aey', 'headspace']\", 'coated': \"['replacedblue', 'deadband', 'disassebly', 'spilt', 'pope']\", 'coatng': \"['blach', 'reninstalle', 'reass', 'jasonreset', 'completearl']\", 'dirty': \"['reservoir', 'amount', 'seape', 'glass', 'leaking']\", 'epoxy': \"['mecf', 'blended', 't6']\", 'gloss': \"['ltq', 'oillb', 'inicate', 'wwtr', 'strife']\", 'latex': \"['extchange', 'batella', 'comntaminate', 'refulle', 'incomplinace']\", 'paint': \"['0h', 'rl', 'worn', 'surface']\", 'panint': \"['ok3', 'statation', 'bobbyreset', 'inspectedinspect', 'alllllll']\", 'panted': \"['hadswind', 'keepalive', 'ottom', 'completemtf', 'equalize']\", 'preser': \"['initiation', 'noc', 'baremetal', 'inlns', '4v']\", 'prime': \"['applied', 'blended', 'expose', 'core', 'comb']\", 'primed': \"['appeared', 'lhsrhs', '1v', 'pdp1', 'zbh']\", 'primer': \"['hysol', 'bare']\", 'repain': \"['downcrack', 'resrvoir', 'farah', 'volage', 'leank']\", 'repait': \"['halvesrequeste', 'blanketing', 'sheld', 'bqb', 'mainoil']\", 'squeak': \"['combingramp', 'fairingscrew', 'troublrshooting', 'reassemble9', 'sep6']\", 'squeal': \"['intermitten', 'scroll', 'wiggle', 'occasionally', 'grey']\", 'squeel': \"['inus', 'seater', 'src', 'trasmit', 'rush']\", 'treat': \"['fiberglass', 'bare', 'blended', 'expose']\", 'wahser': \"['scheulde', 'operatoinal', 'htdraulic', '5semiannual', 'requiredscissor']\", 'washed': \"['pior', 'perfomre', 'minspbearing', 'smaple', 'utiltity']\", 'washes': \"['outbroad', 'zeuss', 'testpilot', 'assemblyswaged', 'iconj']\", 'acid': \"['donor', 'gga', 'bold', 'hourly', 'fittings']\", 'coat': \"['blended', 'bare', 'painting']\", 'coats': \"['rebuildfreewheele', 'ordonio', 'progamatic', 'bb6', 'evaportator']\", 'eddy': \"['rail', 't6', 'gusset', 'lighten', 'example']\", 'haze': \"['blur', 'usual', 'withno', 'copliot', 'hazy']\", 'piant': \"['giving', 'blurred', 'patchedaclc', 'inicate', 'moored']\", 'prote': \"['perso', 'stake', 'vnc', 'aff', 'palletize']\", 'prsov': \"['ats', 'fip', 'abort', 'pressurize', 'override']\", 'squel': \"['rush', 'deselecte', 'distinct', 'cu']\", 'washe': \"['sampleinsp', 'mcg', 'pullover', 'falult', 'toche']\", 'washo': \"['enterreed', 'replave', 'csae', 'iceassist', 'tachmoeter']\", 'clean': \"['around', 'open', 'need', 'leave']\", 'camo': \"['iveco', 'accelerometr', 'wbxjaa', 'sunroof', 'spport']\", 'cass': \"['magnectic', 'mfk', 'inu1', 'hinderence', 'updtated']\", 'cpc': \"['follower', 'application', 'compound', 'stabilization', 'prevention']\", 'dirt': \"['eapps', 'installle', 'adjacent', 'slider', 'underside']\", 'film': \"['lubricant', 'solid', 'dusty', 'bifilar', 'expandable']\", 'pain': \"['ciscous', 'ventaltion', 'ckeare', 'patchtemp', 'carswell']\", 'pair': \"['ifm2', 'normaly', 'swith', 'unlatch', 'consol']\", 'pant': \"['reshime', 'bieng', 'seventh', 'commutator', 'iba']\", 'prsv': \"['inspectionpressure', 'coj', 'forget', 'labyrinth', 'requireservice']\", 'wahs': \"['8x2', '3aw', 'tility', 'padie', 'hsge']\", 'wash': \"['cci', 'coastal', 'fresh', 'storage', 'conjuntion']\", 'ion': \"['aek', 'groud', 'hn', 'pul', 'adjsute']\", 'mma': \"['lru', 'rfi', 'sply', 'psp', 'rcvr']\", 'pnt': \"['installeation', 'aircraftrib', 'acsent', 'mrefer', 'acculate']\", 'cln': \"['reliefe', 'retriction', '7fgcu', 'manufa', 'tb2a']\", 'compliance': \"['reflect', 'copy', 'hard', 'delete']\", 'complaince': \"['reinforce', 'curser', 'trasmission', 'omission', 'combination']\", 'evaluation': \"['begin', 'reach', 'never', 'jump', 'percent']\", 'evaulation': \"['turrect', 'accomadate', 'wrtie', 'iformation', 'vy']\", 'reevaluate': \"['inob', 'forcrack', 'dn0k', 'halveswheel', 'emerency']\", 'sanitation': \"['superceede', 'replacedcopilot', 'zipp', 'cutoff', 'act1']\", 'fracture': \"['wearstrip', 'jammer', 'aplie', 'spoon', 'suport']\", 'polishing': \"['inspectioncom', 'sheathe', 'moee', 'ultilty', 'idicate']\", 'caulking': \"['ohv', 'wirute', 'electgricalconnector', 'buchanan', 'servor']\", 'plating': \"['orderly', '3t', 'hyrdraulic', 'unravel', 'rerequire']\", 'polished': \"['vick', 'vg2low', 'auxzillery', 'prevelant', '4kj']\", 'refinish': \"['layard', 'vest', 'develpoment', 'undone', 'upwards']\", 'sanitize': \"['repairmultiple', 'enf', 'rivte', 'ofnewir', 'nfault']\", 'anneal': \"['servicedat', 'nozlle', 'coolijng', 'axc', 'andelbit']\", 'chrome': \"['grove', 'machinist', 'disbounde', 'vertex', 'rebond']\", 'finish': \"['meob', 'deep', 'layer']\", 'polish': \"['unglue', 'rn1', 'reattache', 'aplie', 'velco']\", 'silver': \"['gc', 'snake', 'psta', 'pouch', 'adhere']\", 'stress': \"['someone', 'acm', 'feature', 'cluster', 'designate']\", 'crack': \"['rivet', 'sm', 'mark', 'top', 'bracket']\", 'nickel': \"['leading', 'layer', 'errosion']\", 'nickle': \"['erode', 'meob', 'layer', '3na']\", 'powder': \"['crewseat', 'fuild', 'restrainer', 'firwall', 'satus']\", 'reface': \"['flying', 'arrivel', 'ivc', 'lau3', 'complain']\", 'refine': \"['sidetone1', 'panelsn', 'retainor', '4eas', 'derow']\", 'spray': \"['halfway', 'cloudy', 'buss', 'noisy', 'smoothly']\", 'crach': \"['r0d', 'occonner', 'lxy4', 'seqpc', 'appllie']\", 'crak': \"['missdrill', 'collett', 'usability', 'nitrogn', 'ateral']\", 'crake': \"['hindge', 'nacell', 'mulitple', 'heel', 'enge']\", 'crck': \"['sk', 'dep', 'pocc', 'inspl', 'balancetail']\", 'creak': \"['leakikng', 'dissconnete', 'fms1damage', 'transimssion', 'cabale']\", 'seal': \"['rubber', 'apply', 'washer', 'around', 'metal']\", 'zinc': \"['backrest', 'wt1', 'lark', 'uneconomical', 'amalguard']\", 'clad': \"['bol', 'pedestal', 'wrining', 'ashley', 'corisponde']\", 'mask': \"['chemica', 'biolo', 'canister', 'chemical']\", 'preparation': \"['ply', '3na', 'primere']\", 'preperation': \"['supspect', 'likely', 'taxing', 'bale', 'elimination']\", 'inprocess': \"['soum', 'inspectioninsp', 'inital', 'mo', 'yr']\", 'inprrocess': \"['glhtlc6k', 'followie', '5miles', 'longbowcompleted', 'braken']\", 'scheduling': \"['dtuslot', 'tfd', 'isdraine', 'accelerometor']\", 'assurance': \"['assessment', 'hangteste', 'reinstillation', 'zimmerman', 'gov']\", 'detected': \"['swch', 'cip', 'accurately', 'tacmap', 'blanking']\", 'detection': \"['fadec', 'det', 'five', 'reinstalation']\", 'determin': \"['lbmr', '6fc', '4x6', 'errored', 'amog']\", 'determine': \"['reach', 'source', 'begin', 'restart', 'notice']\", 'evaluated': \"['ppos', 'colwell', 'whnrc0', '3blue', 'headlower']\", 'evalution': \"['fligth', 'instability', 'repeater', 'hardin', 'yield']\", 'evauation': \"['wkc7aa', 'exxcessive', 'spport', 'purpo', 'rend']\", 'inpection': \"['inspectioninspection', 'differ', 'conjucntion', 'complette']\", 'insection': \"['complette', 'completeed', 'inspectin', 'wit']\", 'inspction': \"['4aug', 'iw', 'comgenne', '3july', 'anotate']\", 'inspecion': \"['inspectin', 'logbow', '5hrs', 'starp', 's0f']\", 'inspetion': \"['defrre', 'inspectin', '6jul', '8sep', 'inspectionw']\", 'ispection': \"['thermostatic', 'comgenne', '5hrs', 'inp']\", 'loadtest': \"['wildland', 'sfa', 'rupture', 'motoring']\", 'moisture': \"['almost', 's1', 'emer', 'restore', 'readable']\", 'nspection': \"['comgenne', 'complette', 'inspectin']\", 'prefilght': \"['auido', 'supplyinsp', 'initialndi', 'scedule', 'gathm6f0']\", 'prefligth': \"['troublingshooting', 'gathhcec', 'supplu', 'leiberman', 'spindle9']\", 'prelfight': \"['linkm', 'makre', 'requiredlateral', 'ietmmain', 'calculator']\", 'pullout': \"['knurle', 'onyango', 'asvc', 'baselined', 'allowd']\", 'quarterly': \"['semiannual', 'semi', 'gauging', 'm2', 'hb']\", 'reinspect': \"['outbaord', 'thousandth', 'seapage', 'dir', 'omit']\", 'roadtest': \"['burnish', 'yearber', 'henry', 'gng', 'casey']\", 'scheduale': \"['fautls', 'dynacorp', 'edtu', 'certain', 'gorney']\", 'schedule': \"['bays', 'deflector', 'anomaly', 'since', 'requirment']\", 'scheduled': \"['inatalle', 'february', 'add2', 'completeiaw']\", 'tirepair': \"['acccordence', 'phelps', 'requencie', 'colleen']\", 'validtion': \"['dimention', 'seqpc', 'cpa', 'groundsystem', 'proeseal']\", 'biennial': \"['unserv', 'recoverable', 'inital', 'a4', 'weldin']\", 'bienniel': \"['gpa', 'hustler', 'colorado', 'koma', 'intern']\", 'biennual': \"['ims', 'tacom', 'w6kg', 'wpf2c0', 'quartly']\", 'complie': \"['by', 'eror', 'dowel', 's0f', 'links']\", 'detecter': \"['boubble', 'runner', 'felming', 'skls', 'efrsii']\", 'detrmine': \"['enryty', 'rdeice', 'functionallity', 'wie', 'okco']\", 'evaluate': \"['spike', 'parameter', 'downward', 'climb', 'oscillation']\", 'iinitial': \"['castelate', 'engen', 'unstick', 'stailite', 'phaserequeste']\", 'iinspect': \"['dfif', 'visualminspection', 'kuusalu', 'recir', 'leash']\", 'inpected': \"['vg2low', 'broehm', 'rsesulte', '4v', 'everthe']\", 'inpsect': \"['outgoing', 'scft', 'saaf', 'bushingsinsp', 'lake']\", 'inpspect': \"['defectice', 'informatonial', 'patriot3b', 'stacked', 'utplate']\", 'inrocess': \"['spsdp1', 'incerrectly', '2ph', 'completemultiple', 'iawe']\", 'insepct': \"['paddlere', 'harrdware', 'anilysis', 'iem', 'workinsp']\", 'inspacet': \"['localizor', 'reviously', 'serv0', 'replacmeent', 'stitchweld']\", 'inspeced': \"['unclogged', 'delaminiate', 'appllie', 'occonner', 'rotable']\", 'inspecio': \"['atthis', 'chafte', 'reppel', 'onyellow', 'panelsl']\", 'inspect': \"['damage', 'housing', 'fit', 'line']\", 'intitial': \"['completerequeste', 'errode', 'progess', 'luke', 'o2']\", 'periodic': \"['inspectioninspection', 'inspw']\", 'prefight': \"['pdmanufacture', 'dmgd', 'tothe', 'yf', 'scheduledmain']\", 'preflght': \"['attenant', 'pilotrequ', 'glhtlc6k', 'removide', 'faultsiaw']\", 'prefligh': \"['resevour', 'rfq', 'researvice', 'orque', 'releasae']\", 'prefligt': \"['latch2', 'autoengage', 'wrtench', 'testedflight', 'assemblyrequest']\", 'prefliht': \"['refelect', 'saki', 'bealt', 'reinsterte', '2days']\", 'prelight': \"['inbound', 'gorman', 'asap', 'ertel']\", 'prepare': \"['finding', 'inspheat', 'hfs', 'workplatform']\", 'quality': \"['accel', 'nulle', 'ski', 'etc', 'petroleum']\", 'schedued': \"['attactchment', 'pressusre', 'spat', 'as6', 'hovers']\", 'testunit': \"['troubleshootingduring', 'ringer', 'barn', 'aviaonic', 'pylonwill']\", 'annaual': \"['meassage', 'tubbing', 'assemeble', 'armourd', 'initialy']\", 'annnual': \"['confidenceni', 'replacedlongitudinal', 'swaqge', 'requencie', 'conteh']\", 'annuual': \"['hatts', 'onreplacement', 'wd6uaa', 'imoroper', 'envriment']\", 'biennal': \"['hedspace', 'linnk', 'canope', 'wwtr', 'completeqca']\", 'cheange': \"['quarterlly', 'emergencty', 'phelps', 'zoose', 'intercomp']\", 'comply': \"['amam', 'swage', 'asam', 'pendant', 'tr']\", 'curciut': \"['ajacent', 'seqpc', 'distributor2nd', 'w6hkf9', 'codder']\", 'curcuit': \"['readable', 'significantly', 'coordination', 'lgt', 'intermitantly']\", 'detect': \"['controller', 'det', 'avr', 'il', 'operating']\", 'detects': \"['yelloq', 'cornert', 'd3bf', 'wrj', 'm6v4']\", 'filler': \"['hysol', 'abrasion', 'touch']\", 'inpect': \"['preventitive', 'add1', 'icjw', 'conjucntion', 'conjution']\", 'insepec': \"['skinndi', 'rresample', 'diffusr', 'sensorintermitent', 'repairmultiple']\", 'inspdue': \"['completeinspect', 'inspectionlau', 'tiresreplace', 'snowplow', 'testedlow']\", 'inspece': \"['isdraine', 'tide', 'servor', 'bitch', 'hangat']\", 'intital': \"['reqrdservere', 'henry', 'sm1', 'servicesreset', 'intermediated']\", 'isnpect': \"['utvsl', 'ngbdomops1', 'ks', 'nkr', 'sleave']\", 'monthly': \"['weekly', 'vrc', 'trc', 'cxp']\", 'months': \"['generater', 'reatarde', 'ncm', 'deterriorate', 'yw']\", 'onspect': \"['servicale', 'subsiquent', 'serialp', 'clipclip', 'rpaddle']\", 'prepair': \"['rivte', 'bhh', '1tunnel', 'iformation', 'nazeam']\", 'prevent': \"['profile', 'soon', 'secured', 'become', 'unless']\", 'reteste': \"['colletive', 'brief', 'fallback', 'pst', 'intend']\", 'testiaw': \"['uunder', 'inspectiocomplete', 'met', 'illisheim', 'maggard']\", 'testinf': \"['adhvesive', 'ratchting', 'checkreplacement', 'day5', 'hardwarde']\", 'testing': \"['teca', 'amplifier', 'atg', 'amp', 'ciu']\", 'testion': \"['lapto', 'shootingfm2', 'repairmultiple', 'fuslt', 'lipot']\", 'testset': \"['eda', 'thoroughly', 'deselecte', 'endoscopic']\", 'warped': \"['cu', 'deselecte', 'inus', 'impsa', 'iot']\", 'annaul': \"['sd', 'reflector', 'eyecup', 'biannual']\", 'annuel': \"['incompatable', 'missng', 'elar', 'adjusted2', 'reguarly']\", 'assure': \"['chattering', 'replacedreaction', 'salve', 'repetitive', 'indiate']\", 'insect': \"['5july', 'extente', 'balancetail', 'perorm']\", 'inspct': \"['routere', 'unistalled', 'redrille', 'piv', 'remval']\", 'inspec': \"['vg6', 'inspectionw', 'nco', 'transit', 'sat']\", 'inspet': \"['lonb', 'footswitche', 'ndiphase', 'replacementpilot', 'manutfacture']\", 'intial': \"['joh', 'classification', 'site', 'mmh', 'inital']\", 'ispect': \"['shaped', 'cmwws', 'relaxed', 'ksli', 'r8dated8jul']\", 'moistu': \"['intm', 'extinsible', 'metalrequeste', 'wornbeare', 'sli']\", 'month': \"['bldg', 'rqrd', 'tub', 'overdue', 'week']\", 'monthy': \"['bdate', 'overborad', 'illisheim', 'uunder', 'jsb']\", 'montly': \"['acftpmd', 'goodic', 'incorrectley', 'insppreform', 'disperse']\", 'nspect': \"['poly', 'reuqire', 'inoard', 'mfr', 'replacent']\", 'preflt': \"['chaffed', 'beneath', 's1', 'sightglass', 'easily']\", 'prefor': \"['positionleft', 'sybmbol', 'unscheduledleft', 'rotorengine', 'impeed']\", 'qualty': \"['rotorengine', 'entryinsp', 'ohase', 'sstem', 'axis2']\", 'reinsp': \"['stablization', 'scouring', 'rerequire', 'intermittitently', 'deficancie']\", 'retest': \"['exe', 'differentiate', 'panell', 'replacedphase', 'umark']\", 'screen': \"['blower', 'cbox', 'vent', 'behind']\", 'tesion': \"['initialrev', 'maginifye', 'voiv', 'metlic', 'anttenas']\", 'tested': \"['puck', 'jh', 'mw', 'ed', 'mcfadden']\", 'tester': \"['tmde', 'jcb', 'ef', 'bii', 'internati']\", 'testng': \"['hutcheson', 'nrts1fail', 'draq', 'emaill', 'gff5dtjc']\", 'annua': \"['startsignal', 'airsource', 'aceptance', 'ratio', 'lugreset']\", 'anual': \"['deselecte', 'inus', 'decontaminiation', 'baldor']\", 'daily': \"['awrs', 'preventive', 'specify', 'bays', 'accordance']\", 'eval': \"['abort', 'observe', 'fluctuate', 'nr', 'rise']\", 'iinsp': \"['gt', 'phenelic', 'partsdisassemble', 'serrate', 'blabe']\", 'injsp': \"['routte', 'cplamp', 'ginn', 'hoistpendant', 'antrotation']\", 'inpsd': \"['duetoggle', 'linehyd', 'replacedmast', 'pclrequeste', 'ldds']\", 'insop': \"['nrtspressure', 'complye', 'replacementbroken', 'excessivelly', 'storeroom']\", 'insp': \"['a', 'x', 'upgrade', 'due', 'status']\", 'inspc': \"['cmplete', 'conjution', 'complet', 'coplete', 'conjucntion']\", 'inspe': \"['visualcomplete', 'baffel', 'completen', 'dinsp']\", 'inspo': \"['xchange', 'initiation', 'brittle', 'unil', 'klesert']\", 'insps': \"['pm', 'schd', 'unscheduled', 'defib']\", 'inspt': \"['wtih', 'december', '6jul', 'conplete', 'inspection4']\", 'inswp': \"['dcr', 'compliede', 'initiation', 'repairedload', 'tansmitter']\", 'inti': \"['fnbx', 'dlk', 'intermentally', 'bushinglag', 'maintemance']\", 'isnpc': \"['wtub', 'hanset', 'picuture', 'trial', 'lockscrew']\", 'loadt': \"['zeuss', 'indictator', 'seterioration', 'sealand', 'outgoing']\", 'moist': \"['appen', 'llg', 'bulbe', 'corrodde', 'stripppe']\", 'phase': \"['reinst', 'facilitate', 'completion', 'removed', 'turret']\", 'pmi1': \"['btwn', 'viscous', 'distributor', 'maintenace']\", 'pmi2': \"['disassembly', 'distributor', 'btwn', 'depanel']\", 'pmi3': \"['pmsacft', 'deamand', 'experice', 'prescribedin', 'apapche']\", 'teset': \"['4f9quarterly', 'vernier', 'grtu', 'initate', 'popswhen']\", 'test': \"['ok', 'good', 'turn', 'inop', 'reset']\", 'teste': \"['lhrear', 'bushinglag', 'succeptabe', 'specifiy', 'leank']\", 'testi': \"['reocket', 'incicator', 'g4', 'appt', 'johsnon']\", 'tests': \"['barn', '3possible', 'repairedby', 'aircrraft', 'housing3']\", 'tilt': \"['suspension', 'mdl', 'freightliner', '2fy']\", 'aoap': \"['lab', 'abnormal', 'resample', 'content', 'ppm']\", 'dail': \"['emg', 'jh6annual', 'waring', 'tiesday', 'iinstalle']\", 'inps': \"['compleed', 'complette', 'completeed', 'duew']\", 'ins': \"['faqult', 'egi2', 'fault6', 'compltete', 'adn']\", 'isnp': \"['spiveyserviceability', 'tuckerserviceability', 'inspserviceability', 'mw', 'packserviceability']\", 'nisp': \"['assemblyhole', '2a7', 'lonhgbow', 'imprperly', 'sercurity']\", 'prep': \"['indirect', 'supportrequeste', 'nco', 'sats', 'olr']\", 'prev': \"['tention', 'cel', 'conplete', 'cks', '5hrs']\", 'ti': \"['technical', 'pid', 'a4', 'dump', 'wa']\", 'te': \"['ra', 'yc', 'trc', 'classification', 'millimeter']\", 'tesr': \"['spirometer', 'bootred', 'sofadd2', 'lsb', 'repairmultiple']\", 'tess': \"['exercise', 'training', 'october', 'reconfiguration', 'instalation']\", 'tid': \"['preflighte', 'colletive', 'orginal', 'incompatible', 'fg2']\", 'ae': \"['bfa', 'biannual', 'fss', 'retae', 'handguard']\", 'ann': \"['sd', 'djv', '4ag', 'reg']\", 'hsc': \"['lmdbh', 'ecdh', 'indx', 'events', 'tti']\", 'lti': \"['multiquip', 'internati', 'cor', 'inf', 'transcraft']\", 'noe': \"['cleanse', 'touching', 'opertation', 'unistalle', 'pior']\", 'nsp': \"['completeed', 'conjnction', 'compleed', 'preventitive']\", 'pmi': \"['progress', 'disassembly', 'disassemble']\", 'qc': \"['m1', 'recovery', 'school', 'records']\", 'tet': \"['eej', 'lightbar', 'mounti', 'trash', 'apt']\", 'til': \"['defrre', 'complette', 'cojunction', '3july', 'wih']\", 'qa': \"['hard', 'reflect', 'copy', 'school']\", 'nan': \"['complwte', 'reprovision', 'breare', 'completeq', 'watertight']\"}\n"
     ]
    }
   ],
   "source": [
    "#with open(\"/Users/mh302/OneDrive - West Point/Backup/ORCEN/CPO/deep_learning/proposed_new_sws_dict.csv\") as f:\n",
    "    \n",
    "import csv\n",
    "\n",
    "with open('/Users/mh302/OneDrive - West Point/Backup/ORCEN/CPO/deep_learning/proposed_new_sws_dict.csv', mode='r') as infile:\n",
    "    reader = csv.reader(infile)\n",
    "#     with open('coors_new.csv', mode='w') as outfile:\n",
    "#         writer = csv.writer(outfile)\n",
    "    mydict = {rows[0]:rows[1].replace('\"', '') for rows in reader}\n",
    "\n",
    "    \n",
    "for key in mydict.keys():\n",
    "    mydict[key] = mydict[key].replace('\"', '')\n",
    "print(mydict)"
   ]
  },
  {
   "cell_type": "code",
   "execution_count": 264,
   "metadata": {},
   "outputs": [
    {
     "data": {
      "text/plain": [
       "2422"
      ]
     },
     "execution_count": 264,
     "metadata": {},
     "output_type": "execute_result"
    }
   ],
   "source": [
    "num_proposed_keywords = 0\n",
    "for value in mydict.values():\n",
    "    num_proposed_keywords += len(value.split())\n",
    "num_proposed_keywords"
   ]
  },
  {
   "cell_type": "code",
   "execution_count": null,
   "metadata": {},
   "outputs": [],
   "source": []
  }
 ],
 "metadata": {
  "kernelspec": {
   "display_name": "Python 3",
   "language": "python",
   "name": "python3"
  },
  "language_info": {
   "codemirror_mode": {
    "name": "ipython",
    "version": 3
   },
   "file_extension": ".py",
   "mimetype": "text/x-python",
   "name": "python",
   "nbconvert_exporter": "python",
   "pygments_lexer": "ipython3",
   "version": "3.7.4"
  }
 },
 "nbformat": 4,
 "nbformat_minor": 2
}
